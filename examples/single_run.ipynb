{
 "cells": [
  {
   "cell_type": "markdown",
   "metadata": {},
   "source": [
    "# Run single analysis\n",
    "\n",
    "This notebook describes how to run a single analysis from a set of parameters and precipitation data\n",
    "\n",
    "## First, importing the model"
   ]
  },
  {
   "cell_type": "code",
   "execution_count": 2,
   "metadata": {},
   "outputs": [],
   "source": [
    "# Importing the model\n",
    "import lsdfailtools.iverson2000 as iverson\n",
    "# I'll need that to process the outputs\n",
    "import pandas as pd\n",
    "import numpy as np\n",
    "\n",
    "# rainfall data\n",
    "df = pd.read_csv(\"preprocessed_data.csv\")\n",
    "\n",
    "## Setting up the depths vector\n",
    "depths = np.arange(0.2,3.1,0.1)"
   ]
  },
  {
   "cell_type": "markdown",
   "metadata": {},
   "source": [
    "## Setting the Parameters\n",
    "\n",
    "Here we just set the parameters of the model before the run"
   ]
  },
  {
   "cell_type": "code",
   "execution_count": 4,
   "metadata": {},
   "outputs": [],
   "source": [
    "mymodel = iverson.iverson_model(alpha = 0.51, D_0 = 5e-6,K_sat = 5e-8, d = 2,Iz_over_K_steady = 0.2,\n",
    "      friction_angle = 0.38, cohesion = 12000, weight_of_water = 9800, \n",
    "      weight_of_soil = 19000, depths = depths)"
   ]
  },
  {
   "cell_type": "markdown",
   "metadata": {},
   "source": [
    "## Running the model\n",
    "Straightforward"
   ]
  },
  {
   "cell_type": "code",
   "execution_count": 5,
   "metadata": {},
   "outputs": [],
   "source": [
    "mymodel.run(df.duration_s.values, df.intensity_mm_sec.values)"
   ]
  },
  {
   "cell_type": "markdown",
   "metadata": {},
   "source": [
    "## Outputs\n",
    "\n",
    "The raw outputs are reachable through the model object"
   ]
  },
  {
   "cell_type": "code",
   "execution_count": null,
   "metadata": {},
   "outputs": [],
   "source": [
    "mymodel.cppmodel.output_times\n",
    "mymodel.cppmodel.output_depthsFS\n",
    "mymodel.cppmodel.output_minFS\n",
    "mymodel.cppmodel.output_PsiFS\n",
    "mymodel.cppmodel.output_durationFS\n",
    "mymodel.cppmodel.output_intensityFS\n",
    "mymodel.cppmodel.output_failure_times\n",
    "mymodel.cppmodel.output_failure_mindepths\n",
    "mymodel.cppmodel.output_failure_maxdepths\n",
    "mymodel.cppmodel.output_Psi_timedepth\n",
    "mymodel.cppmodel.output_FS_timedepth\n",
    "mymodel.cppmodel.output_failure_bool"
   ]
  },
  {
   "cell_type": "code",
   "execution_count": null,
   "metadata": {},
   "outputs": [],
   "source": []
  },
  {
   "cell_type": "code",
   "execution_count": null,
   "metadata": {},
   "outputs": [],
   "source": []
  }
 ],
 "metadata": {
  "kernelspec": {
   "display_name": "Python 3",
   "language": "python",
   "name": "python3"
  },
  "language_info": {
   "codemirror_mode": {
    "name": "ipython",
    "version": 3
   },
   "file_extension": ".py",
   "mimetype": "text/x-python",
   "name": "python",
   "nbconvert_exporter": "python",
   "pygments_lexer": "ipython3",
   "version": "3.7.1"
  }
 },
 "nbformat": 4,
 "nbformat_minor": 4
}
