{
 "cells": [
  {
   "cell_type": "markdown",
   "metadata": {},
   "source": [
    "# How to do a Monte-Carlo simulation of failure times with lsdfailtools \n",
    "\n",
    "This notebook shows how to set up the range of parameters and run a given number of simulation on parallel cores\n",
    "\n",
    "## First let's import the model and the rainfall data"
   ]
  },
  {
   "cell_type": "code",
   "execution_count": 1,
   "metadata": {},
   "outputs": [],
   "source": [
    "# Importing the model\n",
    "import lsdfailtools.iverson2000 as iverson\n",
    "# I'll need that to process the outputs\n",
    "import pandas as pd\n",
    "import numpy as np\n",
    "\n",
    "# rainfall data\n",
    "df = pd.read_csv(\"preprocessed_data.csv\")\n",
    "\n",
    "# Setting the depth resolution vector\n",
    "depths = np.arange(0.2,3.1,0.1)\n"
   ]
  },
  {
   "cell_type": "markdown",
   "metadata": {},
   "source": [
    "## Now let's set up the parameter ranges\n",
    "\n",
    "The function call is a bit chunky but simply add the different minimum and maximum values for eahc parameter and the code will randomly sample values within it.\n",
    "\n",
    "Note that `D_0`and `K_sat_min` are sampled in log space and the other are uniform. The depth resolution needs to be the same for each siumulation."
   ]
  },
  {
   "cell_type": "code",
   "execution_count": 2,
   "metadata": {},
   "outputs": [],
   "source": [
    "MCrun = iverson.MonteCarlo_Iverson( alpha_min = 0.1, D_0_min = 1e-6,K_sat_min = 1e-8, d_min = 0.5,Iz_over_K_steady_min = 0.1,\n",
    "      friction_angle_min = 0.2, cohesion_min = 5000, weight_of_water_min = 9800, \n",
    "      weight_of_soil_min = 15000, alpha_max = 0.8, D_0_max = 1e-4,K_sat_max = 1e-6, d_max = 3,Iz_over_K_steady_max = 0.8,\n",
    "      friction_angle_max = 0.5, cohesion_max = 20000, weight_of_water_max = 9801, \n",
    "      weight_of_soil_max = 25000, depths = depths)"
   ]
  },
  {
   "cell_type": "markdown",
   "metadata": {},
   "source": [
    "## Now let's run the simulations\n",
    "\n",
    "The simulation are run for a given set of precipitation record. The simulation can take a lot of time, it saves the output into a csv every 20 simulations if you need to look at intermediate resulsts."
   ]
  },
  {
   "cell_type": "code",
   "execution_count": 3,
   "metadata": {},
   "outputs": [],
   "source": [
    "MCrun.run_MC_failure_test(df[\"duration_s\"].values, df[\"intensity_mm_sec\"].values,\n",
    "                          n_process = 2, output_name = \"test_MC.csv\", n_iterations = 100, replace = True)\n"
   ]
  },
  {
   "cell_type": "markdown",
   "metadata": {},
   "source": [
    "## Now Checking the output\n",
    "\n",
    "Let's load the csv filecontaining the result. The column \"time_of_failure\" contains the ... time of failure. -9999 Means no failure and 0. means failure from scratch."
   ]
  },
  {
   "cell_type": "code",
   "execution_count": 5,
   "metadata": {},
   "outputs": [
    {
     "data": {
      "text/plain": [
       "0      9942329.0\n",
       "1        -9999.0\n",
       "2     13722434.0\n",
       "3        -9999.0\n",
       "4        -9999.0\n",
       "         ...    \n",
       "95           0.0\n",
       "96       -9999.0\n",
       "97       -9999.0\n",
       "98     9719127.0\n",
       "99       -9999.0\n",
       "Name: time_of_failure, Length: 100, dtype: float64"
      ]
     },
     "execution_count": 5,
     "metadata": {},
     "output_type": "execute_result"
    }
   ],
   "source": [
    "res = pd.read_csv(\"test_MC.csv\")\n",
    "res[\"time_of_failure\"]"
   ]
  },
  {
   "cell_type": "code",
   "execution_count": null,
   "metadata": {},
   "outputs": [],
   "source": []
  }
 ],
 "metadata": {
  "kernelspec": {
   "display_name": "Python 3",
   "language": "python",
   "name": "python3"
  },
  "language_info": {
   "codemirror_mode": {
    "name": "ipython",
    "version": 3
   },
   "file_extension": ".py",
   "mimetype": "text/x-python",
   "name": "python",
   "nbconvert_exporter": "python",
   "pygments_lexer": "ipython3",
   "version": "3.8.3"
  }
 },
 "nbformat": 4,
 "nbformat_minor": 4
}
