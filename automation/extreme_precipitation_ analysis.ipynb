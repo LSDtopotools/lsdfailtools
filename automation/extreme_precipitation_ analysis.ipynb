{
 "cells": [
  {
   "cell_type": "code",
   "execution_count": 2,
   "id": "00c47813-c95b-4517-819d-822941367375",
   "metadata": {},
   "outputs": [],
   "source": [
    "import pandas as pd\n",
    "import numpy as np\n",
    "import seaborn as sns\n",
    "import warnings\n",
    "warnings.filterwarnings(\"ignore\")"
   ]
  },
  {
   "cell_type": "code",
   "execution_count": 5,
   "id": "839f7078-41d4-4a51-a761-152f84bf97b0",
   "metadata": {},
   "outputs": [],
   "source": [
    "calib_file = '/exports/csce/datastore/geos/groups/LSDTopoData/FORESEE/Data/Calibration/Calibrated_FoS_depth.csv'\n",
    "calib = pd.read_csv(calib_file)"
   ]
  },
  {
   "cell_type": "code",
   "execution_count": 3,
   "id": "e3f1d4a3-7a16-4e25-9551-214082fdebb2",
   "metadata": {},
   "outputs": [],
   "source": [
    "valid_file = \"./Validated_updated_FoS_depth.csv\"\n",
    "valid = pd.read_csv(valid_file)"
   ]
  },
  {
   "cell_type": "markdown",
   "id": "df766ae7-ffe2-4c9a-ae3a-0cdcbafc11d5",
   "metadata": {},
   "source": [
    "### All precipitation timeseries - length 1826 - early peak "
   ]
  },
  {
   "cell_type": "code",
   "execution_count": 130,
   "id": "3a944a12-fc56-4ab8-a5ab-982cee3549ba",
   "metadata": {},
   "outputs": [],
   "source": [
    "all_precip_early_file = './Validated_updated_FoS_depth_all_days_early.csv'\n",
    "all_precip_early = pd.read_csv(all_precip_early_file)"
   ]
  },
  {
   "cell_type": "code",
   "execution_count": 131,
   "id": "b7d51d61-b8f9-4959-b5b9-0643de8d17a7",
   "metadata": {},
   "outputs": [],
   "source": [
    "non_zero_indexes_all = all_precip_early.index[all_precip_early['factor_of_safety'] != 0].tolist()"
   ]
  },
  {
   "cell_type": "code",
   "execution_count": null,
   "id": "00210466-8418-4f8e-8f87-a310cc00b319",
   "metadata": {},
   "outputs": [],
   "source": [
    "non_zero_indexes_all[:20]"
   ]
  },
  {
   "cell_type": "code",
   "execution_count": 31,
   "id": "a91b8e76-06ed-4289-aad4-c85f248831fa",
   "metadata": {},
   "outputs": [],
   "source": [
    "# plot the points which are non-zero with the ones that are \n",
    "#all_precip_early_non_zero = all_precip_early.iloc[non_zero_indexes_all]\n"
   ]
  },
  {
   "cell_type": "code",
   "execution_count": 132,
   "id": "89172fde-4590-47cc-858c-d8fffe13fbc6",
   "metadata": {},
   "outputs": [],
   "source": [
    "all_precip_early['is_it_failure'] = np.where(all_precip_early['time_of_failure']!= 0, True, False)"
   ]
  },
  {
   "cell_type": "code",
   "execution_count": 124,
   "id": "b5682307-c249-4212-89a7-d2c285345525",
   "metadata": {},
   "outputs": [],
   "source": [
    "#all_precip_early['time_of_failure'] = all_precip_early['time_of_failure']/86400\n",
    "all_precip_early['time_of_failure'] = all_precip_early['time_of_failure'].apply(lambda x: x/86400)\n"
   ]
  },
  {
   "cell_type": "code",
   "execution_count": 134,
   "id": "809977a3-2932-4882-bfe6-8850807dfe5f",
   "metadata": {},
   "outputs": [],
   "source": [
    "true_failures=all_precip_early.loc[all_precip_early['is_it_failure'] == True]\n"
   ]
  },
  {
   "cell_type": "code",
   "execution_count": 127,
   "id": "b6d2aadd-e25c-41d8-a01f-a310194befd2",
   "metadata": {},
   "outputs": [
    {
     "data": {
      "image/png": "[encoded data removed]",
      "text/plain": [
       "<Figure size 1620x180 with 9 Axes>"
      ]
     },
     "metadata": {
      "needs_background": "light"
     },
     "output_type": "display_data"
    }
   ],
   "source": [
    "x_vars = ['alpha','D_0', 'K_sat', 'd', 'Iz_over_K_steady', 'friction_angle', 'cohesion', 'weight_of_water', 'weight_of_soil']\n",
    "y_vars = ['time_of_failure']\n",
    "g = sns.PairGrid(true_failures, hue=\"is_it_failure\", x_vars=x_vars, y_vars=y_vars)\n",
    "g = g.map(sns.scatterplot)\n"
   ]
  },
  {
   "cell_type": "markdown",
   "id": "abd20aa0-bf70-44cd-8031-215bc609a541",
   "metadata": {},
   "source": [
    "### Short precipitation timeseries - length 100 - early peak "
   ]
  },
  {
   "cell_type": "code",
   "execution_count": 38,
   "id": "1c355ab4-de73-4dbb-bb48-40183eb7dad7",
   "metadata": {},
   "outputs": [],
   "source": [
    "short_precip_early_file = './early_Validated_updated_FoS_depth_100.csv'\n",
    "short_precip_early = pd.read_csv(short_precip_early_file)"
   ]
  },
  {
   "cell_type": "code",
   "execution_count": 39,
   "id": "d5229d7c-aad8-41ba-b03d-a248d293b4b6",
   "metadata": {},
   "outputs": [],
   "source": [
    "non_zero_indexes_short = short_precip_early.index[short_precip_early['factor_of_safety'] != 0].tolist()"
   ]
  },
  {
   "cell_type": "code",
   "execution_count": null,
   "id": "71813975-1126-4e19-adb7-bc9bf0f828b1",
   "metadata": {},
   "outputs": [],
   "source": [
    "non_zero_indexes_short[:20]"
   ]
  },
  {
   "cell_type": "code",
   "execution_count": 40,
   "id": "7c65d758-4971-4dec-bc2d-3f1822f75cd8",
   "metadata": {},
   "outputs": [],
   "source": [
    "early_precip_early_non_zero = short_precip_early.iloc[non_zero_indexes_short]\n"
   ]
  },
  {
   "cell_type": "code",
   "execution_count": null,
   "id": "abd64617-d2c7-4107-976f-2a1fed4919ee",
   "metadata": {},
   "outputs": [],
   "source": [
    "early_precip_early_non_zero.head(10)"
   ]
  },
  {
   "cell_type": "code",
   "execution_count": null,
   "id": "cef553cc-0633-457a-8015-1531685dc022",
   "metadata": {},
   "outputs": [],
   "source": []
  },
  {
   "cell_type": "markdown",
   "id": "968ef6f8-0750-4c79-ab67-086f7ff65a31",
   "metadata": {},
   "source": [
    "### Short Precipitation Timeseries - length 100, late peak "
   ]
  },
  {
   "cell_type": "code",
   "execution_count": 20,
   "id": "cdb801bd-2255-4547-b078-be7662d59d43",
   "metadata": {},
   "outputs": [],
   "source": [
    "short_precip_late_file = './late_Validated_updated_FoS_depth_100.csv'\n",
    "short_precip_late = pd.read_csv(short_precip_late_file)"
   ]
  },
  {
   "cell_type": "code",
   "execution_count": 21,
   "id": "a5613e11-8586-4914-8c5c-ed1cb7ee8932",
   "metadata": {},
   "outputs": [],
   "source": [
    "non_zero_indexes_short = short_precip_late.index[short_precip_late['factor_of_safety'] != 0].tolist()"
   ]
  },
  {
   "cell_type": "code",
   "execution_count": null,
   "id": "cc2c4114-c7ba-4ec7-b49b-af5ce32e3a66",
   "metadata": {},
   "outputs": [],
   "source": [
    "non_zero_indexes_short[:20]"
   ]
  },
  {
   "cell_type": "markdown",
   "id": "8b57e5be-71f2-4a55-9809-eec0b6c7cff5",
   "metadata": {},
   "source": [
    "### Short Precipitation Timeseries - length 100 - all values 0.001"
   ]
  },
  {
   "cell_type": "code",
   "execution_count": 14,
   "id": "9ada4358-7702-4569-8241-48470cee80d8",
   "metadata": {},
   "outputs": [],
   "source": [
    "short_precip_early_file_001 = './early_Validated_updated_FoS_depth_100_0.001.csv'\n",
    "short_precip_early_001 = pd.read_csv(short_precip_early_file_001)"
   ]
  },
  {
   "cell_type": "code",
   "execution_count": 15,
   "id": "562aaf4a-928f-448b-a4f2-cbeb32259e6c",
   "metadata": {},
   "outputs": [],
   "source": [
    "non_zero_indexes_short_001 = short_precip_early_001.index[short_precip_early_001['factor_of_safety'] != 0].tolist()"
   ]
  },
  {
   "cell_type": "code",
   "execution_count": null,
   "id": "7016f9db-7d77-4a2c-a17e-d4af8873e345",
   "metadata": {},
   "outputs": [],
   "source": [
    "non_zero_indexes_short_001[:30]"
   ]
  },
  {
   "cell_type": "markdown",
   "id": "55d17485-5890-48bc-8d5d-c8f8b5db745f",
   "metadata": {},
   "source": [
    "### Short Precipitation Timeseries - lenth 100 - all values 0"
   ]
  },
  {
   "cell_type": "code",
   "execution_count": 23,
   "id": "890573e5-2fb6-4111-b018-8b0cfe3d1948",
   "metadata": {},
   "outputs": [],
   "source": [
    "short_precip_early_file_0 = './early_Validated_updated_FoS_depth_100_0.csv'\n",
    "short_precip_early_0 = pd.read_csv(short_precip_early_file_0)"
   ]
  },
  {
   "cell_type": "code",
   "execution_count": 24,
   "id": "c5f982f1-496b-44cf-af72-c544975e8fac",
   "metadata": {},
   "outputs": [],
   "source": [
    "non_zero_indexes_short_0 = short_precip_early_0.index[short_precip_early_0['factor_of_safety'] != 0].tolist()"
   ]
  },
  {
   "cell_type": "code",
   "execution_count": 25,
   "id": "b808cf28-8b42-4ec0-ae80-094d578b6f4e",
   "metadata": {},
   "outputs": [
    {
     "data": {
      "text/plain": [
       "[]"
      ]
     },
     "execution_count": 25,
     "metadata": {},
     "output_type": "execute_result"
    }
   ],
   "source": [
    "non_zero_indexes_short_0[:30]"
   ]
  },
  {
   "cell_type": "code",
   "execution_count": 62,
   "id": "849d91c8-ad2f-49ba-b9fe-c019d21d5290",
   "metadata": {},
   "outputs": [],
   "source": [
    "### Plotting the data with highlights of the points that fail early\n",
    "#failures_file = \"/exports/csce/datastore/geos/groups/LSDTopoData/FORESEE/Data/Calibration/Validated_updated_FoS_depth.csv\"\n",
    "\n",
    "valid_all_file = '/exports/csce/datastore/geos/groups/LSDTopoData/FORESEE/Data/Calibration/Validated_updated_FoS_depth.csv'\n",
    "valid_all = pd.read_csv(valid_all_file)"
   ]
  },
  {
   "cell_type": "code",
   "execution_count": 63,
   "id": "bd2c4d5a-5b44-4367-b7a3-eaa715251117",
   "metadata": {},
   "outputs": [
    {
     "data": {
      "text/plain": [
       "<AxesSubplot:xlabel='time_of_failure', ylabel='K_sat'>"
      ]
     },
     "execution_count": 63,
     "metadata": {},
     "output_type": "execute_result"
    },
    {
     "data": {
      "image/png": "[encoded data removed]",
      "text/plain": [
       "<Figure size 432x288 with 1 Axes>"
      ]
     },
     "metadata": {
      "needs_background": "light"
     },
     "output_type": "display_data"
    }
   ],
   "source": [
    "sns.scatterplot(valid_all['time_of_failure']/86400, valid_all['K_sat'])"
   ]
  },
  {
   "cell_type": "code",
   "execution_count": 64,
   "id": "e693f008-f3df-441d-b4f8-fdfd0d8badef",
   "metadata": {},
   "outputs": [
    {
     "data": {
      "text/plain": [
       "<AxesSubplot:xlabel='time_of_failure', ylabel='Count'>"
      ]
     },
     "execution_count": 64,
     "metadata": {},
     "output_type": "execute_result"
    },
    {
     "data": {
      "image/png": "[encoded data removed]",
      "text/plain": [
       "<Figure size 432x288 with 1 Axes>"
      ]
     },
     "metadata": {
      "needs_background": "light"
     },
     "output_type": "display_data"
    }
   ],
   "source": [
    "sns.histplot(valid_all['time_of_failure']/86400)"
   ]
  },
  {
   "cell_type": "code",
   "execution_count": null,
   "id": "cee4a0bc-9771-411c-9212-ac1103bc4f3b",
   "metadata": {},
   "outputs": [],
   "source": [
    "g = sns.PairGrid(valid_all)\n",
    "g.map(sns.scatterplot)"
   ]
  },
  {
   "cell_type": "code",
   "execution_count": 46,
   "id": "dd9a87a1-a9e8-476a-b044-6e41de429e7e",
   "metadata": {},
   "outputs": [
    {
     "data": {
      "text/plain": [
       "Index(['alpha', 'D_0', 'K_sat', 'd', 'Iz_over_K_steady', 'friction_angle',\n",
       "       'cohesion', 'weight_of_water', 'weight_of_soil', 'time_of_failure',\n",
       "       'factor_of_safety', 'min_depth', 'S', 'Z', 'row', 'col',\n",
       "       'observed_failtime'],\n",
       "      dtype='object')"
      ]
     },
     "execution_count": 46,
     "metadata": {},
     "output_type": "execute_result"
    }
   ],
   "source": [
    "valid_all.columns"
   ]
  },
  {
   "cell_type": "code",
   "execution_count": 69,
   "id": "a4086472-0905-409d-9976-32a133ecd50f",
   "metadata": {},
   "outputs": [],
   "source": [
    "valid_all['is_it_failure'] = np.where(valid_all['time_of_failure']!= 0, False, True)"
   ]
  },
  {
   "cell_type": "code",
   "execution_count": 73,
   "id": "7a0cd375-3d87-483e-8877-054c60c82503",
   "metadata": {},
   "outputs": [
    {
     "data": {
      "text/html": [
       "<div>\n",
       "<style scoped>\n",
       "    .dataframe tbody tr th:only-of-type {\n",
       "        vertical-align: middle;\n",
       "    }\n",
       "\n",
       "    .dataframe tbody tr th {\n",
       "        vertical-align: top;\n",
       "    }\n",
       "\n",
       "    .dataframe thead th {\n",
       "        text-align: right;\n",
       "    }\n",
       "</style>\n",
       "<table border=\"1\" class=\"dataframe\">\n",
       "  <thead>\n",
       "    <tr style=\"text-align: right;\">\n",
       "      <th></th>\n",
       "      <th>alpha</th>\n",
       "      <th>D_0</th>\n",
       "      <th>K_sat</th>\n",
       "      <th>d</th>\n",
       "      <th>Iz_over_K_steady</th>\n",
       "      <th>friction_angle</th>\n",
       "      <th>cohesion</th>\n",
       "      <th>weight_of_water</th>\n",
       "      <th>weight_of_soil</th>\n",
       "      <th>time_of_failure</th>\n",
       "      <th>factor_of_safety</th>\n",
       "      <th>min_depth</th>\n",
       "      <th>S</th>\n",
       "      <th>Z</th>\n",
       "      <th>row</th>\n",
       "      <th>col</th>\n",
       "      <th>observed_failtime</th>\n",
       "      <th>is_it_failure</th>\n",
       "    </tr>\n",
       "  </thead>\n",
       "  <tbody>\n",
       "    <tr>\n",
       "      <th>0</th>\n",
       "      <td>0.050537</td>\n",
       "      <td>0.000005</td>\n",
       "      <td>2.210798e-08</td>\n",
       "      <td>3.236842</td>\n",
       "      <td>0.241674</td>\n",
       "      <td>0.20019</td>\n",
       "      <td>12116.307194</td>\n",
       "      <td>9800.851942</td>\n",
       "      <td>16740.399761</td>\n",
       "      <td>100224000.0</td>\n",
       "      <td>-0.557541</td>\n",
       "      <td>0.1</td>\n",
       "      <td>0.050537</td>\n",
       "      <td>652.631226</td>\n",
       "      <td>4.0</td>\n",
       "      <td>690.0</td>\n",
       "      <td>16588800.0</td>\n",
       "      <td>False</td>\n",
       "    </tr>\n",
       "    <tr>\n",
       "      <th>1</th>\n",
       "      <td>0.058243</td>\n",
       "      <td>0.000005</td>\n",
       "      <td>2.210798e-08</td>\n",
       "      <td>3.236842</td>\n",
       "      <td>0.241674</td>\n",
       "      <td>0.20019</td>\n",
       "      <td>12116.307194</td>\n",
       "      <td>9800.851942</td>\n",
       "      <td>16740.399761</td>\n",
       "      <td>100224000.0</td>\n",
       "      <td>-0.467392</td>\n",
       "      <td>0.1</td>\n",
       "      <td>0.058243</td>\n",
       "      <td>655.851807</td>\n",
       "      <td>5.0</td>\n",
       "      <td>687.0</td>\n",
       "      <td>87091200.0</td>\n",
       "      <td>False</td>\n",
       "    </tr>\n",
       "  </tbody>\n",
       "</table>\n",
       "</div>"
      ],
      "text/plain": [
       "      alpha       D_0         K_sat         d  Iz_over_K_steady  \\\n",
       "0  0.050537  0.000005  2.210798e-08  3.236842          0.241674   \n",
       "1  0.058243  0.000005  2.210798e-08  3.236842          0.241674   \n",
       "\n",
       "   friction_angle      cohesion  weight_of_water  weight_of_soil  \\\n",
       "0         0.20019  12116.307194      9800.851942    16740.399761   \n",
       "1         0.20019  12116.307194      9800.851942    16740.399761   \n",
       "\n",
       "   time_of_failure  factor_of_safety  min_depth         S           Z  row  \\\n",
       "0      100224000.0         -0.557541        0.1  0.050537  652.631226  4.0   \n",
       "1      100224000.0         -0.467392        0.1  0.058243  655.851807  5.0   \n",
       "\n",
       "     col  observed_failtime  is_it_failure  \n",
       "0  690.0         16588800.0          False  \n",
       "1  687.0         87091200.0          False  "
      ]
     },
     "execution_count": 73,
     "metadata": {},
     "output_type": "execute_result"
    }
   ],
   "source": [
    "valid_all.head(2)"
   ]
  },
  {
   "cell_type": "code",
   "execution_count": 85,
   "id": "bdfc59f3-5304-4ab3-9808-d4d913c91df0",
   "metadata": {},
   "outputs": [
    {
     "data": {
      "image/png": "[encoded data removed]",
      "text/plain": [
       "<Figure size 1620x180 with 9 Axes>"
      ]
     },
     "metadata": {
      "needs_background": "light"
     },
     "output_type": "display_data"
    }
   ],
   "source": [
    "x_vars = ['alpha','D_0', 'K_sat', 'd', 'Iz_over_K_steady', 'friction_angle', 'cohesion', 'weight_of_water', 'weight_of_soil']\n",
    "y_vars = ['time_of_failure']\n",
    "g = sns.PairGrid(valid_all, hue=\"is_it_failure\", x_vars=x_vars, y_vars=y_vars)\n",
    "g = g.map(sns.scatterplot)\n"
   ]
  },
  {
   "cell_type": "code",
   "execution_count": null,
   "id": "5f8115a0-2cf1-4fee-8d15-03b5a19b57b5",
   "metadata": {},
   "outputs": [],
   "source": [
    "valid_all['is_it_failure'] = np.where(valid_all['time_of_failure']!= 0, False, True)"
   ]
  },
  {
   "cell_type": "code",
   "execution_count": 91,
   "id": "15899999-1f96-4c29-83ac-c49369ea75b1",
   "metadata": {},
   "outputs": [],
   "source": [
    "is_it_failure_col = valid_all['is_it_failure']"
   ]
  },
  {
   "cell_type": "code",
   "execution_count": 94,
   "id": "2c150949-9b96-43b0-a729-68d3bef15a60",
   "metadata": {},
   "outputs": [
    {
     "data": {
      "text/html": [
       "<div>\n",
       "<style scoped>\n",
       "    .dataframe tbody tr th:only-of-type {\n",
       "        vertical-align: middle;\n",
       "    }\n",
       "\n",
       "    .dataframe tbody tr th {\n",
       "        vertical-align: top;\n",
       "    }\n",
       "\n",
       "    .dataframe thead th {\n",
       "        text-align: right;\n",
       "    }\n",
       "</style>\n",
       "<table border=\"1\" class=\"dataframe\">\n",
       "  <thead>\n",
       "    <tr style=\"text-align: right;\">\n",
       "      <th></th>\n",
       "      <th>alpha</th>\n",
       "      <th>D_0</th>\n",
       "      <th>K_sat</th>\n",
       "      <th>d</th>\n",
       "      <th>Iz_over_K_steady</th>\n",
       "      <th>friction_angle</th>\n",
       "      <th>cohesion</th>\n",
       "      <th>weight_of_water</th>\n",
       "      <th>weight_of_soil</th>\n",
       "      <th>time_of_failure</th>\n",
       "      <th>factor_of_safety</th>\n",
       "      <th>min_depth</th>\n",
       "      <th>S</th>\n",
       "      <th>Z</th>\n",
       "      <th>row</th>\n",
       "      <th>col</th>\n",
       "      <th>observed_failtime</th>\n",
       "      <th>is_it_failure</th>\n",
       "    </tr>\n",
       "  </thead>\n",
       "  <tbody>\n",
       "    <tr>\n",
       "      <th>0</th>\n",
       "      <td>0.050537</td>\n",
       "      <td>0.000005</td>\n",
       "      <td>2.210798e-08</td>\n",
       "      <td>3.236842</td>\n",
       "      <td>0.241674</td>\n",
       "      <td>0.200190</td>\n",
       "      <td>12116.307194</td>\n",
       "      <td>9800.851942</td>\n",
       "      <td>16740.399761</td>\n",
       "      <td>100224000.0</td>\n",
       "      <td>-0.557541</td>\n",
       "      <td>0.1</td>\n",
       "      <td>0.050537</td>\n",
       "      <td>652.631226</td>\n",
       "      <td>4.0</td>\n",
       "      <td>690.0</td>\n",
       "      <td>16588800.0</td>\n",
       "      <td>False</td>\n",
       "    </tr>\n",
       "    <tr>\n",
       "      <th>1</th>\n",
       "      <td>0.058243</td>\n",
       "      <td>0.000005</td>\n",
       "      <td>2.210798e-08</td>\n",
       "      <td>3.236842</td>\n",
       "      <td>0.241674</td>\n",
       "      <td>0.200190</td>\n",
       "      <td>12116.307194</td>\n",
       "      <td>9800.851942</td>\n",
       "      <td>16740.399761</td>\n",
       "      <td>100224000.0</td>\n",
       "      <td>-0.467392</td>\n",
       "      <td>0.1</td>\n",
       "      <td>0.058243</td>\n",
       "      <td>655.851807</td>\n",
       "      <td>5.0</td>\n",
       "      <td>687.0</td>\n",
       "      <td>87091200.0</td>\n",
       "      <td>False</td>\n",
       "    </tr>\n",
       "    <tr>\n",
       "      <th>2</th>\n",
       "      <td>0.034425</td>\n",
       "      <td>0.000015</td>\n",
       "      <td>8.699790e-08</td>\n",
       "      <td>3.236842</td>\n",
       "      <td>0.136849</td>\n",
       "      <td>0.291813</td>\n",
       "      <td>17356.145740</td>\n",
       "      <td>9800.000000</td>\n",
       "      <td>18178.947821</td>\n",
       "      <td>75254400.0</td>\n",
       "      <td>-2.775330</td>\n",
       "      <td>0.1</td>\n",
       "      <td>0.034425</td>\n",
       "      <td>684.327332</td>\n",
       "      <td>14.0</td>\n",
       "      <td>770.0</td>\n",
       "      <td>91756800.0</td>\n",
       "      <td>False</td>\n",
       "    </tr>\n",
       "    <tr>\n",
       "      <th>3</th>\n",
       "      <td>0.079407</td>\n",
       "      <td>0.000005</td>\n",
       "      <td>2.210798e-08</td>\n",
       "      <td>3.236842</td>\n",
       "      <td>0.241674</td>\n",
       "      <td>0.200190</td>\n",
       "      <td>12116.307194</td>\n",
       "      <td>9800.851942</td>\n",
       "      <td>16740.399761</td>\n",
       "      <td>100224000.0</td>\n",
       "      <td>-0.295952</td>\n",
       "      <td>0.1</td>\n",
       "      <td>0.079407</td>\n",
       "      <td>711.506897</td>\n",
       "      <td>15.0</td>\n",
       "      <td>804.0</td>\n",
       "      <td>27993600.0</td>\n",
       "      <td>False</td>\n",
       "    </tr>\n",
       "    <tr>\n",
       "      <th>4</th>\n",
       "      <td>0.044569</td>\n",
       "      <td>0.000015</td>\n",
       "      <td>8.699790e-08</td>\n",
       "      <td>3.236842</td>\n",
       "      <td>0.136849</td>\n",
       "      <td>0.291813</td>\n",
       "      <td>17356.145740</td>\n",
       "      <td>9800.000000</td>\n",
       "      <td>18178.947821</td>\n",
       "      <td>75254400.0</td>\n",
       "      <td>-2.111099</td>\n",
       "      <td>0.1</td>\n",
       "      <td>0.044569</td>\n",
       "      <td>687.526672</td>\n",
       "      <td>17.0</td>\n",
       "      <td>773.0</td>\n",
       "      <td>112492800.0</td>\n",
       "      <td>False</td>\n",
       "    </tr>\n",
       "    <tr>\n",
       "      <th>...</th>\n",
       "      <td>...</td>\n",
       "      <td>...</td>\n",
       "      <td>...</td>\n",
       "      <td>...</td>\n",
       "      <td>...</td>\n",
       "      <td>...</td>\n",
       "      <td>...</td>\n",
       "      <td>...</td>\n",
       "      <td>...</td>\n",
       "      <td>...</td>\n",
       "      <td>...</td>\n",
       "      <td>...</td>\n",
       "      <td>...</td>\n",
       "      <td>...</td>\n",
       "      <td>...</td>\n",
       "      <td>...</td>\n",
       "      <td>...</td>\n",
       "      <td>...</td>\n",
       "    </tr>\n",
       "    <tr>\n",
       "      <th>4937</th>\n",
       "      <td>0.243946</td>\n",
       "      <td>0.000001</td>\n",
       "      <td>2.149675e-08</td>\n",
       "      <td>3.236842</td>\n",
       "      <td>0.246799</td>\n",
       "      <td>0.221389</td>\n",
       "      <td>7067.186369</td>\n",
       "      <td>9800.000000</td>\n",
       "      <td>19368.341169</td>\n",
       "      <td>103075200.0</td>\n",
       "      <td>0.999785</td>\n",
       "      <td>2.9</td>\n",
       "      <td>0.243946</td>\n",
       "      <td>810.950928</td>\n",
       "      <td>976.0</td>\n",
       "      <td>799.0</td>\n",
       "      <td>50803200.0</td>\n",
       "      <td>False</td>\n",
       "    </tr>\n",
       "    <tr>\n",
       "      <th>4938</th>\n",
       "      <td>0.073854</td>\n",
       "      <td>0.000004</td>\n",
       "      <td>4.431243e-08</td>\n",
       "      <td>3.236842</td>\n",
       "      <td>0.435884</td>\n",
       "      <td>0.532896</td>\n",
       "      <td>20112.726202</td>\n",
       "      <td>9800.196805</td>\n",
       "      <td>18900.605034</td>\n",
       "      <td>69379200.0</td>\n",
       "      <td>-0.125992</td>\n",
       "      <td>0.1</td>\n",
       "      <td>0.073854</td>\n",
       "      <td>854.721130</td>\n",
       "      <td>976.0</td>\n",
       "      <td>862.0</td>\n",
       "      <td>12441600.0</td>\n",
       "      <td>False</td>\n",
       "    </tr>\n",
       "    <tr>\n",
       "      <th>4939</th>\n",
       "      <td>0.139343</td>\n",
       "      <td>0.000001</td>\n",
       "      <td>2.339143e-08</td>\n",
       "      <td>3.236842</td>\n",
       "      <td>0.360760</td>\n",
       "      <td>0.427434</td>\n",
       "      <td>7282.911614</td>\n",
       "      <td>9800.687419</td>\n",
       "      <td>21484.216845</td>\n",
       "      <td>73699200.0</td>\n",
       "      <td>0.861078</td>\n",
       "      <td>0.1</td>\n",
       "      <td>0.139343</td>\n",
       "      <td>829.709045</td>\n",
       "      <td>976.0</td>\n",
       "      <td>880.0</td>\n",
       "      <td>74131200.0</td>\n",
       "      <td>False</td>\n",
       "    </tr>\n",
       "    <tr>\n",
       "      <th>4940</th>\n",
       "      <td>0.052558</td>\n",
       "      <td>0.000004</td>\n",
       "      <td>4.431243e-08</td>\n",
       "      <td>3.236842</td>\n",
       "      <td>0.435884</td>\n",
       "      <td>0.532896</td>\n",
       "      <td>20112.726202</td>\n",
       "      <td>9800.196805</td>\n",
       "      <td>18900.605034</td>\n",
       "      <td>69379200.0</td>\n",
       "      <td>-0.088257</td>\n",
       "      <td>0.1</td>\n",
       "      <td>0.052558</td>\n",
       "      <td>845.346313</td>\n",
       "      <td>977.0</td>\n",
       "      <td>875.0</td>\n",
       "      <td>41472000.0</td>\n",
       "      <td>False</td>\n",
       "    </tr>\n",
       "    <tr>\n",
       "      <th>4941</th>\n",
       "      <td>0.083336</td>\n",
       "      <td>0.000004</td>\n",
       "      <td>4.431243e-08</td>\n",
       "      <td>3.236842</td>\n",
       "      <td>0.435884</td>\n",
       "      <td>0.532896</td>\n",
       "      <td>20112.726202</td>\n",
       "      <td>9800.196805</td>\n",
       "      <td>18900.605034</td>\n",
       "      <td>69379200.0</td>\n",
       "      <td>-0.142365</td>\n",
       "      <td>0.1</td>\n",
       "      <td>0.083336</td>\n",
       "      <td>854.697815</td>\n",
       "      <td>980.0</td>\n",
       "      <td>855.0</td>\n",
       "      <td>112492800.0</td>\n",
       "      <td>False</td>\n",
       "    </tr>\n",
       "  </tbody>\n",
       "</table>\n",
       "<p>4942 rows × 18 columns</p>\n",
       "</div>"
      ],
      "text/plain": [
       "         alpha       D_0         K_sat         d  Iz_over_K_steady  \\\n",
       "0     0.050537  0.000005  2.210798e-08  3.236842          0.241674   \n",
       "1     0.058243  0.000005  2.210798e-08  3.236842          0.241674   \n",
       "2     0.034425  0.000015  8.699790e-08  3.236842          0.136849   \n",
       "3     0.079407  0.000005  2.210798e-08  3.236842          0.241674   \n",
       "4     0.044569  0.000015  8.699790e-08  3.236842          0.136849   \n",
       "...        ...       ...           ...       ...               ...   \n",
       "4937  0.243946  0.000001  2.149675e-08  3.236842          0.246799   \n",
       "4938  0.073854  0.000004  4.431243e-08  3.236842          0.435884   \n",
       "4939  0.139343  0.000001  2.339143e-08  3.236842          0.360760   \n",
       "4940  0.052558  0.000004  4.431243e-08  3.236842          0.435884   \n",
       "4941  0.083336  0.000004  4.431243e-08  3.236842          0.435884   \n",
       "\n",
       "      friction_angle      cohesion  weight_of_water  weight_of_soil  \\\n",
       "0           0.200190  12116.307194      9800.851942    16740.399761   \n",
       "1           0.200190  12116.307194      9800.851942    16740.399761   \n",
       "2           0.291813  17356.145740      9800.000000    18178.947821   \n",
       "3           0.200190  12116.307194      9800.851942    16740.399761   \n",
       "4           0.291813  17356.145740      9800.000000    18178.947821   \n",
       "...              ...           ...              ...             ...   \n",
       "4937        0.221389   7067.186369      9800.000000    19368.341169   \n",
       "4938        0.532896  20112.726202      9800.196805    18900.605034   \n",
       "4939        0.427434   7282.911614      9800.687419    21484.216845   \n",
       "4940        0.532896  20112.726202      9800.196805    18900.605034   \n",
       "4941        0.532896  20112.726202      9800.196805    18900.605034   \n",
       "\n",
       "      time_of_failure  factor_of_safety  min_depth         S           Z  \\\n",
       "0         100224000.0         -0.557541        0.1  0.050537  652.631226   \n",
       "1         100224000.0         -0.467392        0.1  0.058243  655.851807   \n",
       "2          75254400.0         -2.775330        0.1  0.034425  684.327332   \n",
       "3         100224000.0         -0.295952        0.1  0.079407  711.506897   \n",
       "4          75254400.0         -2.111099        0.1  0.044569  687.526672   \n",
       "...               ...               ...        ...       ...         ...   \n",
       "4937      103075200.0          0.999785        2.9  0.243946  810.950928   \n",
       "4938       69379200.0         -0.125992        0.1  0.073854  854.721130   \n",
       "4939       73699200.0          0.861078        0.1  0.139343  829.709045   \n",
       "4940       69379200.0         -0.088257        0.1  0.052558  845.346313   \n",
       "4941       69379200.0         -0.142365        0.1  0.083336  854.697815   \n",
       "\n",
       "        row    col  observed_failtime  is_it_failure  \n",
       "0       4.0  690.0         16588800.0          False  \n",
       "1       5.0  687.0         87091200.0          False  \n",
       "2      14.0  770.0         91756800.0          False  \n",
       "3      15.0  804.0         27993600.0          False  \n",
       "4      17.0  773.0        112492800.0          False  \n",
       "...     ...    ...                ...            ...  \n",
       "4937  976.0  799.0         50803200.0          False  \n",
       "4938  976.0  862.0         12441600.0          False  \n",
       "4939  976.0  880.0         74131200.0          False  \n",
       "4940  977.0  875.0         41472000.0          False  \n",
       "4941  980.0  855.0        112492800.0          False  \n",
       "\n",
       "[4942 rows x 18 columns]"
      ]
     },
     "execution_count": 94,
     "metadata": {},
     "output_type": "execute_result"
    }
   ],
   "source": [
    "valid_all"
   ]
  },
  {
   "cell_type": "code",
   "execution_count": null,
   "id": "32cf319a-4f38-4aa6-be9f-22de8424eea8",
   "metadata": {},
   "outputs": [],
   "source": []
  }
 ],
 "metadata": {
  "kernelspec": {
   "display_name": "Python 3 (ipykernel)",
   "language": "python",
   "name": "python3"
  },
  "language_info": {
   "codemirror_mode": {
    "name": "ipython",
    "version": 3
   },
   "file_extension": ".py",
   "mimetype": "text/x-python",
   "name": "python",
   "nbconvert_exporter": "python",
   "pygments_lexer": "ipython3",
   "version": "3.8.6"
  }
 },
 "nbformat": 4,
 "nbformat_minor": 5
}
