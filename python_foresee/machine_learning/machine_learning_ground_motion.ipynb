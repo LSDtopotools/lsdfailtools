{
 "cells": [
  {
   "cell_type": "code",
   "execution_count": 3,
   "metadata": {},
   "outputs": [
    {
     "name": "stderr",
     "output_type": "stream",
     "text": [
      "/usr/lib64/python3.6/site-packages/sklearn/ensemble/weight_boosting.py:29: DeprecationWarning: numpy.core.umath_tests is an internal NumPy module and should not be imported. It will be removed in a future NumPy release.\n",
      "  from numpy.core.umath_tests import inner1d\n"
     ]
    }
   ],
   "source": [
    "import os\n",
    "import re\n",
    "import json\n",
    "import gdal\n",
    "import datetime\n",
    "import itertools\n",
    "import shapefile\n",
    "import numpy as np\n",
    "import pandas as pd\n",
    "import geopandas as gpd\n",
    "from scipy import stats\n",
    "from datetime import datetime\n",
    "from itertools import product\n",
    "import matplotlib.pyplot as plt\n",
    "#import functions_ground_motion as fgm\n",
    "\n",
    "import sklearn.metrics as metrics\n",
    "from sklearn.svm import SVR\n",
    "from sklearn.model_selection import cross_val_score\n",
    "from sklearn.neural_network import MLPRegressor\n",
    "from sklearn.neighbors import KNeighborsRegressor\n",
    "from sklearn.linear_model import LinearRegression\n",
    "from sklearn.ensemble import RandomForestRegressor\n",
    "from sklearn.model_selection import TimeSeriesSplit"
   ]
  },
  {
   "cell_type": "code",
   "execution_count": 4,
   "metadata": {},
   "outputs": [
    {
     "name": "stdout",
     "output_type": "stream",
     "text": [
      "The base output directory is /exports/csce/datastore/geos/groups/LSDTopoData/FORESEE/Data/GroundMotion/Failure/\n"
     ]
    }
   ],
   "source": [
    "with open(\"../file_with_paths.json\") as file_with_paths :\n",
    "    FILE_PATHS = json.load(file_with_paths)\n",
    "\n",
    "print(\"The base output directory is {}\".format(FILE_PATHS[\"ground_motion_failure\"]))\n",
    "\n",
    "ground_motion_dir = FILE_PATHS[\"ground_motion_csv\"]\n",
    "ground_motion_file = ground_motion_dir + \"\"\n",
    "# for later: this is how the ground motion data have been saved\n",
    "#out_dir_csv + 'Timeseries_GroundMotion_pixel'+str(i)+'_'+str(j)+'_failure.csv'\n",
    "\n",
    "\n",
    "precip_dir = FILE_PATHS[\"rain_intensity_caliv_valid\"]\n",
    "out_dir = FILE_PATHS[\"time_series_ml\"]\n",
    "\n",
    "# Here comes the rain again\n",
    "rain_dir = FILE_PATHS[\"rain_dir\"]\n",
    "rain_file = rain_dir + \"2014-01-01_to_2019-12-31_Intensity.csv\"\n",
    "\n",
    "topo_dir = FILE_PATHS[\"topo_dir\"]\n",
    "slopefile = topo_dir + \"eu_dem_AoI_epsg32633_SLOPE.bil\"\n",
    "\n",
    "# road file\n",
    "roaddir = FILE_PATHS[\"road_dir\"]\n",
    "roadfile = roaddir + \"Road_line.shp\" # this is in EPSG:32633\n",
    "\n",
    "merged_ground_motion_distance_dir = FILE_PATHS[\"ground_motion_csv\"]\n",
    "merged_ground_motion_distance_file = merged_ground_motion_distance_dir + \"merged_result.csv\"\n",
    "\n"
   ]
  },
  {
   "cell_type": "code",
   "execution_count": 5,
   "metadata": {},
   "outputs": [
    {
     "name": "stdout",
     "output_type": "stream",
     "text": [
      "<class 'pandas.core.frame.DataFrame'>\n",
      "DatetimeIndex: 1425370 entries, 2014-12-31 to 2019-04-03\n",
      "Columns: 6 entries, ground_motion to rain_intensity_mm_sec\n",
      "dtypes: float64(1), object(5)\n",
      "memory usage: 76.1+ MB\n",
      "None\n",
      "<class 'pandas.core.frame.DataFrame'>\n",
      "DatetimeIndex: 1411426 entries, 2014-12-31 to 2018-12-28\n",
      "Columns: 6 entries, ground_motion to rain_intensity_mm_sec\n",
      "dtypes: float64(1), object(5)\n",
      "memory usage: 75.4+ MB\n",
      "None\n",
      "<class 'pandas.core.frame.DataFrame'>\n",
      "DatetimeIndex: 1392812 entries, 2014-12-31 to 2018-12-28\n",
      "Columns: 4 entries, ground_motion to rain_intensity_mm_sec\n",
      "dtypes: float64(2), object(2)\n",
      "memory usage: 53.1+ MB\n",
      "None\n",
      "<class 'pandas.core.frame.DataFrame'>\n",
      "DatetimeIndex: 994649 entries, 2014-12-31 to 2018-12-28\n",
      "Columns: 4 entries, ground_motion to rain_intensity_mm_sec\n",
      "dtypes: float64(2), object(2)\n",
      "memory usage: 37.9+ MB\n",
      "None\n"
     ]
    }
   ],
   "source": [
    "########## read pixel position data ##################\n",
    "\n",
    "ground_motion_distance_pxl = pd.read_csv(merged_ground_motion_distance_file)\n",
    "ground_motion_distance_pxl = np.array(ground_motion_distance_pxl)\n",
    "\n",
    "# the first column only has indices - we don't need that.\n",
    "ground_motion_distance_pxl = ground_motion_distance_pxl[:,1:]\n",
    "\n",
    "ground_motion_distance_df = pd.DataFrame({'ground_motion': ground_motion_distance_pxl[:, 0], 'time': ground_motion_distance_pxl[:, 1], 'slope': ground_motion_distance_pxl[:,2], 'rows': ground_motion_distance_pxl[:,3],'cols': ground_motion_distance_pxl[:,4], 'distance_to_road': ground_motion_distance_pxl[:,5]})\n",
    "\n",
    "\n",
    "ground_motion_distance_df['time'] =  pd.to_datetime(ground_motion_distance_df['time'])\n",
    "####### need to add the rainfall data to the datafram as well. forgot to do this ###########\n",
    "rain_data = pd.read_csv(rain_file)\n",
    "rain_data = np.array(rain_data)\n",
    "rain_data_df = pd.DataFrame({'rain_intensity_mm_sec':rain_data[:,1]})\n",
    "date_list = pd.date_range(start=\"2014-01-01\", end=\"2018-12-31\")\n",
    "\n",
    "rain_data_df['time'] = date_list\n",
    "\n",
    "#print(rain_data_df.head())\n",
    "\n",
    "# note that the ground motion data goes all the way to end of 2019 but the rainfall data is only until end of 2018\n",
    "result_with_rain = pd.merge(ground_motion_distance_df, rain_data_df, how='left', on=['time'])\n",
    "#print(result_with_rain.head())\n",
    "result_with_rain = result_with_rain.set_index('time')\n",
    "result_with_rain = result_with_rain.sort_values('time', ascending=True)\n",
    "#result_with_rain.to_csv(ground_motion_dir+'merged_result_with_rain.csv')\n",
    "print(result_with_rain.info(verbose=False))\n",
    "# remove rows which contain missing values - these will only correspond to 2019 values, we dont have rain data for those\n",
    "result_with_rain = result_with_rain.dropna()\n",
    "# will bring any non numeric values to nan - easy fix- need to refine\n",
    "print(result_with_rain.info(verbose=False))\n",
    "#result_with_rain['ground_motion'] = result_with_rain.to_numeric(result_with_rain['ground_motion'])\n",
    "result_with_rain['ground_motion'] = result_with_rain['ground_motion'].apply(pd.to_numeric, errors='coerce')\n",
    "result_with_rain = result_with_rain.dropna()\n",
    "\n",
    "\n",
    "# drop \"rows\" and \"cols\" dataframe columns, each column is uniquely identified by the slope and distance to road. \n",
    "result_with_rain = result_with_rain.drop(['rows', 'cols'], axis=1)\n",
    "print(result_with_rain.info(verbose=False))\n",
    "\n",
    "# delete negative ground motion values \n",
    "result_with_rain = result_with_rain[result_with_rain['ground_motion'] >= 0]\n",
    "print(result_with_rain.info(verbose=False))\n"
   ]
  },
  {
   "cell_type": "code",
   "execution_count": 6,
   "metadata": {},
   "outputs": [
    {
     "name": "stdout",
     "output_type": "stream",
     "text": [
      "<class 'pandas.core.frame.DataFrame'>\n",
      "DatetimeIndex: 607291 entries, 2014-12-31 to 2017-12-27\n",
      "Columns: 3 entries, slope to rain_intensity_mm_sec\n",
      "dtypes: float64(1), object(2)\n",
      "memory usage: 18.5+ MB\n",
      "<class 'pandas.core.frame.DataFrame'>\n",
      "DatetimeIndex: 387358 entries, 2018-01-02 to 2018-12-28\n",
      "Columns: 3 entries, slope to rain_intensity_mm_sec\n",
      "dtypes: float64(1), object(2)\n",
      "memory usage: 11.8+ MB\n"
     ]
    }
   ],
   "source": [
    "########### MACHINE LEARNING STUFF ########################\n",
    "\n",
    "\n",
    "def regression_results(y_true, y_pred):# Regression metrics\n",
    "    explained_variance = metrics.explained_variance_score(y_true, y_pred)\n",
    "    mean_absolute_error = metrics.mean_absolute_error(y_true, y_pred)\n",
    "    mse = metrics.mean_squared_error(y_true, y_pred)\n",
    "    #mean_squared_log_error = metrics.mean_squared_log_error(y_true, y_pred)\n",
    "    median_absolute_error = metrics.median_absolute_error(y_true, y_pred)\n",
    "    r2 = metrics.r2_score(y_true, y_pred)\n",
    "    print('explained_variance: ', round(explained_variance,4))\n",
    "    #print('mean_squared_log_error: ', round(mean_squared_log_error,4))\n",
    "    print('r2: ', round(r2,4))\n",
    "    print('MAE: ', round(mean_absolute_error,4))\n",
    "    print('MSE: ', round(mse,4))\n",
    "    print('RMSE: ', round(np.sqrt(mse),4))\n",
    "\n",
    "\n",
    "########## define training and testing data #################\n",
    "X_train = result_with_rain[:'2017'].drop(['ground_motion'], axis = 1)\n",
    "y_train = result_with_rain.loc[:'2017', 'ground_motion']\n",
    "X_train.info(verbose=False)\n",
    "\n",
    "X_test = result_with_rain['2018':].drop(['ground_motion'], axis = 1)\n",
    "y_test = result_with_rain.loc['2018':, 'ground_motion']\n",
    "X_test.info(verbose=False)\n"
   ]
  },
  {
   "cell_type": "code",
   "execution_count": 7,
   "metadata": {},
   "outputs": [],
   "source": [
    "# Spot Check Algorithms\n",
    "models = []\n",
    "models.append(('LR', LinearRegression()))\n",
    "#models.append(('NN', MLPRegressor(solver = 'lbfgs')))  #neural network\n",
    "models.append(('KNN', KNeighborsRegressor()))\n",
    "models.append(('RF', RandomForestRegressor(n_estimators = 3))) # Ensemble method - collection of many decision trees\n",
    "#models.append(('SVR', SVR(gamma='auto'))) # kernel = linear"
   ]
  },
  {
   "cell_type": "code",
   "execution_count": 8,
   "metadata": {},
   "outputs": [
    {
     "name": "stdout",
     "output_type": "stream",
     "text": [
      "LR: -0.005437 (0.035433)\n",
      "KNN: 0.721298 (0.094171)\n",
      "RF: 0.493704 (0.054054)\n"
     ]
    },
    {
     "data": {
      "image/png": "[encoded data removed]",
      "text/plain": [
       "<Figure size 432x288 with 1 Axes>"
      ]
     },
     "metadata": {
      "needs_background": "light"
     },
     "output_type": "display_data"
    }
   ],
   "source": [
    "# Evaluate each model in turn\n",
    "results = []\n",
    "names = []\n",
    "for name, model in models:\n",
    "    # TimeSeries Cross validation\n",
    "    tscv = TimeSeriesSplit(n_splits=3)\n",
    "\n",
    "    cv_results = cross_val_score(model, X_train, y_train, cv=tscv, scoring='r2')\n",
    "    results.append(cv_results)\n",
    "    names.append(name)\n",
    "    print('%s: %f (%f)' % (name, cv_results.mean(), cv_results.std()))\n",
    "\n",
    "# Compare Algorithms\n",
    "plt.boxplot(results, labels=names)\n",
    "plt.title('Algorithm Comparison')\n",
    "plt.show()"
   ]
  },
  {
   "cell_type": "code",
   "execution_count": 9,
   "metadata": {},
   "outputs": [],
   "source": [
    "from sklearn.metrics import make_scorer\n",
    "def rmse(actual, predict):\n",
    "    predict = np.array(predict)\n",
    "    actual = np.array(actual)\n",
    "    distance = predict - actual\n",
    "    square_distance = distance ** 2\n",
    "    mean_square_distance = square_distance.mean()\n",
    "    score = np.sqrt(mean_square_distance)\n",
    "    return score\n",
    "rmse_score = make_scorer(rmse, greater_is_better = False)"
   ]
  },
  {
   "cell_type": "code",
   "execution_count": null,
   "metadata": {},
   "outputs": [],
   "source": [
    "from sklearn.model_selection import GridSearchCV\n",
    "\n",
    "model = RandomForestRegressor()\n",
    "param_search = { \n",
    "    'n_estimators': [20, 50, 100],\n",
    "    'max_features': ['auto', 'sqrt', 'log2'],\n",
    "    'max_depth' : [i for i in range(5,6)]}\n",
    "\n",
    "tscv = TimeSeriesSplit(n_splits=3)\n",
    "gsearch = GridSearchCV(estimator=model, cv=tscv, param_grid=param_search, scoring = rmse_score, verbose=10)\n",
    "print('done searching.Starting to train')\n",
    "print('done training')\n",
    "gsearch.fit(X_train, y_train)\n",
    "best_score = gsearch.best_score_\n",
    "best_model = gsearch.best_estimator_"
   ]
  },
  {
   "cell_type": "code",
   "execution_count": 10,
   "metadata": {},
   "outputs": [
    {
     "data": {
      "text/plain": [
       "KNeighborsRegressor(algorithm='auto', leaf_size=30, metric='minkowski',\n",
       "          metric_params=None, n_jobs=1, n_neighbors=5, p=2,\n",
       "          weights='uniform')"
      ]
     },
     "execution_count": 10,
     "metadata": {},
     "output_type": "execute_result"
    }
   ],
   "source": [
    "models[1]\n",
    "knn = KNeighborsRegressor()\n",
    "knn.fit(X_train, y_train)"
   ]
  },
  {
   "cell_type": "code",
   "execution_count": 11,
   "metadata": {},
   "outputs": [],
   "source": [
    "best_model = models[1]\n"
   ]
  },
  {
   "cell_type": "code",
   "execution_count": 12,
   "metadata": {},
   "outputs": [
    {
     "name": "stdout",
     "output_type": "stream",
     "text": [
      "explained_variance:  0.8214\n",
      "r2:  0.8135\n",
      "MAE:  4.9241\n",
      "MSE:  66.7103\n",
      "RMSE:  8.1676\n"
     ]
    }
   ],
   "source": [
    "y_true = y_test.values\n",
    "y_pred = knn.predict(X_test)\n",
    "results = regression_results(y_true, y_pred)"
   ]
  },
  {
   "cell_type": "code",
   "execution_count": 16,
   "metadata": {},
   "outputs": [
    {
     "data": {
      "image/png": "[encoded data removed]",
      "text/plain": [
       "<Figure size 432x288 with 1 Axes>"
      ]
     },
     "metadata": {
      "needs_background": "light"
     },
     "output_type": "display_data"
    }
   ],
   "source": [
    "plt.scatter(y_true, y_pred)\n",
    "plt.xlabel(\"Observed Ground Motion (mm/yr)\")\n",
    "plt.ylabel(\"Predicted Ground Motion (mm/yr)\")\n",
    "plt.savefig(\"predicted_obs_ground_motion_ml.png\")"
   ]
  },
  {
   "cell_type": "code",
   "execution_count": 16,
   "metadata": {},
   "outputs": [
    {
     "data": {
      "text/plain": [
       "array([14.86,  1.97, 30.75, ..., 14.1 , 56.98, 52.49])"
      ]
     },
     "execution_count": 16,
     "metadata": {},
     "output_type": "execute_result"
    }
   ],
   "source": [
    "y_true"
   ]
  },
  {
   "cell_type": "code",
   "execution_count": 17,
   "metadata": {},
   "outputs": [
    {
     "data": {
      "text/plain": [
       "array([ 3.36 ,  6.866, 29.484, ..., 14.148, 75.374, 43.24 ])"
      ]
     },
     "execution_count": 17,
     "metadata": {},
     "output_type": "execute_result"
    }
   ],
   "source": [
    "y_pred"
   ]
  },
  {
   "cell_type": "code",
   "execution_count": null,
   "metadata": {},
   "outputs": [],
   "source": [
    "result_with_rain['2018':]"
   ]
  },
  {
   "cell_type": "code",
   "execution_count": 30,
   "metadata": {},
   "outputs": [],
   "source": [
    "dates = result_with_rain.index"
   ]
  },
  {
   "cell_type": "code",
   "execution_count": 39,
   "metadata": {},
   "outputs": [
    {
     "data": {
      "text/plain": [
       "(array([1.64846e+05, 1.11631e+05, 6.37550e+04, 2.51700e+04, 1.16450e+04,\n",
       "        5.93700e+03, 2.90600e+03, 1.09100e+03, 2.92000e+02, 8.50000e+01]),\n",
       " array([  0.    ,  12.4808,  24.9616,  37.4424,  49.9232,  62.404 ,\n",
       "         74.8848,  87.3656,  99.8464, 112.3272, 124.808 ]),\n",
       " <a list of 10 Patch objects>)"
      ]
     },
     "execution_count": 39,
     "metadata": {},
     "output_type": "execute_result"
    },
    {
     "data": {
      "image/png": "[encoded data removed]",
      "text/plain": [
       "<Figure size 432x288 with 1 Axes>"
      ]
     },
     "metadata": {
      "needs_background": "light"
     },
     "output_type": "display_data"
    }
   ],
   "source": [
    "plt.hist(y_pred)"
   ]
  },
  {
   "cell_type": "code",
   "execution_count": 40,
   "metadata": {},
   "outputs": [],
   "source": []
  },
  {
   "cell_type": "code",
   "execution_count": 41,
   "metadata": {},
   "outputs": [
    {
     "data": {
      "text/plain": [
       "array([False, False, False, ..., False, False, False])"
      ]
     },
     "execution_count": 41,
     "metadata": {},
     "output_type": "execute_result"
    }
   ],
   "source": [
    "# get an array with all the predicted y values\n",
    "# create a dataset where it should show dt instead of t\n",
    "date_train = result_with_rain.index"
   ]
  },
  {
   "cell_type": "code",
   "execution_count": 44,
   "metadata": {},
   "outputs": [],
   "source": [
    "dates_train = result_with_rain.index.values[:len(y_train)]\n",
    "dates_test = result_with_rain.index.values[len(y_train):]"
   ]
  },
  {
   "cell_type": "code",
   "execution_count": 54,
   "metadata": {},
   "outputs": [],
   "source": [
    "result_with_rain_new = result_with_rain.reset_index()"
   ]
  },
  {
   "cell_type": "code",
   "execution_count": 74,
   "metadata": {},
   "outputs": [
    {
     "data": {
      "text/html": [
       "<div>\n",
       "<style scoped>\n",
       "    .dataframe tbody tr th:only-of-type {\n",
       "        vertical-align: middle;\n",
       "    }\n",
       "\n",
       "    .dataframe tbody tr th {\n",
       "        vertical-align: top;\n",
       "    }\n",
       "\n",
       "    .dataframe thead th {\n",
       "        text-align: right;\n",
       "    }\n",
       "</style>\n",
       "<table border=\"1\" class=\"dataframe\">\n",
       "  <thead>\n",
       "    <tr style=\"text-align: right;\">\n",
       "      <th></th>\n",
       "      <th>time</th>\n",
       "      <th>ground_motion</th>\n",
       "      <th>slope</th>\n",
       "      <th>distance_to_road</th>\n",
       "      <th>rain_intensity_mm_sec</th>\n",
       "    </tr>\n",
       "  </thead>\n",
       "  <tbody>\n",
       "    <tr>\n",
       "      <th>0</th>\n",
       "      <td>2014-12-31</td>\n",
       "      <td>6.67</td>\n",
       "      <td>0.190233</td>\n",
       "      <td>14501</td>\n",
       "      <td>0.000024</td>\n",
       "    </tr>\n",
       "    <tr>\n",
       "      <th>1</th>\n",
       "      <td>2014-12-31</td>\n",
       "      <td>10.20</td>\n",
       "      <td>0.107414</td>\n",
       "      <td>7250</td>\n",
       "      <td>0.000024</td>\n",
       "    </tr>\n",
       "    <tr>\n",
       "      <th>2</th>\n",
       "      <td>2014-12-31</td>\n",
       "      <td>18.85</td>\n",
       "      <td>0.0687284</td>\n",
       "      <td>11285</td>\n",
       "      <td>0.000024</td>\n",
       "    </tr>\n",
       "    <tr>\n",
       "      <th>3</th>\n",
       "      <td>2014-12-31</td>\n",
       "      <td>7.17</td>\n",
       "      <td>0.049675</td>\n",
       "      <td>641</td>\n",
       "      <td>0.000024</td>\n",
       "    </tr>\n",
       "    <tr>\n",
       "      <th>4</th>\n",
       "      <td>2014-12-31</td>\n",
       "      <td>6.99</td>\n",
       "      <td>0.0922319</td>\n",
       "      <td>709</td>\n",
       "      <td>0.000024</td>\n",
       "    </tr>\n",
       "  </tbody>\n",
       "</table>\n",
       "</div>"
      ],
      "text/plain": [
       "        time  ground_motion      slope distance_to_road  rain_intensity_mm_sec\n",
       "0 2014-12-31           6.67   0.190233            14501               0.000024\n",
       "1 2014-12-31          10.20   0.107414             7250               0.000024\n",
       "2 2014-12-31          18.85  0.0687284            11285               0.000024\n",
       "3 2014-12-31           7.17   0.049675              641               0.000024\n",
       "4 2014-12-31           6.99  0.0922319              709               0.000024"
      ]
     },
     "execution_count": 74,
     "metadata": {},
     "output_type": "execute_result"
    }
   ],
   "source": [
    "result_with_rain_new.head()"
   ]
  },
  {
   "cell_type": "code",
   "execution_count": 75,
   "metadata": {},
   "outputs": [],
   "source": [
    "# get time passed dataframe\n",
    "df = pd.DataFrame(index=result_with_rain.index.values, columns=['time since'])\n",
    "\n",
    "basedate = pd.Timestamp('2014-12-31')\n",
    "df['time since'] = df.apply(lambda x: (x.name.to_pydatetime() - basedate).days, axis=1)\n",
    "result_with_rain['time_since'] = df['time since']"
   ]
  },
  {
   "cell_type": "code",
   "execution_count": 76,
   "metadata": {},
   "outputs": [
    {
     "data": {
      "text/plain": [
       "<matplotlib.collections.PathCollection at 0x7f460d1e9860>"
      ]
     },
     "execution_count": 76,
     "metadata": {},
     "output_type": "execute_result"
    },
    {
     "data": {
      "image/png": "[encoded data removed]",
      "text/plain": [
       "<Figure size 432x288 with 1 Axes>"
      ]
     },
     "metadata": {
      "needs_background": "light"
     },
     "output_type": "display_data"
    }
   ],
   "source": [
    "plt.scatter(df['time since'], result_with_rain['ground_motion'])"
   ]
  },
  {
   "cell_type": "code",
   "execution_count": 80,
   "metadata": {},
   "outputs": [],
   "source": [
    "df_threshold = result_with_rain[result_with_rain['ground_motion'] >= 80]\n"
   ]
  },
  {
   "cell_type": "code",
   "execution_count": 96,
   "metadata": {},
   "outputs": [
    {
     "data": {
      "text/plain": [
       "<matplotlib.collections.PathCollection at 0x7f45e49eb518>"
      ]
     },
     "execution_count": 96,
     "metadata": {},
     "output_type": "execute_result"
    },
    {
     "data": {
      "image/png": "[encoded data removed]",
      "text/plain": [
       "<Figure size 432x288 with 1 Axes>"
      ]
     },
     "metadata": {
      "needs_background": "light"
     },
     "output_type": "display_data"
    }
   ],
   "source": [
    "plt.scatter(df_threshold['slope'], df_threshold['ground_motion'])"
   ]
  },
  {
   "cell_type": "code",
   "execution_count": null,
   "metadata": {},
   "outputs": [],
   "source": [
    "plt.hist(df_threshold['slope'])"
   ]
  },
  {
   "cell_type": "code",
   "execution_count": 91,
   "metadata": {},
   "outputs": [
    {
     "data": {
      "text/html": [
       "<div>\n",
       "<style scoped>\n",
       "    .dataframe tbody tr th:only-of-type {\n",
       "        vertical-align: middle;\n",
       "    }\n",
       "\n",
       "    .dataframe tbody tr th {\n",
       "        vertical-align: top;\n",
       "    }\n",
       "\n",
       "    .dataframe thead th {\n",
       "        text-align: right;\n",
       "    }\n",
       "</style>\n",
       "<table border=\"1\" class=\"dataframe\">\n",
       "  <thead>\n",
       "    <tr style=\"text-align: right;\">\n",
       "      <th></th>\n",
       "      <th>ground_motion</th>\n",
       "      <th>slope</th>\n",
       "      <th>distance_to_road</th>\n",
       "      <th>rain_intensity_mm_sec</th>\n",
       "      <th>time_since</th>\n",
       "    </tr>\n",
       "    <tr>\n",
       "      <th>time</th>\n",
       "      <th></th>\n",
       "      <th></th>\n",
       "      <th></th>\n",
       "      <th></th>\n",
       "      <th></th>\n",
       "    </tr>\n",
       "  </thead>\n",
       "  <tbody>\n",
       "    <tr>\n",
       "      <th>2015-03-25</th>\n",
       "      <td>82.24</td>\n",
       "      <td>0.124795</td>\n",
       "      <td>54965</td>\n",
       "      <td>1.413031e-04</td>\n",
       "      <td>84</td>\n",
       "    </tr>\n",
       "    <tr>\n",
       "      <th>2015-04-06</th>\n",
       "      <td>86.17</td>\n",
       "      <td>0.076304</td>\n",
       "      <td>38530</td>\n",
       "      <td>1.639528e-06</td>\n",
       "      <td>96</td>\n",
       "    </tr>\n",
       "    <tr>\n",
       "      <th>2015-04-06</th>\n",
       "      <td>91.49</td>\n",
       "      <td>0.124795</td>\n",
       "      <td>54965</td>\n",
       "      <td>1.639528e-06</td>\n",
       "      <td>96</td>\n",
       "    </tr>\n",
       "    <tr>\n",
       "      <th>2015-04-30</th>\n",
       "      <td>87.91</td>\n",
       "      <td>0.0600391</td>\n",
       "      <td>86193</td>\n",
       "      <td>9.664785e-08</td>\n",
       "      <td>120</td>\n",
       "    </tr>\n",
       "    <tr>\n",
       "      <th>2015-04-30</th>\n",
       "      <td>82.12</td>\n",
       "      <td>0.127192</td>\n",
       "      <td>135865</td>\n",
       "      <td>9.664785e-08</td>\n",
       "      <td>120</td>\n",
       "    </tr>\n",
       "  </tbody>\n",
       "</table>\n",
       "</div>"
      ],
      "text/plain": [
       "            ground_motion      slope distance_to_road  rain_intensity_mm_sec  \\\n",
       "time                                                                           \n",
       "2015-03-25          82.24   0.124795            54965           1.413031e-04   \n",
       "2015-04-06          86.17   0.076304            38530           1.639528e-06   \n",
       "2015-04-06          91.49   0.124795            54965           1.639528e-06   \n",
       "2015-04-30          87.91  0.0600391            86193           9.664785e-08   \n",
       "2015-04-30          82.12   0.127192           135865           9.664785e-08   \n",
       "\n",
       "            time_since  \n",
       "time                    \n",
       "2015-03-25          84  \n",
       "2015-04-06          96  \n",
       "2015-04-06          96  \n",
       "2015-04-30         120  \n",
       "2015-04-30         120  "
      ]
     },
     "execution_count": 91,
     "metadata": {},
     "output_type": "execute_result"
    }
   ],
   "source": [
    "df_threshold.head()"
   ]
  },
  {
   "cell_type": "code",
   "execution_count": null,
   "metadata": {},
   "outputs": [],
   "source": []
  }
 ],
 "metadata": {
  "kernelspec": {
   "display_name": "Python 3",
   "language": "python",
   "name": "python3"
  },
  "language_info": {
   "codemirror_mode": {
    "name": "ipython",
    "version": 3
   },
   "file_extension": ".py",
   "mimetype": "text/x-python",
   "name": "python",
   "nbconvert_exporter": "python",
   "pygments_lexer": "ipython3",
   "version": "3.6.8"
  }
 },
 "nbformat": 4,
 "nbformat_minor": 2
}
