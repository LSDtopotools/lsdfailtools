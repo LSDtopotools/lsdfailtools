{
 "cells": [
  {
   "cell_type": "code",
   "execution_count": 1,
   "metadata": {},
   "outputs": [
    {
     "name": "stderr",
     "output_type": "stream",
     "text": [
      "/usr/lib64/python3.6/site-packages/sklearn/ensemble/weight_boosting.py:29: DeprecationWarning: numpy.core.umath_tests is an internal NumPy module and should not be imported. It will be removed in a future NumPy release.\n",
      "  from numpy.core.umath_tests import inner1d\n"
     ]
    }
   ],
   "source": [
    "import os\n",
    "import re\n",
    "import json\n",
    "import gdal\n",
    "import datetime\n",
    "import itertools\n",
    "import shapefile\n",
    "import numpy as np\n",
    "import pandas as pd\n",
    "import geopandas as gpd\n",
    "from scipy import stats\n",
    "from datetime import datetime\n",
    "from itertools import product\n",
    "import matplotlib.pyplot as plt\n",
    "#import sys  \n",
    "#sys.path.insert(0, '../Calibration')\n",
    "\n",
    "#import Calibration_functions as fn\n",
    "#import functions_ground_motion as fgm\n",
    "\n",
    "import sklearn.metrics as metrics\n",
    "from sklearn.svm import SVR\n",
    "from sklearn.model_selection import cross_val_score\n",
    "from sklearn.neural_network import MLPRegressor\n",
    "from sklearn.neighbors import KNeighborsRegressor\n",
    "from sklearn.linear_model import LinearRegression\n",
    "from sklearn.ensemble import RandomForestRegressor\n",
    "from sklearn.model_selection import TimeSeriesSplit"
   ]
  },
  {
   "cell_type": "code",
   "execution_count": 2,
   "metadata": {},
   "outputs": [
    {
     "name": "stdout",
     "output_type": "stream",
     "text": [
      "The base output directory is /exports/csce/datastore/geos/groups/LSDTopoData/FORESEE/Data/ground_motion_csv/\n"
     ]
    }
   ],
   "source": [
    "with open(\"../file_with_paths.json\") as file_with_paths :\n",
    "    FILE_PATHS = json.load(file_with_paths)\n",
    "\n",
    "print(\"The base output directory is {}\".format(FILE_PATHS[\"ground_motion_csv\"]))\n",
    "\n",
    "ground_motion_dir = FILE_PATHS[\"ground_motion_csv\"]\n",
    "ground_motion_file = ground_motion_dir + \"\"\n",
    "# for later: this is how the ground motion data have been saved\n",
    "#out_dir_csv + 'Timeseries_GroundMotion_pixel'+str(i)+'_'+str(j)+'_failure.csv'\n",
    "\n",
    "\n",
    "precip_dir = FILE_PATHS[\"rain_intensity_caliv_valid\"]\n",
    "out_dir = FILE_PATHS[\"time_series_ml\"]\n",
    "\n",
    "# Here comes the rain again\n",
    "rain_dir = FILE_PATHS[\"rain_dir\"]\n",
    "rain_file = rain_dir + \"2014-01-01_to_2019-12-31_Intensity.csv\"\n",
    "\n",
    "demdir = FILE_PATHS['topo_dir']\n",
    "demfile = demdir + \"10mDEM_tinitaly/w45510_s10_AoI_32633.bil\"\n",
    "\n",
    "\n",
    "# road file\n",
    "roaddir = FILE_PATHS[\"road_dir\"]\n",
    "roadfile = roaddir + \"Road_line.shp\" # this is in EPSG:32633\n",
    "\n",
    "merged_ground_motion_distance_dir = FILE_PATHS[\"ground_motion_csv\"]\n",
    "merged_ground_motion_distance_file = merged_ground_motion_distance_dir + \"10mDEM_merged_result.csv\"\n",
    "\n"
   ]
  },
  {
   "cell_type": "code",
   "execution_count": 3,
   "metadata": {},
   "outputs": [
    {
     "name": "stdout",
     "output_type": "stream",
     "text": [
      "<class 'pandas.core.frame.DataFrame'>\n",
      "DatetimeIndex: 2293158 entries, 2014-12-31 to 2019-04-03\n",
      "Columns: 9 entries, ground_motion to rain_intensity_mm_sec\n",
      "dtypes: float64(1), object(8)\n",
      "memory usage: 175.0+ MB\n",
      "None\n"
     ]
    }
   ],
   "source": [
    "########## read pixel position data ##################\n",
    "\n",
    "ground_motion_distance_pxl = pd.read_csv(merged_ground_motion_distance_file)\n",
    "ground_motion_distance_pxl = np.array(ground_motion_distance_pxl)\n",
    "\n",
    "# the first column only has indices - we don't need that.\n",
    "ground_motion_distance_pxl = ground_motion_distance_pxl[:,1:]\n",
    "\n",
    "ground_motion_distance_df = pd.DataFrame({'ground_motion': ground_motion_distance_pxl[:, 0], 'time': ground_motion_distance_pxl[:, 1], 'slope': ground_motion_distance_pxl[:,2], 'curvature': ground_motion_distance_pxl[:,3], 'aspect': ground_motion_distance_pxl[:,4],'rows': ground_motion_distance_pxl[:,5],'cols': ground_motion_distance_pxl[:,6], 'datasource': ground_motion_distance_pxl[:,7], 'distance_to_road': ground_motion_distance_pxl[:,8]})\n",
    "\n",
    "\n",
    "ground_motion_distance_df['time'] =  pd.to_datetime(ground_motion_distance_df['time'])\n",
    "\n",
    "####### need to add the rainfall data to the datafram as well. forgot to do this ###########\n",
    "rain_data = pd.read_csv(rain_file)\n",
    "rain_data = np.array(rain_data)\n",
    "rain_data_df = pd.DataFrame({'rain_intensity_mm_sec':rain_data[:,1]})\n",
    "date_list = pd.date_range(start=\"2014-01-01\", end=\"2018-12-31\")\n",
    "\n",
    "rain_data_df['time'] = date_list\n",
    "\n",
    "\n",
    "# ground motion data goes all the way to end of 2019 but the rainfall data is only until end of 2018\n",
    "result_with_rain = pd.merge(ground_motion_distance_df, rain_data_df, how='left', on=['time'])\n",
    "result_with_rain = result_with_rain.set_index('time')\n",
    "result_with_rain = result_with_rain.sort_values('time', ascending=True)\n",
    "\n",
    "result_with_rain.to_csv(ground_motion_dir+'10mDEM_merged_result_with_rain.csv')\n",
    "print(result_with_rain.info(verbose=False))\n",
    "\n"
   ]
  },
  {
   "cell_type": "markdown",
   "metadata": {},
   "source": [
    "The code below only corresponds to the bits that need to be produced only once. There is no need to run this code below every time because the main file will already have been produced. "
   ]
  },
  {
   "cell_type": "code",
   "execution_count": 4,
   "metadata": {},
   "outputs": [],
   "source": [
    "rainfall_timeseries = result_with_rain.index.unique()\n"
   ]
  },
  {
   "cell_type": "code",
   "execution_count": 4,
   "metadata": {},
   "outputs": [
    {
     "name": "stderr",
     "output_type": "stream",
     "text": [
      "/usr/lib64/python3.6/site-packages/pandas/plotting/_converter.py:129: FutureWarning: Using an implicitly registered datetime converter for a matplotlib plotting method. The converter was registered by pandas on import. Future versions of pandas will require you to explicitly register matplotlib converters.\n",
      "\n",
      "To register the converters:\n",
      "\t>>> from pandas.plotting import register_matplotlib_converters\n",
      "\t>>> register_matplotlib_converters()\n",
      "  warnings.warn(msg, FutureWarning)\n"
     ]
    },
    {
     "data": {
      "image/png": "[encoded data removed]",
      "text/plain": [
       "<Figure size 432x288 with 1 Axes>"
      ]
     },
     "metadata": {
      "needs_background": "light"
     },
     "output_type": "display_data"
    }
   ],
   "source": [
    "plt.plot(result_with_rain.index)\n",
    "plt.xlabel(\"Number of measurements\")\n",
    "plt.ylabel(\"Date\")\n",
    "plt.savefig(\"number_of_measurements1.png\")"
   ]
  },
  {
   "cell_type": "code",
   "execution_count": 11,
   "metadata": {},
   "outputs": [
    {
     "data": {
      "text/html": [
       "<div>\n",
       "<style scoped>\n",
       "    .dataframe tbody tr th:only-of-type {\n",
       "        vertical-align: middle;\n",
       "    }\n",
       "\n",
       "    .dataframe tbody tr th {\n",
       "        vertical-align: top;\n",
       "    }\n",
       "\n",
       "    .dataframe thead th {\n",
       "        text-align: right;\n",
       "    }\n",
       "</style>\n",
       "<table border=\"1\" class=\"dataframe\">\n",
       "  <thead>\n",
       "    <tr style=\"text-align: right;\">\n",
       "      <th></th>\n",
       "      <th>ground_motion</th>\n",
       "      <th>slope</th>\n",
       "      <th>curvature</th>\n",
       "      <th>aspect</th>\n",
       "      <th>rows</th>\n",
       "      <th>cols</th>\n",
       "      <th>datasource</th>\n",
       "      <th>distance_to_road</th>\n",
       "      <th>rain_intensity_mm_sec</th>\n",
       "    </tr>\n",
       "    <tr>\n",
       "      <th>time</th>\n",
       "      <th></th>\n",
       "      <th></th>\n",
       "      <th></th>\n",
       "      <th></th>\n",
       "      <th></th>\n",
       "      <th></th>\n",
       "      <th></th>\n",
       "      <th></th>\n",
       "      <th></th>\n",
       "    </tr>\n",
       "  </thead>\n",
       "  <tbody>\n",
       "    <tr>\n",
       "      <th>2019-04-03</th>\n",
       "      <td>7.57476</td>\n",
       "      <td>0.17831</td>\n",
       "      <td>-0.00205627</td>\n",
       "      <td>32.1655</td>\n",
       "      <td>1552</td>\n",
       "      <td>2373</td>\n",
       "      <td>1</td>\n",
       "      <td>2.43129e+09</td>\n",
       "      <td>NaN</td>\n",
       "    </tr>\n",
       "    <tr>\n",
       "      <th>2019-04-03</th>\n",
       "      <td>2.56938</td>\n",
       "      <td>0.215576</td>\n",
       "      <td>7.74862e-05</td>\n",
       "      <td>90.6893</td>\n",
       "      <td>1397</td>\n",
       "      <td>1979</td>\n",
       "      <td>1</td>\n",
       "      <td>2.39382e+09</td>\n",
       "      <td>NaN</td>\n",
       "    </tr>\n",
       "    <tr>\n",
       "      <th>2019-04-03</th>\n",
       "      <td>2.21982</td>\n",
       "      <td>0.0407377</td>\n",
       "      <td>-0.000499</td>\n",
       "      <td>264.294</td>\n",
       "      <td>1244</td>\n",
       "      <td>3422</td>\n",
       "      <td>1</td>\n",
       "      <td>2.53786e+09</td>\n",
       "      <td>NaN</td>\n",
       "    </tr>\n",
       "    <tr>\n",
       "      <th>2019-04-03</th>\n",
       "      <td>9.83031</td>\n",
       "      <td>0.124155</td>\n",
       "      <td>-0.00128728</td>\n",
       "      <td>216.496</td>\n",
       "      <td>1318</td>\n",
       "      <td>2426</td>\n",
       "      <td>1</td>\n",
       "      <td>2.43823e+09</td>\n",
       "      <td>NaN</td>\n",
       "    </tr>\n",
       "    <tr>\n",
       "      <th>2019-04-03</th>\n",
       "      <td>8.35857</td>\n",
       "      <td>0.150267</td>\n",
       "      <td>-2.63888e-06</td>\n",
       "      <td>106.913</td>\n",
       "      <td>1375</td>\n",
       "      <td>1997</td>\n",
       "      <td>1</td>\n",
       "      <td>2.39574e+09</td>\n",
       "      <td>NaN</td>\n",
       "    </tr>\n",
       "  </tbody>\n",
       "</table>\n",
       "</div>"
      ],
      "text/plain": [
       "           ground_motion      slope    curvature   aspect  rows  cols  \\\n",
       "time                                                                    \n",
       "2019-04-03       7.57476    0.17831  -0.00205627  32.1655  1552  2373   \n",
       "2019-04-03       2.56938   0.215576  7.74862e-05  90.6893  1397  1979   \n",
       "2019-04-03       2.21982  0.0407377    -0.000499  264.294  1244  3422   \n",
       "2019-04-03       9.83031   0.124155  -0.00128728  216.496  1318  2426   \n",
       "2019-04-03       8.35857   0.150267 -2.63888e-06  106.913  1375  1997   \n",
       "\n",
       "           datasource distance_to_road  rain_intensity_mm_sec  \n",
       "time                                                           \n",
       "2019-04-03          1      2.43129e+09                    NaN  \n",
       "2019-04-03          1      2.39382e+09                    NaN  \n",
       "2019-04-03          1      2.53786e+09                    NaN  \n",
       "2019-04-03          1      2.43823e+09                    NaN  \n",
       "2019-04-03          1      2.39574e+09                    NaN  "
      ]
     },
     "execution_count": 11,
     "metadata": {},
     "output_type": "execute_result"
    }
   ],
   "source": [
    "result_with_rain.tail()"
   ]
  },
  {
   "cell_type": "code",
   "execution_count": null,
   "metadata": {},
   "outputs": [],
   "source": [
    "# pd.DataFrame([{'time': k,\n",
    "#                         'price': (v.price * v.volume).sum() / v.volume.sum(),\n",
    "#                         'volume': v.volume.mean()}\n",
    "#                        for k,v in a.groupby(['time'])],\n",
    "#                       columns=['time', 'price', 'volume'])"
   ]
  },
  {
   "cell_type": "code",
   "execution_count": 25,
   "metadata": {},
   "outputs": [],
   "source": [
    "result_with_rain = result_with_rain.reset_index()"
   ]
  },
  {
   "cell_type": "code",
   "execution_count": null,
   "metadata": {},
   "outputs": [],
   "source": [
    "plt.stem(result_with_rain['rain_intensity_mm_sec']*3600*24, markerfmt=\" \")\n",
    "plt.xticks(rotation=45)\n",
    "plt.xlabel(\"Date\")\n",
    "plt.ylabel(\"Rainfall (mm/day)\")\n",
    "plt.savefig(\"rainfall_timeseries.png\")"
   ]
  },
  {
   "cell_type": "code",
   "execution_count": null,
   "metadata": {},
   "outputs": [],
   "source": [
    "result_with_rain.head()"
   ]
  },
  {
   "cell_type": "code",
   "execution_count": null,
   "metadata": {},
   "outputs": [],
   "source": [
    "result_with_rain[\"sign\"] \n",
    "result_with_rain[\"final_gm\"] "
   ]
  },
  {
   "cell_type": "code",
   "execution_count": 188,
   "metadata": {},
   "outputs": [],
   "source": [
    "result_with_rain_2 = result_with_rain[:1000]"
   ]
  },
  {
   "cell_type": "code",
   "execution_count": null,
   "metadata": {},
   "outputs": [],
   "source": [
    "result_with_rain_2"
   ]
  },
  {
   "cell_type": "code",
   "execution_count": 75,
   "metadata": {},
   "outputs": [],
   "source": [
    "# Remove duplicates of the ground motion data. If multiple points within the same pixel,\n",
    "# choose the one with the highest ground motion \n",
    "def gm_function(v):\n",
    "    num_ground_motion = pd.to_numeric(v.ground_motion)\n",
    "    index = num_ground_motion.abs().idxmax()\n",
    "    return v.ground_motion[index]\n",
    "\n",
    "a = pd.DataFrame(\n",
    "    [\n",
    "        {\n",
    "            'rain_intensity_mm_sec': k[8],\n",
    "            'distance_to_road': k[7],\n",
    "            'datasource': k[6],\n",
    "            'aspect': k[5],\n",
    "            'curvature': k[4],\n",
    "            'slope': k[3],\n",
    "            'time': k[2],\n",
    "            'rows': k[0],\n",
    "            'cols': k[1],\n",
    "            'ground_motion': gm_function(v)\n",
    "        }\n",
    "        for k,v in result_with_rain.groupby(['rows','cols', 'time', 'slope', 'curvature', 'aspect', 'datasource', 'distance_to_road', 'rain_intensity_mm_sec'])],\n",
    "    columns=['time','rows', 'cols','ground_motion','slope', 'curvature', 'aspect', 'datasource', 'distance_to_road', 'rain_intensity_mm_sec']\n",
    ")"
   ]
  },
  {
   "cell_type": "code",
   "execution_count": 76,
   "metadata": {},
   "outputs": [
    {
     "data": {
      "text/html": [
       "<div>\n",
       "<style scoped>\n",
       "    .dataframe tbody tr th:only-of-type {\n",
       "        vertical-align: middle;\n",
       "    }\n",
       "\n",
       "    .dataframe tbody tr th {\n",
       "        vertical-align: top;\n",
       "    }\n",
       "\n",
       "    .dataframe thead th {\n",
       "        text-align: right;\n",
       "    }\n",
       "</style>\n",
       "<table border=\"1\" class=\"dataframe\">\n",
       "  <thead>\n",
       "    <tr style=\"text-align: right;\">\n",
       "      <th></th>\n",
       "      <th>time</th>\n",
       "      <th>rows</th>\n",
       "      <th>cols</th>\n",
       "      <th>ground_motion</th>\n",
       "      <th>slope</th>\n",
       "      <th>curvature</th>\n",
       "      <th>aspect</th>\n",
       "      <th>datasource</th>\n",
       "      <th>distance_to_road</th>\n",
       "      <th>rain_intensity_mm_sec</th>\n",
       "    </tr>\n",
       "  </thead>\n",
       "  <tbody>\n",
       "    <tr>\n",
       "      <th>2199021</th>\n",
       "      <td>2018-12-04</td>\n",
       "      <td>2580</td>\n",
       "      <td>2684</td>\n",
       "      <td>17.32</td>\n",
       "      <td>0.074263</td>\n",
       "      <td>-0.002723</td>\n",
       "      <td>88.678833</td>\n",
       "      <td>0.0</td>\n",
       "      <td>2.455702e+09</td>\n",
       "      <td>3.969236e-08</td>\n",
       "    </tr>\n",
       "    <tr>\n",
       "      <th>2199022</th>\n",
       "      <td>2018-12-10</td>\n",
       "      <td>2580</td>\n",
       "      <td>2684</td>\n",
       "      <td>23.28</td>\n",
       "      <td>0.074263</td>\n",
       "      <td>-0.002723</td>\n",
       "      <td>88.678833</td>\n",
       "      <td>0.0</td>\n",
       "      <td>2.455702e+09</td>\n",
       "      <td>9.461043e-06</td>\n",
       "    </tr>\n",
       "    <tr>\n",
       "      <th>2199023</th>\n",
       "      <td>2018-12-16</td>\n",
       "      <td>2580</td>\n",
       "      <td>2684</td>\n",
       "      <td>24.1</td>\n",
       "      <td>0.074263</td>\n",
       "      <td>-0.002723</td>\n",
       "      <td>88.678833</td>\n",
       "      <td>0.0</td>\n",
       "      <td>2.455702e+09</td>\n",
       "      <td>2.248211e-08</td>\n",
       "    </tr>\n",
       "    <tr>\n",
       "      <th>2199024</th>\n",
       "      <td>2018-12-22</td>\n",
       "      <td>2580</td>\n",
       "      <td>2684</td>\n",
       "      <td>21.91</td>\n",
       "      <td>0.074263</td>\n",
       "      <td>-0.002723</td>\n",
       "      <td>88.678833</td>\n",
       "      <td>0.0</td>\n",
       "      <td>2.455702e+09</td>\n",
       "      <td>1.898163e-04</td>\n",
       "    </tr>\n",
       "    <tr>\n",
       "      <th>2199025</th>\n",
       "      <td>2018-12-28</td>\n",
       "      <td>2580</td>\n",
       "      <td>2684</td>\n",
       "      <td>21.03</td>\n",
       "      <td>0.074263</td>\n",
       "      <td>-0.002723</td>\n",
       "      <td>88.678833</td>\n",
       "      <td>0.0</td>\n",
       "      <td>2.455702e+09</td>\n",
       "      <td>6.402224e-07</td>\n",
       "    </tr>\n",
       "  </tbody>\n",
       "</table>\n",
       "</div>"
      ],
      "text/plain": [
       "              time  rows  cols ground_motion     slope  curvature     aspect  \\\n",
       "2199021 2018-12-04  2580  2684         17.32  0.074263  -0.002723  88.678833   \n",
       "2199022 2018-12-10  2580  2684         23.28  0.074263  -0.002723  88.678833   \n",
       "2199023 2018-12-16  2580  2684          24.1  0.074263  -0.002723  88.678833   \n",
       "2199024 2018-12-22  2580  2684         21.91  0.074263  -0.002723  88.678833   \n",
       "2199025 2018-12-28  2580  2684         21.03  0.074263  -0.002723  88.678833   \n",
       "\n",
       "         datasource  distance_to_road  rain_intensity_mm_sec  \n",
       "2199021         0.0      2.455702e+09           3.969236e-08  \n",
       "2199022         0.0      2.455702e+09           9.461043e-06  \n",
       "2199023         0.0      2.455702e+09           2.248211e-08  \n",
       "2199024         0.0      2.455702e+09           1.898163e-04  \n",
       "2199025         0.0      2.455702e+09           6.402224e-07  "
      ]
     },
     "execution_count": 76,
     "metadata": {},
     "output_type": "execute_result"
    }
   ],
   "source": [
    "a.tail()"
   ]
  },
  {
   "cell_type": "markdown",
   "metadata": {},
   "source": [
    "The bit of code below is just to test that the function to remove duplicates work. "
   ]
  },
  {
   "cell_type": "code",
   "execution_count": 13,
   "metadata": {},
   "outputs": [],
   "source": [
    "#selects the duplicated rows \n",
    "duplicateRowsDF = result_with_rain[result_with_rain.duplicated([\"rows\",\"cols\", \"time\"])]"
   ]
  },
  {
   "cell_type": "code",
   "execution_count": 14,
   "metadata": {},
   "outputs": [
    {
     "data": {
      "text/html": [
       "<div>\n",
       "<style scoped>\n",
       "    .dataframe tbody tr th:only-of-type {\n",
       "        vertical-align: middle;\n",
       "    }\n",
       "\n",
       "    .dataframe tbody tr th {\n",
       "        vertical-align: top;\n",
       "    }\n",
       "\n",
       "    .dataframe thead th {\n",
       "        text-align: right;\n",
       "    }\n",
       "</style>\n",
       "<table border=\"1\" class=\"dataframe\">\n",
       "  <thead>\n",
       "    <tr style=\"text-align: right;\">\n",
       "      <th></th>\n",
       "      <th>time</th>\n",
       "      <th>ground_motion</th>\n",
       "      <th>slope</th>\n",
       "      <th>curvature</th>\n",
       "      <th>aspect</th>\n",
       "      <th>rows</th>\n",
       "      <th>cols</th>\n",
       "      <th>datasource</th>\n",
       "      <th>distance_to_road</th>\n",
       "      <th>rain_intensity_mm_sec</th>\n",
       "    </tr>\n",
       "  </thead>\n",
       "  <tbody>\n",
       "    <tr>\n",
       "      <th>62</th>\n",
       "      <td>2014-12-31</td>\n",
       "      <td>-5.42</td>\n",
       "      <td>0.162571</td>\n",
       "      <td>0.000264618</td>\n",
       "      <td>82.0757</td>\n",
       "      <td>1741</td>\n",
       "      <td>691</td>\n",
       "      <td>0</td>\n",
       "      <td>2.26737e+09</td>\n",
       "      <td>0.000024</td>\n",
       "    </tr>\n",
       "    <tr>\n",
       "      <th>73</th>\n",
       "      <td>2014-12-31</td>\n",
       "      <td>-14.27</td>\n",
       "      <td>0.107192</td>\n",
       "      <td>0.000853417</td>\n",
       "      <td>325.325</td>\n",
       "      <td>2220</td>\n",
       "      <td>2255</td>\n",
       "      <td>0</td>\n",
       "      <td>2.41538e+09</td>\n",
       "      <td>0.000024</td>\n",
       "    </tr>\n",
       "    <tr>\n",
       "      <th>80</th>\n",
       "      <td>2014-12-31</td>\n",
       "      <td>-2.14</td>\n",
       "      <td>0.168507</td>\n",
       "      <td>0.000417155</td>\n",
       "      <td>109.825</td>\n",
       "      <td>2082</td>\n",
       "      <td>1426</td>\n",
       "      <td>0</td>\n",
       "      <td>2.33554e+09</td>\n",
       "      <td>0.000024</td>\n",
       "    </tr>\n",
       "    <tr>\n",
       "      <th>321</th>\n",
       "      <td>2014-12-31</td>\n",
       "      <td>28.09</td>\n",
       "      <td>0.124793</td>\n",
       "      <td>0.000747802</td>\n",
       "      <td>200.518</td>\n",
       "      <td>1690</td>\n",
       "      <td>1781</td>\n",
       "      <td>0</td>\n",
       "      <td>2.37245e+09</td>\n",
       "      <td>0.000024</td>\n",
       "    </tr>\n",
       "    <tr>\n",
       "      <th>944</th>\n",
       "      <td>2014-12-31</td>\n",
       "      <td>22.59</td>\n",
       "      <td>0.142745</td>\n",
       "      <td>-7.35854e-06</td>\n",
       "      <td>349.989</td>\n",
       "      <td>466</td>\n",
       "      <td>995</td>\n",
       "      <td>0</td>\n",
       "      <td>2.30658e+09</td>\n",
       "      <td>0.000024</td>\n",
       "    </tr>\n",
       "  </tbody>\n",
       "</table>\n",
       "</div>"
      ],
      "text/plain": [
       "          time ground_motion     slope    curvature   aspect  rows  cols  \\\n",
       "62  2014-12-31         -5.42  0.162571  0.000264618  82.0757  1741   691   \n",
       "73  2014-12-31        -14.27  0.107192  0.000853417  325.325  2220  2255   \n",
       "80  2014-12-31         -2.14  0.168507  0.000417155  109.825  2082  1426   \n",
       "321 2014-12-31         28.09  0.124793  0.000747802  200.518  1690  1781   \n",
       "944 2014-12-31         22.59  0.142745 -7.35854e-06  349.989   466   995   \n",
       "\n",
       "    datasource distance_to_road  rain_intensity_mm_sec  \n",
       "62           0      2.26737e+09               0.000024  \n",
       "73           0      2.41538e+09               0.000024  \n",
       "80           0      2.33554e+09               0.000024  \n",
       "321          0      2.37245e+09               0.000024  \n",
       "944          0      2.30658e+09               0.000024  "
      ]
     },
     "execution_count": 14,
     "metadata": {},
     "output_type": "execute_result"
    }
   ],
   "source": [
    "duplicateRowsDF.head()"
   ]
  },
  {
   "cell_type": "code",
   "execution_count": 200,
   "metadata": {},
   "outputs": [],
   "source": [
    "b = result_with_rain.loc[(result_with_rain['rows'] == 1741) & (result_with_rain['cols'] == 691)]"
   ]
  },
  {
   "cell_type": "code",
   "execution_count": 201,
   "metadata": {},
   "outputs": [],
   "source": [
    "c = a.loc[(a['rows'] == 1741) & (a['cols'] == 691)]"
   ]
  },
  {
   "cell_type": "code",
   "execution_count": 202,
   "metadata": {},
   "outputs": [
    {
     "data": {
      "text/html": [
       "<div>\n",
       "<style scoped>\n",
       "    .dataframe tbody tr th:only-of-type {\n",
       "        vertical-align: middle;\n",
       "    }\n",
       "\n",
       "    .dataframe tbody tr th {\n",
       "        vertical-align: top;\n",
       "    }\n",
       "\n",
       "    .dataframe thead th {\n",
       "        text-align: right;\n",
       "    }\n",
       "</style>\n",
       "<table border=\"1\" class=\"dataframe\">\n",
       "  <thead>\n",
       "    <tr style=\"text-align: right;\">\n",
       "      <th></th>\n",
       "      <th>time</th>\n",
       "      <th>ground_motion</th>\n",
       "      <th>slope</th>\n",
       "      <th>curvature</th>\n",
       "      <th>aspect</th>\n",
       "      <th>rows</th>\n",
       "      <th>cols</th>\n",
       "      <th>datasource</th>\n",
       "      <th>distance_to_road</th>\n",
       "      <th>rain_intensity_mm_sec</th>\n",
       "    </tr>\n",
       "  </thead>\n",
       "  <tbody>\n",
       "    <tr>\n",
       "      <th>16</th>\n",
       "      <td>2014-12-31</td>\n",
       "      <td>0.75</td>\n",
       "      <td>0.162571</td>\n",
       "      <td>0.000264618</td>\n",
       "      <td>82.0757</td>\n",
       "      <td>1741</td>\n",
       "      <td>691</td>\n",
       "      <td>0</td>\n",
       "      <td>2.26737e+09</td>\n",
       "      <td>2.445618e-05</td>\n",
       "    </tr>\n",
       "    <tr>\n",
       "      <th>62</th>\n",
       "      <td>2014-12-31</td>\n",
       "      <td>-5.42</td>\n",
       "      <td>0.162571</td>\n",
       "      <td>0.000264618</td>\n",
       "      <td>82.0757</td>\n",
       "      <td>1741</td>\n",
       "      <td>691</td>\n",
       "      <td>0</td>\n",
       "      <td>2.26737e+09</td>\n",
       "      <td>2.445618e-05</td>\n",
       "    </tr>\n",
       "    <tr>\n",
       "      <th>14384</th>\n",
       "      <td>2015-03-13</td>\n",
       "      <td>-7.48</td>\n",
       "      <td>0.162571</td>\n",
       "      <td>0.000264618</td>\n",
       "      <td>82.0757</td>\n",
       "      <td>1741</td>\n",
       "      <td>691</td>\n",
       "      <td>0</td>\n",
       "      <td>2.26737e+09</td>\n",
       "      <td>3.958338e-07</td>\n",
       "    </tr>\n",
       "    <tr>\n",
       "      <th>14390</th>\n",
       "      <td>2015-03-13</td>\n",
       "      <td>0.07</td>\n",
       "      <td>0.162571</td>\n",
       "      <td>0.000264618</td>\n",
       "      <td>82.0757</td>\n",
       "      <td>1741</td>\n",
       "      <td>691</td>\n",
       "      <td>0</td>\n",
       "      <td>2.26737e+09</td>\n",
       "      <td>3.958338e-07</td>\n",
       "    </tr>\n",
       "    <tr>\n",
       "      <th>21261</th>\n",
       "      <td>2015-03-25</td>\n",
       "      <td>-0.72</td>\n",
       "      <td>0.162571</td>\n",
       "      <td>0.000264618</td>\n",
       "      <td>82.0757</td>\n",
       "      <td>1741</td>\n",
       "      <td>691</td>\n",
       "      <td>0</td>\n",
       "      <td>2.26737e+09</td>\n",
       "      <td>1.413031e-04</td>\n",
       "    </tr>\n",
       "  </tbody>\n",
       "</table>\n",
       "</div>"
      ],
      "text/plain": [
       "            time ground_motion     slope    curvature   aspect  rows cols  \\\n",
       "16    2014-12-31          0.75  0.162571  0.000264618  82.0757  1741  691   \n",
       "62    2014-12-31         -5.42  0.162571  0.000264618  82.0757  1741  691   \n",
       "14384 2015-03-13         -7.48  0.162571  0.000264618  82.0757  1741  691   \n",
       "14390 2015-03-13          0.07  0.162571  0.000264618  82.0757  1741  691   \n",
       "21261 2015-03-25         -0.72  0.162571  0.000264618  82.0757  1741  691   \n",
       "\n",
       "      datasource distance_to_road  rain_intensity_mm_sec  \n",
       "16             0      2.26737e+09           2.445618e-05  \n",
       "62             0      2.26737e+09           2.445618e-05  \n",
       "14384          0      2.26737e+09           3.958338e-07  \n",
       "14390          0      2.26737e+09           3.958338e-07  \n",
       "21261          0      2.26737e+09           1.413031e-04  "
      ]
     },
     "execution_count": 202,
     "metadata": {},
     "output_type": "execute_result"
    }
   ],
   "source": [
    "b.head()"
   ]
  },
  {
   "cell_type": "code",
   "execution_count": 203,
   "metadata": {},
   "outputs": [
    {
     "data": {
      "text/html": [
       "<div>\n",
       "<style scoped>\n",
       "    .dataframe tbody tr th:only-of-type {\n",
       "        vertical-align: middle;\n",
       "    }\n",
       "\n",
       "    .dataframe tbody tr th {\n",
       "        vertical-align: top;\n",
       "    }\n",
       "\n",
       "    .dataframe thead th {\n",
       "        text-align: right;\n",
       "    }\n",
       "</style>\n",
       "<table border=\"1\" class=\"dataframe\">\n",
       "  <thead>\n",
       "    <tr style=\"text-align: right;\">\n",
       "      <th></th>\n",
       "      <th>time</th>\n",
       "      <th>rows</th>\n",
       "      <th>cols</th>\n",
       "      <th>ground_motion</th>\n",
       "    </tr>\n",
       "  </thead>\n",
       "  <tbody>\n",
       "    <tr>\n",
       "      <th>1916104</th>\n",
       "      <td>2014-12-31</td>\n",
       "      <td>1741</td>\n",
       "      <td>691</td>\n",
       "      <td>-5.42</td>\n",
       "    </tr>\n",
       "    <tr>\n",
       "      <th>1916105</th>\n",
       "      <td>2015-03-13</td>\n",
       "      <td>1741</td>\n",
       "      <td>691</td>\n",
       "      <td>-7.48</td>\n",
       "    </tr>\n",
       "    <tr>\n",
       "      <th>1916106</th>\n",
       "      <td>2015-03-25</td>\n",
       "      <td>1741</td>\n",
       "      <td>691</td>\n",
       "      <td>-9.25</td>\n",
       "    </tr>\n",
       "    <tr>\n",
       "      <th>1916107</th>\n",
       "      <td>2015-04-06</td>\n",
       "      <td>1741</td>\n",
       "      <td>691</td>\n",
       "      <td>-10.38</td>\n",
       "    </tr>\n",
       "    <tr>\n",
       "      <th>1916108</th>\n",
       "      <td>2015-04-30</td>\n",
       "      <td>1741</td>\n",
       "      <td>691</td>\n",
       "      <td>-10.87</td>\n",
       "    </tr>\n",
       "  </tbody>\n",
       "</table>\n",
       "</div>"
      ],
      "text/plain": [
       "              time  rows  cols  ground_motion\n",
       "1916104 2014-12-31  1741   691          -5.42\n",
       "1916105 2015-03-13  1741   691          -7.48\n",
       "1916106 2015-03-25  1741   691          -9.25\n",
       "1916107 2015-04-06  1741   691         -10.38\n",
       "1916108 2015-04-30  1741   691         -10.87"
      ]
     },
     "execution_count": 203,
     "metadata": {},
     "output_type": "execute_result"
    }
   ],
   "source": [
    "c.head()"
   ]
  },
  {
   "cell_type": "code",
   "execution_count": 15,
   "metadata": {},
   "outputs": [
    {
     "data": {
      "text/plain": [
       "0.0    1286080\n",
       "1.0    1007078\n",
       "Name: datasource, dtype: int64"
      ]
     },
     "execution_count": 15,
     "metadata": {},
     "output_type": "execute_result"
    }
   ],
   "source": [
    "result_with_rain['datasource'].value_counts()"
   ]
  },
  {
   "cell_type": "code",
   "execution_count": null,
   "metadata": {
    "scrolled": true
   },
   "outputs": [],
   "source": [
    "import matplotlib.dates as mdates\n",
    "fig,ax1 = plt.subplots()\n",
    "fig.set_figheight(10)\n",
    "fig.set_figwidth(20)\n",
    "plt.scatter(result_with_rain.index,result_with_rain['ground_motion'])\n",
    "ax1.xaxis.set_major_locator(mdates.MonthLocator(interval=1))\n",
    "monthyearFmt = mdates.DateFormatter('%Y %B')\n",
    "ax1.xaxis.set_major_formatter(monthyearFmt)\n",
    "_ = plt.xticks(rotation=90)"
   ]
  },
  {
   "cell_type": "code",
   "execution_count": null,
   "metadata": {},
   "outputs": [],
   "source": [
    "import matplotlib.dates as mdates\n",
    "fig,ax1 = plt.subplots()\n",
    "fig.set_figheight(10)\n",
    "fig.set_figwidth(20)\n",
    "plt.scatter(result_with_rain.index,result_with_rain['rows'])\n"
   ]
  },
  {
   "cell_type": "code",
   "execution_count": 29,
   "metadata": {},
   "outputs": [],
   "source": [
    "# need to reindex \n",
    "result_with_rain = a\n"
   ]
  },
  {
   "cell_type": "code",
   "execution_count": 36,
   "metadata": {},
   "outputs": [
    {
     "data": {
      "text/html": [
       "<div>\n",
       "<style scoped>\n",
       "    .dataframe tbody tr th:only-of-type {\n",
       "        vertical-align: middle;\n",
       "    }\n",
       "\n",
       "    .dataframe tbody tr th {\n",
       "        vertical-align: top;\n",
       "    }\n",
       "\n",
       "    .dataframe thead th {\n",
       "        text-align: right;\n",
       "    }\n",
       "</style>\n",
       "<table border=\"1\" class=\"dataframe\">\n",
       "  <thead>\n",
       "    <tr style=\"text-align: right;\">\n",
       "      <th></th>\n",
       "      <th>ground_motion</th>\n",
       "      <th>slope</th>\n",
       "      <th>curvature</th>\n",
       "      <th>aspect</th>\n",
       "      <th>rows</th>\n",
       "      <th>cols</th>\n",
       "      <th>datasource</th>\n",
       "      <th>distance_to_road</th>\n",
       "      <th>rain_intensity_mm_sec</th>\n",
       "    </tr>\n",
       "    <tr>\n",
       "      <th>time</th>\n",
       "      <th></th>\n",
       "      <th></th>\n",
       "      <th></th>\n",
       "      <th></th>\n",
       "      <th></th>\n",
       "      <th></th>\n",
       "      <th></th>\n",
       "      <th></th>\n",
       "      <th></th>\n",
       "    </tr>\n",
       "  </thead>\n",
       "  <tbody>\n",
       "    <tr>\n",
       "      <th>2014-12-31</th>\n",
       "      <td>27.21</td>\n",
       "      <td>0.210794</td>\n",
       "      <td>-4.46151e-06</td>\n",
       "      <td>169.203</td>\n",
       "      <td>1055</td>\n",
       "      <td>2313</td>\n",
       "      <td>0</td>\n",
       "      <td>2.42918e+09</td>\n",
       "      <td>0.000024</td>\n",
       "    </tr>\n",
       "    <tr>\n",
       "      <th>2014-12-31</th>\n",
       "      <td>3.41</td>\n",
       "      <td>0.0280107</td>\n",
       "      <td>2.14703e-05</td>\n",
       "      <td>248.31</td>\n",
       "      <td>1609</td>\n",
       "      <td>1458</td>\n",
       "      <td>0</td>\n",
       "      <td>2.34173e+09</td>\n",
       "      <td>0.000024</td>\n",
       "    </tr>\n",
       "    <tr>\n",
       "      <th>2014-12-31</th>\n",
       "      <td>6.16</td>\n",
       "      <td>0.315373</td>\n",
       "      <td>-0.00186646</td>\n",
       "      <td>156.738</td>\n",
       "      <td>1677</td>\n",
       "      <td>320</td>\n",
       "      <td>0</td>\n",
       "      <td>2.2327e+09</td>\n",
       "      <td>0.000024</td>\n",
       "    </tr>\n",
       "    <tr>\n",
       "      <th>2014-12-31</th>\n",
       "      <td>17.29</td>\n",
       "      <td>0.165681</td>\n",
       "      <td>4.60265e-07</td>\n",
       "      <td>194.658</td>\n",
       "      <td>1896</td>\n",
       "      <td>576</td>\n",
       "      <td>0</td>\n",
       "      <td>2.25544e+09</td>\n",
       "      <td>0.000024</td>\n",
       "    </tr>\n",
       "    <tr>\n",
       "      <th>2014-12-31</th>\n",
       "      <td>13.92</td>\n",
       "      <td>0.164436</td>\n",
       "      <td>0.0253468</td>\n",
       "      <td>161.393</td>\n",
       "      <td>765</td>\n",
       "      <td>1977</td>\n",
       "      <td>0</td>\n",
       "      <td>2.39873e+09</td>\n",
       "      <td>0.000024</td>\n",
       "    </tr>\n",
       "  </tbody>\n",
       "</table>\n",
       "</div>"
      ],
      "text/plain": [
       "           ground_motion      slope    curvature   aspect  rows  cols  \\\n",
       "time                                                                    \n",
       "2014-12-31         27.21   0.210794 -4.46151e-06  169.203  1055  2313   \n",
       "2014-12-31          3.41  0.0280107  2.14703e-05   248.31  1609  1458   \n",
       "2014-12-31          6.16   0.315373  -0.00186646  156.738  1677   320   \n",
       "2014-12-31         17.29   0.165681  4.60265e-07  194.658  1896   576   \n",
       "2014-12-31         13.92   0.164436    0.0253468  161.393   765  1977   \n",
       "\n",
       "           datasource distance_to_road  rain_intensity_mm_sec  \n",
       "time                                                           \n",
       "2014-12-31          0      2.42918e+09               0.000024  \n",
       "2014-12-31          0      2.34173e+09               0.000024  \n",
       "2014-12-31          0       2.2327e+09               0.000024  \n",
       "2014-12-31          0      2.25544e+09               0.000024  \n",
       "2014-12-31          0      2.39873e+09               0.000024  "
      ]
     },
     "execution_count": 36,
     "metadata": {},
     "output_type": "execute_result"
    }
   ],
   "source": [
    "result_with_rain.head()"
   ]
  },
  {
   "cell_type": "code",
   "execution_count": 77,
   "metadata": {},
   "outputs": [],
   "source": [
    "a_csv_data = a.to_csv('non_duplicates_all_data.csv', index = True)"
   ]
  },
  {
   "cell_type": "markdown",
   "metadata": {},
   "source": [
    "Now we need to sort out the data without duplicates so that they actually correspond to the right values because as it is now, only that data is being input in the model. So we are excluding the values from the other columns.  "
   ]
  },
  {
   "cell_type": "code",
   "execution_count": 11,
   "metadata": {},
   "outputs": [],
   "source": [
    "# load the non_duplicate data \n",
    "no_duplicates = pd.read_csv(\"non_duplicates_all_data.csv\")"
   ]
  },
  {
   "cell_type": "code",
   "execution_count": 6,
   "metadata": {},
   "outputs": [],
   "source": [
    "no_duplicates = no_duplicates.drop(no_duplicates.columns[[0]], axis=1)"
   ]
  },
  {
   "cell_type": "markdown",
   "metadata": {},
   "source": [
    "Re-index the dataframe to have the date as the index. "
   ]
  },
  {
   "cell_type": "code",
   "execution_count": 135,
   "metadata": {},
   "outputs": [
    {
     "data": {
      "text/html": [
       "<div>\n",
       "<style scoped>\n",
       "    .dataframe tbody tr th:only-of-type {\n",
       "        vertical-align: middle;\n",
       "    }\n",
       "\n",
       "    .dataframe tbody tr th {\n",
       "        vertical-align: top;\n",
       "    }\n",
       "\n",
       "    .dataframe thead th {\n",
       "        text-align: right;\n",
       "    }\n",
       "</style>\n",
       "<table border=\"1\" class=\"dataframe\">\n",
       "  <thead>\n",
       "    <tr style=\"text-align: right;\">\n",
       "      <th></th>\n",
       "      <th>ground_motion</th>\n",
       "      <th>slope</th>\n",
       "      <th>curvature</th>\n",
       "      <th>aspect</th>\n",
       "      <th>rows</th>\n",
       "      <th>cols</th>\n",
       "      <th>datasource</th>\n",
       "      <th>distance_to_road</th>\n",
       "      <th>rain_intensity_mm_sec</th>\n",
       "    </tr>\n",
       "    <tr>\n",
       "      <th>time</th>\n",
       "      <th></th>\n",
       "      <th></th>\n",
       "      <th></th>\n",
       "      <th></th>\n",
       "      <th></th>\n",
       "      <th></th>\n",
       "      <th></th>\n",
       "      <th></th>\n",
       "      <th></th>\n",
       "    </tr>\n",
       "  </thead>\n",
       "  <tbody>\n",
       "    <tr>\n",
       "      <th>2014-12-31</th>\n",
       "      <td>27.21</td>\n",
       "      <td>0.210794</td>\n",
       "      <td>-4.46151e-06</td>\n",
       "      <td>169.203</td>\n",
       "      <td>1055</td>\n",
       "      <td>2313</td>\n",
       "      <td>0</td>\n",
       "      <td>2.42918e+09</td>\n",
       "      <td>0.000024</td>\n",
       "    </tr>\n",
       "    <tr>\n",
       "      <th>2014-12-31</th>\n",
       "      <td>3.41</td>\n",
       "      <td>0.0280107</td>\n",
       "      <td>2.14703e-05</td>\n",
       "      <td>248.31</td>\n",
       "      <td>1609</td>\n",
       "      <td>1458</td>\n",
       "      <td>0</td>\n",
       "      <td>2.34173e+09</td>\n",
       "      <td>0.000024</td>\n",
       "    </tr>\n",
       "    <tr>\n",
       "      <th>2014-12-31</th>\n",
       "      <td>6.16</td>\n",
       "      <td>0.315373</td>\n",
       "      <td>-0.00186646</td>\n",
       "      <td>156.738</td>\n",
       "      <td>1677</td>\n",
       "      <td>320</td>\n",
       "      <td>0</td>\n",
       "      <td>2.2327e+09</td>\n",
       "      <td>0.000024</td>\n",
       "    </tr>\n",
       "    <tr>\n",
       "      <th>2014-12-31</th>\n",
       "      <td>17.29</td>\n",
       "      <td>0.165681</td>\n",
       "      <td>4.60265e-07</td>\n",
       "      <td>194.658</td>\n",
       "      <td>1896</td>\n",
       "      <td>576</td>\n",
       "      <td>0</td>\n",
       "      <td>2.25544e+09</td>\n",
       "      <td>0.000024</td>\n",
       "    </tr>\n",
       "    <tr>\n",
       "      <th>2014-12-31</th>\n",
       "      <td>13.92</td>\n",
       "      <td>0.164436</td>\n",
       "      <td>0.0253468</td>\n",
       "      <td>161.393</td>\n",
       "      <td>765</td>\n",
       "      <td>1977</td>\n",
       "      <td>0</td>\n",
       "      <td>2.39873e+09</td>\n",
       "      <td>0.000024</td>\n",
       "    </tr>\n",
       "  </tbody>\n",
       "</table>\n",
       "</div>"
      ],
      "text/plain": [
       "           ground_motion      slope    curvature   aspect  rows  cols  \\\n",
       "time                                                                    \n",
       "2014-12-31         27.21   0.210794 -4.46151e-06  169.203  1055  2313   \n",
       "2014-12-31          3.41  0.0280107  2.14703e-05   248.31  1609  1458   \n",
       "2014-12-31          6.16   0.315373  -0.00186646  156.738  1677   320   \n",
       "2014-12-31         17.29   0.165681  4.60265e-07  194.658  1896   576   \n",
       "2014-12-31         13.92   0.164436    0.0253468  161.393   765  1977   \n",
       "\n",
       "           datasource distance_to_road  rain_intensity_mm_sec  \n",
       "time                                                           \n",
       "2014-12-31          0      2.42918e+09               0.000024  \n",
       "2014-12-31          0      2.34173e+09               0.000024  \n",
       "2014-12-31          0       2.2327e+09               0.000024  \n",
       "2014-12-31          0      2.25544e+09               0.000024  \n",
       "2014-12-31          0      2.39873e+09               0.000024  "
      ]
     },
     "execution_count": 135,
     "metadata": {},
     "output_type": "execute_result"
    }
   ],
   "source": [
    "result_with_rain.head()"
   ]
  },
  {
   "cell_type": "code",
   "execution_count": 136,
   "metadata": {},
   "outputs": [
    {
     "data": {
      "text/html": [
       "<div>\n",
       "<style scoped>\n",
       "    .dataframe tbody tr th:only-of-type {\n",
       "        vertical-align: middle;\n",
       "    }\n",
       "\n",
       "    .dataframe tbody tr th {\n",
       "        vertical-align: top;\n",
       "    }\n",
       "\n",
       "    .dataframe thead th {\n",
       "        text-align: right;\n",
       "    }\n",
       "</style>\n",
       "<table border=\"1\" class=\"dataframe\">\n",
       "  <thead>\n",
       "    <tr style=\"text-align: right;\">\n",
       "      <th></th>\n",
       "      <th>Unnamed: 0</th>\n",
       "      <th>time</th>\n",
       "      <th>rows</th>\n",
       "      <th>cols</th>\n",
       "      <th>ground_motion</th>\n",
       "      <th>slope</th>\n",
       "      <th>curvature</th>\n",
       "      <th>aspect</th>\n",
       "      <th>datasource</th>\n",
       "      <th>distance_to_road</th>\n",
       "      <th>rain_intensity_mm_sec</th>\n",
       "    </tr>\n",
       "  </thead>\n",
       "  <tbody>\n",
       "    <tr>\n",
       "      <th>0</th>\n",
       "      <td>0</td>\n",
       "      <td>2014-12-31</td>\n",
       "      <td>117</td>\n",
       "      <td>1792</td>\n",
       "      <td>-0.7800000000000004</td>\n",
       "      <td>0.065193</td>\n",
       "      <td>-0.001018</td>\n",
       "      <td>64.341156</td>\n",
       "      <td>0.0</td>\n",
       "      <td>2.386776e+09</td>\n",
       "      <td>2.445618e-05</td>\n",
       "    </tr>\n",
       "    <tr>\n",
       "      <th>1</th>\n",
       "      <td>1</td>\n",
       "      <td>2015-03-13</td>\n",
       "      <td>117</td>\n",
       "      <td>1792</td>\n",
       "      <td>-3.14</td>\n",
       "      <td>0.065193</td>\n",
       "      <td>-0.001018</td>\n",
       "      <td>64.341156</td>\n",
       "      <td>0.0</td>\n",
       "      <td>2.386776e+09</td>\n",
       "      <td>3.958338e-07</td>\n",
       "    </tr>\n",
       "    <tr>\n",
       "      <th>2</th>\n",
       "      <td>2</td>\n",
       "      <td>2015-03-25</td>\n",
       "      <td>117</td>\n",
       "      <td>1792</td>\n",
       "      <td>-3.94</td>\n",
       "      <td>0.065193</td>\n",
       "      <td>-0.001018</td>\n",
       "      <td>64.341156</td>\n",
       "      <td>0.0</td>\n",
       "      <td>2.386776e+09</td>\n",
       "      <td>1.413031e-04</td>\n",
       "    </tr>\n",
       "    <tr>\n",
       "      <th>3</th>\n",
       "      <td>3</td>\n",
       "      <td>2015-04-06</td>\n",
       "      <td>117</td>\n",
       "      <td>1792</td>\n",
       "      <td>-4.67</td>\n",
       "      <td>0.065193</td>\n",
       "      <td>-0.001018</td>\n",
       "      <td>64.341156</td>\n",
       "      <td>0.0</td>\n",
       "      <td>2.386776e+09</td>\n",
       "      <td>1.639528e-06</td>\n",
       "    </tr>\n",
       "    <tr>\n",
       "      <th>4</th>\n",
       "      <td>4</td>\n",
       "      <td>2015-04-30</td>\n",
       "      <td>117</td>\n",
       "      <td>1792</td>\n",
       "      <td>-5.35</td>\n",
       "      <td>0.065193</td>\n",
       "      <td>-0.001018</td>\n",
       "      <td>64.341156</td>\n",
       "      <td>0.0</td>\n",
       "      <td>2.386776e+09</td>\n",
       "      <td>9.664785e-08</td>\n",
       "    </tr>\n",
       "  </tbody>\n",
       "</table>\n",
       "</div>"
      ],
      "text/plain": [
       "   Unnamed: 0        time  rows  cols        ground_motion     slope  \\\n",
       "0           0  2014-12-31   117  1792  -0.7800000000000004  0.065193   \n",
       "1           1  2015-03-13   117  1792                -3.14  0.065193   \n",
       "2           2  2015-03-25   117  1792                -3.94  0.065193   \n",
       "3           3  2015-04-06   117  1792                -4.67  0.065193   \n",
       "4           4  2015-04-30   117  1792                -5.35  0.065193   \n",
       "\n",
       "   curvature     aspect  datasource  distance_to_road  rain_intensity_mm_sec  \n",
       "0  -0.001018  64.341156         0.0      2.386776e+09           2.445618e-05  \n",
       "1  -0.001018  64.341156         0.0      2.386776e+09           3.958338e-07  \n",
       "2  -0.001018  64.341156         0.0      2.386776e+09           1.413031e-04  \n",
       "3  -0.001018  64.341156         0.0      2.386776e+09           1.639528e-06  \n",
       "4  -0.001018  64.341156         0.0      2.386776e+09           9.664785e-08  "
      ]
     },
     "execution_count": 136,
     "metadata": {},
     "output_type": "execute_result"
    }
   ],
   "source": [
    "no_duplicates.head()"
   ]
  },
  {
   "cell_type": "code",
   "execution_count": 12,
   "metadata": {},
   "outputs": [],
   "source": [
    "no_duplicates = no_duplicates.set_index('time')\n"
   ]
  },
  {
   "cell_type": "code",
   "execution_count": 14,
   "metadata": {},
   "outputs": [],
   "source": [
    "no_duplicates = no_duplicates.drop(no_duplicates.columns[[0]], axis=1)"
   ]
  },
  {
   "cell_type": "code",
   "execution_count": 15,
   "metadata": {},
   "outputs": [
    {
     "data": {
      "text/html": [
       "<div>\n",
       "<style scoped>\n",
       "    .dataframe tbody tr th:only-of-type {\n",
       "        vertical-align: middle;\n",
       "    }\n",
       "\n",
       "    .dataframe tbody tr th {\n",
       "        vertical-align: top;\n",
       "    }\n",
       "\n",
       "    .dataframe thead th {\n",
       "        text-align: right;\n",
       "    }\n",
       "</style>\n",
       "<table border=\"1\" class=\"dataframe\">\n",
       "  <thead>\n",
       "    <tr style=\"text-align: right;\">\n",
       "      <th></th>\n",
       "      <th>rows</th>\n",
       "      <th>cols</th>\n",
       "      <th>ground_motion</th>\n",
       "      <th>slope</th>\n",
       "      <th>curvature</th>\n",
       "      <th>aspect</th>\n",
       "      <th>datasource</th>\n",
       "      <th>distance_to_road</th>\n",
       "      <th>rain_intensity_mm_sec</th>\n",
       "    </tr>\n",
       "    <tr>\n",
       "      <th>time</th>\n",
       "      <th></th>\n",
       "      <th></th>\n",
       "      <th></th>\n",
       "      <th></th>\n",
       "      <th></th>\n",
       "      <th></th>\n",
       "      <th></th>\n",
       "      <th></th>\n",
       "      <th></th>\n",
       "    </tr>\n",
       "  </thead>\n",
       "  <tbody>\n",
       "    <tr>\n",
       "      <th>2014-12-31</th>\n",
       "      <td>117</td>\n",
       "      <td>1792</td>\n",
       "      <td>-0.7800000000000004</td>\n",
       "      <td>0.065193</td>\n",
       "      <td>-0.001018</td>\n",
       "      <td>64.341156</td>\n",
       "      <td>0.0</td>\n",
       "      <td>2.386776e+09</td>\n",
       "      <td>2.445618e-05</td>\n",
       "    </tr>\n",
       "    <tr>\n",
       "      <th>2015-03-13</th>\n",
       "      <td>117</td>\n",
       "      <td>1792</td>\n",
       "      <td>-3.14</td>\n",
       "      <td>0.065193</td>\n",
       "      <td>-0.001018</td>\n",
       "      <td>64.341156</td>\n",
       "      <td>0.0</td>\n",
       "      <td>2.386776e+09</td>\n",
       "      <td>3.958338e-07</td>\n",
       "    </tr>\n",
       "    <tr>\n",
       "      <th>2015-03-25</th>\n",
       "      <td>117</td>\n",
       "      <td>1792</td>\n",
       "      <td>-3.94</td>\n",
       "      <td>0.065193</td>\n",
       "      <td>-0.001018</td>\n",
       "      <td>64.341156</td>\n",
       "      <td>0.0</td>\n",
       "      <td>2.386776e+09</td>\n",
       "      <td>1.413031e-04</td>\n",
       "    </tr>\n",
       "    <tr>\n",
       "      <th>2015-04-06</th>\n",
       "      <td>117</td>\n",
       "      <td>1792</td>\n",
       "      <td>-4.67</td>\n",
       "      <td>0.065193</td>\n",
       "      <td>-0.001018</td>\n",
       "      <td>64.341156</td>\n",
       "      <td>0.0</td>\n",
       "      <td>2.386776e+09</td>\n",
       "      <td>1.639528e-06</td>\n",
       "    </tr>\n",
       "    <tr>\n",
       "      <th>2015-04-30</th>\n",
       "      <td>117</td>\n",
       "      <td>1792</td>\n",
       "      <td>-5.35</td>\n",
       "      <td>0.065193</td>\n",
       "      <td>-0.001018</td>\n",
       "      <td>64.341156</td>\n",
       "      <td>0.0</td>\n",
       "      <td>2.386776e+09</td>\n",
       "      <td>9.664785e-08</td>\n",
       "    </tr>\n",
       "  </tbody>\n",
       "</table>\n",
       "</div>"
      ],
      "text/plain": [
       "            rows  cols        ground_motion     slope  curvature     aspect  \\\n",
       "time                                                                          \n",
       "2014-12-31   117  1792  -0.7800000000000004  0.065193  -0.001018  64.341156   \n",
       "2015-03-13   117  1792                -3.14  0.065193  -0.001018  64.341156   \n",
       "2015-03-25   117  1792                -3.94  0.065193  -0.001018  64.341156   \n",
       "2015-04-06   117  1792                -4.67  0.065193  -0.001018  64.341156   \n",
       "2015-04-30   117  1792                -5.35  0.065193  -0.001018  64.341156   \n",
       "\n",
       "            datasource  distance_to_road  rain_intensity_mm_sec  \n",
       "time                                                             \n",
       "2014-12-31         0.0      2.386776e+09           2.445618e-05  \n",
       "2015-03-13         0.0      2.386776e+09           3.958338e-07  \n",
       "2015-03-25         0.0      2.386776e+09           1.413031e-04  \n",
       "2015-04-06         0.0      2.386776e+09           1.639528e-06  \n",
       "2015-04-30         0.0      2.386776e+09           9.664785e-08  "
      ]
     },
     "execution_count": 15,
     "metadata": {},
     "output_type": "execute_result"
    }
   ],
   "source": [
    "no_duplicates.head()"
   ]
  },
  {
   "cell_type": "code",
   "execution_count": 16,
   "metadata": {},
   "outputs": [
    {
     "name": "stdout",
     "output_type": "stream",
     "text": [
      "<class 'pandas.core.frame.DataFrame'>\n",
      "Index: 2199026 entries, 2014-12-31 to 2018-12-28\n",
      "Columns: 9 entries, rows to rain_intensity_mm_sec\n",
      "dtypes: float64(6), int64(2), object(1)\n",
      "memory usage: 167.8+ MB\n",
      "None\n",
      "<class 'pandas.core.frame.DataFrame'>\n",
      "Index: 2192786 entries, 2014-12-31 to 2018-12-28\n",
      "Columns: 6 entries, ground_motion to rain_intensity_mm_sec\n",
      "dtypes: float64(6)\n",
      "memory usage: 117.1+ MB\n",
      "None\n"
     ]
    }
   ],
   "source": [
    "# remove rows which contain missing values - these will only correspond to 2019 values, we dont have rain data for those\n",
    "no_duplicates = no_duplicates.dropna()\n",
    "\n",
    "# will bring any non numeric values to nan - easy fix- need to refine\n",
    "print(no_duplicates.info(verbose=False))\n",
    "\n",
    "no_duplicates['ground_motion'] = no_duplicates['ground_motion'].apply(pd.to_numeric, errors='coerce')\n",
    "no_duplicates = no_duplicates.dropna()\n",
    "\n",
    "#make a copy for later\n",
    "no_duplicates_complete = no_duplicates\n",
    "# drop \"rows\" and \"cols\" dataframe columns, each column is uniquely identified by the slope and distance to road. \n",
    "no_duplicates = no_duplicates.drop(['rows', 'cols', 'datasource'], axis=1)\n",
    "print(no_duplicates.info(verbose=False))\n",
    "\n",
    "# delete negative ground motion values \n",
    "#no_duplicates = no_duplicates[no_duplicates['ground_motion'] >= 0]\n",
    "#print(no_duplicates.info(verbose=False))"
   ]
  },
  {
   "cell_type": "code",
   "execution_count": 17,
   "metadata": {},
   "outputs": [
    {
     "data": {
      "text/html": [
       "<div>\n",
       "<style scoped>\n",
       "    .dataframe tbody tr th:only-of-type {\n",
       "        vertical-align: middle;\n",
       "    }\n",
       "\n",
       "    .dataframe tbody tr th {\n",
       "        vertical-align: top;\n",
       "    }\n",
       "\n",
       "    .dataframe thead th {\n",
       "        text-align: right;\n",
       "    }\n",
       "</style>\n",
       "<table border=\"1\" class=\"dataframe\">\n",
       "  <thead>\n",
       "    <tr style=\"text-align: right;\">\n",
       "      <th></th>\n",
       "      <th>ground_motion</th>\n",
       "      <th>slope</th>\n",
       "      <th>curvature</th>\n",
       "      <th>aspect</th>\n",
       "      <th>distance_to_road</th>\n",
       "      <th>rain_intensity_mm_sec</th>\n",
       "    </tr>\n",
       "    <tr>\n",
       "      <th>time</th>\n",
       "      <th></th>\n",
       "      <th></th>\n",
       "      <th></th>\n",
       "      <th></th>\n",
       "      <th></th>\n",
       "      <th></th>\n",
       "    </tr>\n",
       "  </thead>\n",
       "  <tbody>\n",
       "    <tr>\n",
       "      <th>2014-12-31</th>\n",
       "      <td>-0.78</td>\n",
       "      <td>0.065193</td>\n",
       "      <td>-0.001018</td>\n",
       "      <td>64.341156</td>\n",
       "      <td>2.386776e+09</td>\n",
       "      <td>2.445618e-05</td>\n",
       "    </tr>\n",
       "    <tr>\n",
       "      <th>2015-03-13</th>\n",
       "      <td>-3.14</td>\n",
       "      <td>0.065193</td>\n",
       "      <td>-0.001018</td>\n",
       "      <td>64.341156</td>\n",
       "      <td>2.386776e+09</td>\n",
       "      <td>3.958338e-07</td>\n",
       "    </tr>\n",
       "    <tr>\n",
       "      <th>2015-03-25</th>\n",
       "      <td>-3.94</td>\n",
       "      <td>0.065193</td>\n",
       "      <td>-0.001018</td>\n",
       "      <td>64.341156</td>\n",
       "      <td>2.386776e+09</td>\n",
       "      <td>1.413031e-04</td>\n",
       "    </tr>\n",
       "    <tr>\n",
       "      <th>2015-04-06</th>\n",
       "      <td>-4.67</td>\n",
       "      <td>0.065193</td>\n",
       "      <td>-0.001018</td>\n",
       "      <td>64.341156</td>\n",
       "      <td>2.386776e+09</td>\n",
       "      <td>1.639528e-06</td>\n",
       "    </tr>\n",
       "    <tr>\n",
       "      <th>2015-04-30</th>\n",
       "      <td>-5.35</td>\n",
       "      <td>0.065193</td>\n",
       "      <td>-0.001018</td>\n",
       "      <td>64.341156</td>\n",
       "      <td>2.386776e+09</td>\n",
       "      <td>9.664785e-08</td>\n",
       "    </tr>\n",
       "  </tbody>\n",
       "</table>\n",
       "</div>"
      ],
      "text/plain": [
       "            ground_motion     slope  curvature     aspect  distance_to_road  \\\n",
       "time                                                                          \n",
       "2014-12-31          -0.78  0.065193  -0.001018  64.341156      2.386776e+09   \n",
       "2015-03-13          -3.14  0.065193  -0.001018  64.341156      2.386776e+09   \n",
       "2015-03-25          -3.94  0.065193  -0.001018  64.341156      2.386776e+09   \n",
       "2015-04-06          -4.67  0.065193  -0.001018  64.341156      2.386776e+09   \n",
       "2015-04-30          -5.35  0.065193  -0.001018  64.341156      2.386776e+09   \n",
       "\n",
       "            rain_intensity_mm_sec  \n",
       "time                               \n",
       "2014-12-31           2.445618e-05  \n",
       "2015-03-13           3.958338e-07  \n",
       "2015-03-25           1.413031e-04  \n",
       "2015-04-06           1.639528e-06  \n",
       "2015-04-30           9.664785e-08  "
      ]
     },
     "execution_count": 17,
     "metadata": {},
     "output_type": "execute_result"
    }
   ],
   "source": [
    "no_duplicates.head()"
   ]
  },
  {
   "cell_type": "markdown",
   "metadata": {},
   "source": [
    "Somehow the dates are not in datetime format anymore so we need to convert them back to that format. "
   ]
  },
  {
   "cell_type": "code",
   "execution_count": 18,
   "metadata": {},
   "outputs": [],
   "source": [
    "no_duplicates.index = pd.to_datetime(no_duplicates.index)"
   ]
  },
  {
   "cell_type": "code",
   "execution_count": 19,
   "metadata": {},
   "outputs": [
    {
     "name": "stdout",
     "output_type": "stream",
     "text": [
      "<class 'pandas.core.frame.DataFrame'>\n",
      "DatetimeIndex: 654605 entries, 2014-12-31 to 2017-04-19\n",
      "Columns: 5 entries, slope to rain_intensity_mm_sec\n",
      "dtypes: float64(5)\n",
      "memory usage: 30.0 MB\n",
      "<class 'pandas.core.frame.DataFrame'>\n",
      "DatetimeIndex: 935252 entries, 2017-05-01 to 2018-04-26\n",
      "Columns: 5 entries, slope to rain_intensity_mm_sec\n",
      "dtypes: float64(5)\n",
      "memory usage: 42.8 MB\n"
     ]
    }
   ],
   "source": [
    "########### MACHINE LEARNING STUFF ########################\n",
    "\n",
    "\n",
    "def regression_results(y_true, y_pred):# Regression metrics\n",
    "    explained_variance = metrics.explained_variance_score(y_true, y_pred)\n",
    "    mean_absolute_error = metrics.mean_absolute_error(y_true, y_pred)\n",
    "    mse = metrics.mean_squared_error(y_true, y_pred)\n",
    "    #mean_squared_log_error = metrics.mean_squared_log_error(y_true, y_pred)\n",
    "    median_absolute_error = metrics.median_absolute_error(y_true, y_pred)\n",
    "    r2 = metrics.r2_score(y_true, y_pred)\n",
    "    print('explained_variance: ', round(explained_variance,4))\n",
    "    #print('mean_squared_log_error: ', round(mean_squared_log_error,4))\n",
    "    print('r2: ', round(r2,4))\n",
    "    print('MAE: ', round(mean_absolute_error,4))\n",
    "    print('MSE: ', round(mse,4))\n",
    "    print('RMSE: ', round(np.sqrt(mse),4))\n",
    "\n",
    "\n",
    "########## define training and testing data #################\n",
    "### train/test data based on dates\n",
    "X_train = no_duplicates[:'20170430'].drop(['ground_motion'], axis = 1)\n",
    "y_train = no_duplicates.loc[:'20170430', 'ground_motion']\n",
    "X_train.info(verbose=False)\n",
    "\n",
    "X_test = no_duplicates['20170501':'20180501'].drop(['ground_motion'], axis = 1)\n",
    "y_test = no_duplicates.loc['20170501':'20180501', 'ground_motion']\n",
    "X_test.info(verbose=False)\n",
    "\n",
    "### train/test data based on spatial coordinates - need to implement this somehow\n",
    "# X_train = result_with_rain[:'20170430'].drop(['ground_motion'], axis = 1)\n",
    "# y_train = result_with_rain.loc[:'20170430', 'ground_motion']\n",
    "\n",
    "# X_train.info(verbose=False)\n",
    "\n",
    "# X_test = result_with_rain['20170501':'20180501'].drop(['ground_motion'], axis = 1)\n",
    "# y_test = result_with_rain.loc['20170501':'20180501', 'ground_motion']\n",
    "# X_test.info(verbose=False)\n"
   ]
  },
  {
   "cell_type": "code",
   "execution_count": 23,
   "metadata": {},
   "outputs": [],
   "source": [
    "# save the data used to train in a csv file\n",
    "no_duplicates_complete.index = pd.to_datetime(no_duplicates_complete.index)\n",
    "test_csv_data = no_duplicates_complete['20170501':'20180501'].to_csv('non_duplicates_training_final.csv', index = True)"
   ]
  },
  {
   "cell_type": "code",
   "execution_count": 25,
   "metadata": {},
   "outputs": [
    {
     "data": {
      "text/plain": [
       "rows                     935252\n",
       "cols                     935252\n",
       "ground_motion            935252\n",
       "slope                    935252\n",
       "curvature                935252\n",
       "aspect                   935252\n",
       "datasource               935252\n",
       "distance_to_road         935252\n",
       "rain_intensity_mm_sec    935252\n",
       "dtype: int64"
      ]
     },
     "execution_count": 25,
     "metadata": {},
     "output_type": "execute_result"
    }
   ],
   "source": [
    "no_duplicates_complete['20170501':'20180501'].count()"
   ]
  },
  {
   "cell_type": "code",
   "execution_count": 9,
   "metadata": {},
   "outputs": [],
   "source": [
    "# Spot Check Algorithms\n",
    "models = []\n",
    "models.append(('LR', LinearRegression()))\n",
    "#models.append(('NN', MLPRegressor(solver = 'lbfgs')))  #neural network\n",
    "models.append(('KNN', KNeighborsRegressor()))\n",
    "models.append(('RF', RandomForestRegressor(n_estimators = 3))) # Ensemble method - collection of many decision trees\n",
    "#models.append(('SVR', SVR(gamma='auto'))) # kernel = linear"
   ]
  },
  {
   "cell_type": "code",
   "execution_count": 10,
   "metadata": {},
   "outputs": [
    {
     "name": "stdout",
     "output_type": "stream",
     "text": [
      "LR: -0.012467 (0.007501)\n",
      "KNN: -0.978217 (0.521228)\n",
      "RF: -0.594794 (0.172100)\n"
     ]
    },
    {
     "data": {
      "image/png": "[encoded data removed]",
      "text/plain": [
       "<Figure size 432x288 with 1 Axes>"
      ]
     },
     "metadata": {
      "needs_background": "light"
     },
     "output_type": "display_data"
    }
   ],
   "source": [
    "# Evaluate each model in turn\n",
    "results = []\n",
    "names = []\n",
    "for name, model in models:\n",
    "    # TimeSeries Cross validation\n",
    "    tscv = TimeSeriesSplit(n_splits=3)\n",
    "\n",
    "    cv_results = cross_val_score(model, X_train, y_train, cv=tscv, scoring='r2')\n",
    "    results.append(cv_results)\n",
    "    names.append(name)\n",
    "    print('%s: %f (%f)' % (name, cv_results.mean(), cv_results.std()))\n",
    "\n",
    "# Compare Algorithms\n",
    "plt.boxplot(results, labels=names)\n",
    "plt.title('Algorithm Comparison')\n",
    "plt.show()"
   ]
  },
  {
   "cell_type": "code",
   "execution_count": 16,
   "metadata": {},
   "outputs": [],
   "source": [
    "from sklearn.metrics import make_scorer\n",
    "def rmse(actual, predict):\n",
    "    predict = np.array(predict)\n",
    "    actual = np.array(actual)\n",
    "    distance = predict - actual\n",
    "    square_distance = distance ** 2\n",
    "    mean_square_distance = square_distance.mean()\n",
    "    score = np.sqrt(mean_square_distance)\n",
    "    return score\n",
    "rmse_score = make_scorer(rmse, greater_is_better = False)"
   ]
  },
  {
   "cell_type": "code",
   "execution_count": null,
   "metadata": {},
   "outputs": [],
   "source": [
    "from sklearn.model_selection import GridSearchCV\n",
    "# skip this cell, takes a very long time \n",
    "model = RandomForestRegressor()\n",
    "param_search = { \n",
    "    'n_estimators': [20, 50, 100],\n",
    "    'max_features': ['auto', 'sqrt', 'log2'],\n",
    "    'max_depth' : [i for i in range(5,6)]}\n",
    "\n",
    "tscv = TimeSeriesSplit(n_splits=3)\n",
    "gsearch = GridSearchCV(estimator=model, cv=tscv, param_grid=param_search, scoring = rmse_score, verbose=10)\n",
    "print('done searching.Starting to train')\n",
    "print('done training')\n",
    "gsearch.fit(X_train, y_train)\n",
    "best_score = gsearch.best_score_\n",
    "best_model = gsearch.best_estimator_"
   ]
  },
  {
   "cell_type": "code",
   "execution_count": 11,
   "metadata": {},
   "outputs": [
    {
     "data": {
      "text/plain": [
       "KNeighborsRegressor(algorithm='auto', leaf_size=30, metric='minkowski',\n",
       "          metric_params=None, n_jobs=1, n_neighbors=5, p=2,\n",
       "          weights='uniform')"
      ]
     },
     "execution_count": 11,
     "metadata": {},
     "output_type": "execute_result"
    }
   ],
   "source": [
    "models[1]\n",
    "knn = KNeighborsRegressor()\n",
    "knn.fit(X_train, y_train)"
   ]
  },
  {
   "cell_type": "code",
   "execution_count": 12,
   "metadata": {},
   "outputs": [],
   "source": [
    "best_model = models[1]\n"
   ]
  },
  {
   "cell_type": "code",
   "execution_count": 13,
   "metadata": {},
   "outputs": [
    {
     "name": "stdout",
     "output_type": "stream",
     "text": [
      "explained_variance:  0.8339\n",
      "r2:  0.8321\n",
      "MAE:  4.7879\n",
      "MSE:  78.182\n",
      "RMSE:  8.8421\n"
     ]
    }
   ],
   "source": [
    "y_true = y_test.values\n",
    "y_pred = knn.predict(X_test)\n",
    "results = regression_results(y_true, y_pred)"
   ]
  },
  {
   "cell_type": "code",
   "execution_count": 26,
   "metadata": {},
   "outputs": [],
   "source": [
    "predicted_data = np.savetxt(\"predicted_data.csv\", y_pred, delimiter=\",\")\n",
    "true_data = np.savetxt(\"true_data.csv\", y_true, delimiter=\",\")\n"
   ]
  },
  {
   "cell_type": "code",
   "execution_count": 150,
   "metadata": {},
   "outputs": [
    {
     "data": {
      "text/plain": [
       "<seaborn.axisgrid.JointGrid at 0x7f5ef9a94b38>"
      ]
     },
     "execution_count": 150,
     "metadata": {},
     "output_type": "execute_result"
    },
    {
     "data": {
      "image/png": "[encoded data removed]",
      "text/plain": [
       "<Figure size 432x432 with 3 Axes>"
      ]
     },
     "metadata": {
      "needs_background": "light"
     },
     "output_type": "display_data"
    }
   ],
   "source": [
    "import seaborn as sns\n",
    "#sns.set_theme()\n",
    "sns.jointplot(x=y_true, y=y_pred, color=\"#4CB391\")"
   ]
  },
  {
   "cell_type": "code",
   "execution_count": 52,
   "metadata": {},
   "outputs": [
    {
     "data": {
      "text/plain": [
       "<seaborn.axisgrid.JointGrid at 0x7f5f69814be0>"
      ]
     },
     "execution_count": 52,
     "metadata": {},
     "output_type": "execute_result"
    },
    {
     "data": {
      "image/png": "[encoded data removed]",
      "text/plain": [
       "<Figure size 432x432 with 3 Axes>"
      ]
     },
     "metadata": {
      "needs_background": "light"
     },
     "output_type": "display_data"
    }
   ],
   "source": [
    "import seaborn as sns\n",
    "#sns.set_theme(style=\"ticks\")\n",
    "sns.jointplot(data=penguins, x=\"bill_length_mm\", y=\"bill_depth_mm\")\n",
    "sns.jointplot(x=y_true, y=y_pred, kind=\"hex\")"
   ]
  },
  {
   "cell_type": "code",
   "execution_count": 14,
   "metadata": {},
   "outputs": [],
   "source": [
    "# choose a pixel to plot the information from as a timeseries\n",
    "no_duplicates_complete = no_duplicates_complete.reset_index()\n",
    "no_duplicates_complete['time'] = pd.to_datetime(no_duplicates_complete['time'])\n",
    "no_duplicates_complete = no_duplicates_complete.set_index('time')"
   ]
  },
  {
   "cell_type": "code",
   "execution_count": 15,
   "metadata": {},
   "outputs": [],
   "source": [
    "no_duplicates_train = no_duplicates_complete[:'20170430']\n",
    "no_duplicates_test = no_duplicates_complete['20170501':'20180501']"
   ]
  },
  {
   "cell_type": "code",
   "execution_count": 16,
   "metadata": {},
   "outputs": [
    {
     "name": "stderr",
     "output_type": "stream",
     "text": [
      "/usr/lib/python3.6/site-packages/ipykernel_launcher.py:1: SettingWithCopyWarning: \n",
      "A value is trying to be set on a copy of a slice from a DataFrame.\n",
      "Try using .loc[row_indexer,col_indexer] = value instead\n",
      "\n",
      "See the caveats in the documentation: http://pandas.pydata.org/pandas-docs/stable/indexing.html#indexing-view-versus-copy\n",
      "  \"\"\"Entry point for launching an IPython kernel.\n"
     ]
    }
   ],
   "source": [
    "no_duplicates_test['new_pixel'] = no_duplicates_test['rows'].diff()"
   ]
  },
  {
   "cell_type": "code",
   "execution_count": 17,
   "metadata": {},
   "outputs": [
    {
     "data": {
      "text/html": [
       "<div>\n",
       "<style scoped>\n",
       "    .dataframe tbody tr th:only-of-type {\n",
       "        vertical-align: middle;\n",
       "    }\n",
       "\n",
       "    .dataframe tbody tr th {\n",
       "        vertical-align: top;\n",
       "    }\n",
       "\n",
       "    .dataframe thead th {\n",
       "        text-align: right;\n",
       "    }\n",
       "</style>\n",
       "<table border=\"1\" class=\"dataframe\">\n",
       "  <thead>\n",
       "    <tr style=\"text-align: right;\">\n",
       "      <th></th>\n",
       "      <th>rows</th>\n",
       "      <th>cols</th>\n",
       "      <th>ground_motion</th>\n",
       "      <th>slope</th>\n",
       "      <th>curvature</th>\n",
       "      <th>aspect</th>\n",
       "      <th>datasource</th>\n",
       "      <th>distance_to_road</th>\n",
       "      <th>rain_intensity_mm_sec</th>\n",
       "      <th>new_pixel</th>\n",
       "    </tr>\n",
       "    <tr>\n",
       "      <th>time</th>\n",
       "      <th></th>\n",
       "      <th></th>\n",
       "      <th></th>\n",
       "      <th></th>\n",
       "      <th></th>\n",
       "      <th></th>\n",
       "      <th></th>\n",
       "      <th></th>\n",
       "      <th></th>\n",
       "      <th></th>\n",
       "    </tr>\n",
       "  </thead>\n",
       "  <tbody>\n",
       "    <tr>\n",
       "      <th>2017-05-01</th>\n",
       "      <td>117</td>\n",
       "      <td>1792</td>\n",
       "      <td>49.49</td>\n",
       "      <td>0.065193</td>\n",
       "      <td>-0.001018</td>\n",
       "      <td>64.341156</td>\n",
       "      <td>0.0</td>\n",
       "      <td>2.386776e+09</td>\n",
       "      <td>4.605107e-06</td>\n",
       "      <td>NaN</td>\n",
       "    </tr>\n",
       "    <tr>\n",
       "      <th>2017-05-07</th>\n",
       "      <td>117</td>\n",
       "      <td>1792</td>\n",
       "      <td>48.80</td>\n",
       "      <td>0.065193</td>\n",
       "      <td>-0.001018</td>\n",
       "      <td>64.341156</td>\n",
       "      <td>0.0</td>\n",
       "      <td>2.386776e+09</td>\n",
       "      <td>1.059078e-04</td>\n",
       "      <td>0.0</td>\n",
       "    </tr>\n",
       "    <tr>\n",
       "      <th>2017-05-13</th>\n",
       "      <td>117</td>\n",
       "      <td>1792</td>\n",
       "      <td>46.31</td>\n",
       "      <td>0.065193</td>\n",
       "      <td>-0.001018</td>\n",
       "      <td>64.341156</td>\n",
       "      <td>0.0</td>\n",
       "      <td>2.386776e+09</td>\n",
       "      <td>3.144808e-07</td>\n",
       "      <td>0.0</td>\n",
       "    </tr>\n",
       "    <tr>\n",
       "      <th>2017-05-19</th>\n",
       "      <td>117</td>\n",
       "      <td>1792</td>\n",
       "      <td>35.88</td>\n",
       "      <td>0.065193</td>\n",
       "      <td>-0.001018</td>\n",
       "      <td>64.341156</td>\n",
       "      <td>0.0</td>\n",
       "      <td>2.386776e+09</td>\n",
       "      <td>6.743622e-07</td>\n",
       "      <td>0.0</td>\n",
       "    </tr>\n",
       "    <tr>\n",
       "      <th>2017-05-25</th>\n",
       "      <td>117</td>\n",
       "      <td>1792</td>\n",
       "      <td>30.59</td>\n",
       "      <td>0.065193</td>\n",
       "      <td>-0.001018</td>\n",
       "      <td>64.341156</td>\n",
       "      <td>0.0</td>\n",
       "      <td>2.386776e+09</td>\n",
       "      <td>2.740868e-06</td>\n",
       "      <td>0.0</td>\n",
       "    </tr>\n",
       "  </tbody>\n",
       "</table>\n",
       "</div>"
      ],
      "text/plain": [
       "            rows  cols  ground_motion     slope  curvature     aspect  \\\n",
       "time                                                                    \n",
       "2017-05-01   117  1792          49.49  0.065193  -0.001018  64.341156   \n",
       "2017-05-07   117  1792          48.80  0.065193  -0.001018  64.341156   \n",
       "2017-05-13   117  1792          46.31  0.065193  -0.001018  64.341156   \n",
       "2017-05-19   117  1792          35.88  0.065193  -0.001018  64.341156   \n",
       "2017-05-25   117  1792          30.59  0.065193  -0.001018  64.341156   \n",
       "\n",
       "            datasource  distance_to_road  rain_intensity_mm_sec  new_pixel  \n",
       "time                                                                        \n",
       "2017-05-01         0.0      2.386776e+09           4.605107e-06        NaN  \n",
       "2017-05-07         0.0      2.386776e+09           1.059078e-04        0.0  \n",
       "2017-05-13         0.0      2.386776e+09           3.144808e-07        0.0  \n",
       "2017-05-19         0.0      2.386776e+09           6.743622e-07        0.0  \n",
       "2017-05-25         0.0      2.386776e+09           2.740868e-06        0.0  "
      ]
     },
     "execution_count": 17,
     "metadata": {},
     "output_type": "execute_result"
    }
   ],
   "source": [
    "no_duplicates_test.head()"
   ]
  },
  {
   "cell_type": "code",
   "execution_count": 18,
   "metadata": {},
   "outputs": [],
   "source": [
    "# indicate where a new pixel appears on the dataframe\n",
    "test_array_rows = no_duplicates_test['rows'].to_numpy()\n"
   ]
  },
  {
   "cell_type": "code",
   "execution_count": 24,
   "metadata": {},
   "outputs": [],
   "source": [
    "test_array_rows_data = np.savetxt(\"test_array_rows_data.csv\", test_array_rows, delimiter=\",\")"
   ]
  },
  {
   "cell_type": "code",
   "execution_count": 19,
   "metadata": {},
   "outputs": [],
   "source": [
    "test_array_cols = no_duplicates_test['cols'].to_numpy()"
   ]
  },
  {
   "cell_type": "code",
   "execution_count": 25,
   "metadata": {},
   "outputs": [],
   "source": [
    "test_array_cols_data = np.savetxt(\"test_array_cols_data.csv\", test_array_cols, delimiter=\",\")"
   ]
  },
  {
   "cell_type": "code",
   "execution_count": 20,
   "metadata": {},
   "outputs": [],
   "source": [
    "index_rows = np.where(test_array_rows[:-1] != test_array_rows[1:])[0]\n",
    "index_cols = np.where(test_array_cols[:-1] != test_array_cols[1:])[0]"
   ]
  },
  {
   "cell_type": "code",
   "execution_count": 21,
   "metadata": {},
   "outputs": [
    {
     "data": {
      "text/plain": [
       "array([35.126, 14.22 , 23.07 , 20.64 , 32.102, 23.854, 30.592, 33.254,\n",
       "       14.674, 33.254, 33.254, 29.912, 21.664, 30.054, 21.666, 13.48 ,\n",
       "       33.254, 18.648, 14.22 , 21.666, 30.592, 33.254, 26.994, 23.036,\n",
       "       38.816, 14.22 , 21.666, 21.664, 33.254, 35.126, 30.592, 19.014,\n",
       "       30.466, 35.126, 21.748, 30.582, 33.254, 14.674, 21.666, 14.22 ,\n",
       "       30.054, 29.648, 21.664, 33.254, 38.816, 33.254, 30.466, 26.33 ,\n",
       "       30.592, 25.926, 20.64 , 30.582, 30.054, 29.648, 17.182, 33.556])"
      ]
     },
     "execution_count": 21,
     "metadata": {},
     "output_type": "execute_result"
    }
   ],
   "source": [
    "y_pred[:index_rows[0]]"
   ]
  },
  {
   "cell_type": "markdown",
   "metadata": {},
   "source": [
    "Now we can plot the timeseries for some of the pixels individually."
   ]
  },
  {
   "cell_type": "code",
   "execution_count": 22,
   "metadata": {},
   "outputs": [],
   "source": [
    "start = index_rows[0]\n",
    "end = index_rows[1]"
   ]
  },
  {
   "cell_type": "code",
   "execution_count": 159,
   "metadata": {},
   "outputs": [
    {
     "data": {
      "text/plain": [
       "[<matplotlib.lines.Line2D at 0x7f5fb78cfcc0>]"
      ]
     },
     "execution_count": 159,
     "metadata": {},
     "output_type": "execute_result"
    },
    {
     "data": {
      "image/png": "[encoded data removed]",
      "text/plain": [
       "<Figure size 432x288 with 1 Axes>"
      ]
     },
     "metadata": {
      "needs_background": "light"
     },
     "output_type": "display_data"
    }
   ],
   "source": [
    "plt.plot(no_duplicates_test.index[start+1:end], y_pred[start+1:end])"
   ]
  },
  {
   "cell_type": "code",
   "execution_count": null,
   "metadata": {},
   "outputs": [],
   "source": [
    "no_duplicates_test.index[start+1:end]"
   ]
  },
  {
   "cell_type": "code",
   "execution_count": 160,
   "metadata": {},
   "outputs": [
    {
     "data": {
      "text/plain": [
       "[<matplotlib.lines.Line2D at 0x7f60a41cac88>]"
      ]
     },
     "execution_count": 160,
     "metadata": {},
     "output_type": "execute_result"
    },
    {
     "data": {
      "image/png": "[encoded data removed]",
      "text/plain": [
       "<Figure size 432x288 with 1 Axes>"
      ]
     },
     "metadata": {
      "needs_background": "light"
     },
     "output_type": "display_data"
    }
   ],
   "source": [
    "plt.plot(no_duplicates_test.index[start+1:end], y_true[start+1:end])"
   ]
  },
  {
   "cell_type": "markdown",
   "metadata": {},
   "source": [
    "Convert pixel positions into map readable material so that we can have the DEM with the points as predicted by the model.\n",
    "Follow the same strategy as for the maps plotted with the Visualisation scripts. "
   ]
  },
  {
   "cell_type": "code",
   "execution_count": 3,
   "metadata": {},
   "outputs": [
    {
     "ename": "NameError",
     "evalue": "name 'ENVI_raster_binary_to_2d_array' is not defined",
     "output_type": "error",
     "traceback": [
      "\u001b[0;31m---------------------------------------------------------------------------\u001b[0m",
      "\u001b[0;31mNameError\u001b[0m                                 Traceback (most recent call last)",
      "\u001b[0;32m<ipython-input-3-74cb4abedacd>\u001b[0m in \u001b[0;36m<module>\u001b[0;34m\u001b[0m\n\u001b[1;32m      4\u001b[0m \u001b[0;32mfrom\u001b[0m \u001b[0mosgeo\u001b[0m\u001b[0;34m.\u001b[0m\u001b[0mgdalnumeric\u001b[0m \u001b[0;32mimport\u001b[0m \u001b[0;34m*\u001b[0m\u001b[0;34m\u001b[0m\u001b[0;34m\u001b[0m\u001b[0m\n\u001b[1;32m      5\u001b[0m \u001b[0;32mfrom\u001b[0m \u001b[0mosgeo\u001b[0m\u001b[0;34m.\u001b[0m\u001b[0mgdalconst\u001b[0m \u001b[0;32mimport\u001b[0m \u001b[0;34m*\u001b[0m\u001b[0;34m\u001b[0m\u001b[0;34m\u001b[0m\u001b[0m\n\u001b[0;32m----> 6\u001b[0;31m \u001b[0mdemarr\u001b[0m\u001b[0;34m,\u001b[0m \u001b[0mpixelWidth\u001b[0m\u001b[0;34m,\u001b[0m \u001b[0;34m(\u001b[0m\u001b[0mgeotransform\u001b[0m\u001b[0;34m,\u001b[0m \u001b[0minDs\u001b[0m\u001b[0;34m)\u001b[0m \u001b[0;34m=\u001b[0m \u001b[0mENVI_raster_binary_to_2d_array\u001b[0m\u001b[0;34m(\u001b[0m\u001b[0mdemfile\u001b[0m\u001b[0;34m)\u001b[0m\u001b[0;34m\u001b[0m\u001b[0;34m\u001b[0m\u001b[0m\n\u001b[0m\u001b[1;32m      7\u001b[0m \u001b[0;34m\u001b[0m\u001b[0m\n\u001b[1;32m      8\u001b[0m \u001b[0;31m# Read the road file\u001b[0m\u001b[0;34m\u001b[0m\u001b[0;34m\u001b[0m\u001b[0;34m\u001b[0m\u001b[0m\n",
      "\u001b[0;31mNameError\u001b[0m: name 'ENVI_raster_binary_to_2d_array' is not defined"
     ]
    }
   ],
   "source": [
    "# figure to plot the maps to visualise the pixels\n",
    "# Load rasters into arrays for DEM.\n",
    "from osgeo import gdal, ogr, osr\n",
    "from osgeo.gdalnumeric import *\n",
    "from osgeo.gdalconst import *\n",
    "demarr, pixelWidth, (geotransform, inDs) = ENVI_raster_binary_to_2d_array(demfile)\n",
    "\n",
    "# Read the road file\n",
    "road = shapefile.Reader(roadfile)\n",
    "roadline = np.array(road.shapes()[0].points)\n",
    "\n",
    "# now convert it to pixel coordinates\n",
    "roadline[:,0] = (roadline[:,0] - geotransform[0]) / geotransform[1] # X_coord\n",
    "roadline[:,1] = (roadline[:,1] - geotransform[3]) / geotransform[5] # Y_coord\n",
    "roadline = roadline.astype('int')\n",
    "line = mlines.Line2D(roadline[:,0], roadline[:,1], linewidth = 1., color='black')\n",
    "\n",
    "\n",
    "def map_predicted (demarr, predicted, road, fig_height, fig_width, fig_name):\n",
    "\n",
    "    fig=plt.figure(1, facecolor='White',figsize=[fig_width, fig_height])\n",
    "    ax1 =  plt.subplot2grid((1,1),(0,0),colspan=1, rowspan=1)\n",
    "\n",
    "\n",
    "    dem_mask = np.ma.masked_where(demarr <= -10, demarr)\n",
    "    Map1 = ax1.imshow(dem_mask, interpolation='None', cmap=plt.cm.Greys_r, vmin = np.amin(dem_mask), vmax = np.amax(dem_mask), alpha = 1.)\n",
    "\n",
    "    ax1.add_line(road)\n",
    "\n",
    "    predicted_arr = 0* demarr\n",
    "    for i in range(len(predicted)):\n",
    "        x = predicted['col'].iloc[i]\n",
    "        y = predicted['row'].iloc[i]\n",
    "        predicted_arr[y-2:y+2,x-2:x+2] = 1\n",
    "\n",
    "    predicted_mask = np.ma.masked_where(predicted_arr == 0., predicted_arr)\n",
    "    Map1 = ax1.imshow(predicted_mask, interpolation='None', cmap=plt.cm.autumn,\n",
    "        vmin = 0, vmax = 1, alpha = 1.)\n",
    "    plt.title(\"Predicted Ground Motion\", fontsize = 26, pad = 10.)\n",
    "    plt.tick_params(\n",
    "    axis='both',          # changes apply to the x-axis\n",
    "    which='both',      # both major and minor ticks are affected\n",
    "    bottom=False,      # ticks along the bottom edge are off\n",
    "    top=False,\n",
    "    left=False,        # ticks along the top edge are off\n",
    "    labelbottom=False,\n",
    "    labelleft=False) # labels along the bottom edge are off\n",
    "    plt.tight_layout()\n",
    "    plt.savefig(fig_name)"
   ]
  },
  {
   "cell_type": "code",
   "execution_count": null,
   "metadata": {},
   "outputs": [],
   "source": [
    "map_calibrated(demarr, predicted, road, fig_height, fig_width, fig_name)"
   ]
  },
  {
   "cell_type": "code",
   "execution_count": 49,
   "metadata": {},
   "outputs": [
    {
     "data": {
      "image/png": "[encoded data removed]",
      "text/plain": [
       "<Figure size 432x288 with 1 Axes>"
      ]
     },
     "metadata": {
      "needs_background": "light"
     },
     "output_type": "display_data"
    }
   ],
   "source": [
    "plt.scatter(y_true, y_pred)\n",
    "plt.xlabel(\"Observed Ground Motion (mm/yr)\")\n",
    "plt.ylabel(\"Predicted Ground Motion (mm/yr)\")\n",
    "plt.savefig(\"10mDEM_predicted_obs_ground_motion_ml_no_duplicates_all_variables.png\")"
   ]
  },
  {
   "cell_type": "code",
   "execution_count": 14,
   "metadata": {},
   "outputs": [],
   "source": [
    "dates = result_with_rain.index"
   ]
  },
  {
   "cell_type": "code",
   "execution_count": 15,
   "metadata": {},
   "outputs": [
    {
     "data": {
      "text/plain": [
       "(array([4.37000e+02, 3.45500e+03, 1.94330e+04, 5.58280e+04, 5.42252e+05,\n",
       "        2.38980e+05, 6.33740e+04, 1.45200e+04, 3.40400e+03, 3.50000e+02]),\n",
       " array([-113.126 ,  -89.3326,  -65.5392,  -41.7458,  -17.9524,    5.841 ,\n",
       "          29.6344,   53.4278,   77.2212,  101.0146,  124.808 ]),\n",
       " <a list of 10 Patch objects>)"
      ]
     },
     "execution_count": 15,
     "metadata": {},
     "output_type": "execute_result"
    },
    {
     "data": {
      "image/png": "[encoded data removed]",
      "text/plain": [
       "<Figure size 432x288 with 1 Axes>"
      ]
     },
     "metadata": {
      "needs_background": "light"
     },
     "output_type": "display_data"
    }
   ],
   "source": [
    "plt.hist(y_pred)"
   ]
  },
  {
   "cell_type": "code",
   "execution_count": 16,
   "metadata": {},
   "outputs": [],
   "source": [
    "# get an array with all the predicted y values\n",
    "# create a dataset where it should show dt instead of t\n",
    "date_train = result_with_rain.index"
   ]
  },
  {
   "cell_type": "code",
   "execution_count": 17,
   "metadata": {},
   "outputs": [],
   "source": [
    "dates_train = result_with_rain.index.values[:len(y_train)]\n",
    "dates_test = result_with_rain.index.values[len(y_train):]"
   ]
  },
  {
   "cell_type": "code",
   "execution_count": 18,
   "metadata": {},
   "outputs": [],
   "source": [
    "# index is reset to numerical instead of the time\n",
    "result_with_rain_new = result_with_rain.reset_index()"
   ]
  },
  {
   "cell_type": "code",
   "execution_count": 19,
   "metadata": {},
   "outputs": [
    {
     "data": {
      "text/html": [
       "<div>\n",
       "<style scoped>\n",
       "    .dataframe tbody tr th:only-of-type {\n",
       "        vertical-align: middle;\n",
       "    }\n",
       "\n",
       "    .dataframe tbody tr th {\n",
       "        vertical-align: top;\n",
       "    }\n",
       "\n",
       "    .dataframe thead th {\n",
       "        text-align: right;\n",
       "    }\n",
       "</style>\n",
       "<table border=\"1\" class=\"dataframe\">\n",
       "  <thead>\n",
       "    <tr style=\"text-align: right;\">\n",
       "      <th></th>\n",
       "      <th>time</th>\n",
       "      <th>ground_motion</th>\n",
       "      <th>slope</th>\n",
       "      <th>curvature</th>\n",
       "      <th>aspect</th>\n",
       "      <th>distance_to_road</th>\n",
       "      <th>rain_intensity_mm_sec</th>\n",
       "    </tr>\n",
       "  </thead>\n",
       "  <tbody>\n",
       "    <tr>\n",
       "      <th>0</th>\n",
       "      <td>2014-12-31</td>\n",
       "      <td>27.21</td>\n",
       "      <td>0.210794</td>\n",
       "      <td>-4.46151e-06</td>\n",
       "      <td>169.203</td>\n",
       "      <td>2.42918e+09</td>\n",
       "      <td>0.000024</td>\n",
       "    </tr>\n",
       "    <tr>\n",
       "      <th>1</th>\n",
       "      <td>2014-12-31</td>\n",
       "      <td>3.41</td>\n",
       "      <td>0.0280107</td>\n",
       "      <td>2.14703e-05</td>\n",
       "      <td>248.31</td>\n",
       "      <td>2.34173e+09</td>\n",
       "      <td>0.000024</td>\n",
       "    </tr>\n",
       "    <tr>\n",
       "      <th>2</th>\n",
       "      <td>2014-12-31</td>\n",
       "      <td>6.16</td>\n",
       "      <td>0.315373</td>\n",
       "      <td>-0.00186646</td>\n",
       "      <td>156.738</td>\n",
       "      <td>2.2327e+09</td>\n",
       "      <td>0.000024</td>\n",
       "    </tr>\n",
       "    <tr>\n",
       "      <th>3</th>\n",
       "      <td>2014-12-31</td>\n",
       "      <td>17.29</td>\n",
       "      <td>0.165681</td>\n",
       "      <td>4.60265e-07</td>\n",
       "      <td>194.658</td>\n",
       "      <td>2.25544e+09</td>\n",
       "      <td>0.000024</td>\n",
       "    </tr>\n",
       "    <tr>\n",
       "      <th>4</th>\n",
       "      <td>2014-12-31</td>\n",
       "      <td>13.92</td>\n",
       "      <td>0.164436</td>\n",
       "      <td>0.0253468</td>\n",
       "      <td>161.393</td>\n",
       "      <td>2.39873e+09</td>\n",
       "      <td>0.000024</td>\n",
       "    </tr>\n",
       "  </tbody>\n",
       "</table>\n",
       "</div>"
      ],
      "text/plain": [
       "        time  ground_motion      slope    curvature   aspect distance_to_road  \\\n",
       "0 2014-12-31          27.21   0.210794 -4.46151e-06  169.203      2.42918e+09   \n",
       "1 2014-12-31           3.41  0.0280107  2.14703e-05   248.31      2.34173e+09   \n",
       "2 2014-12-31           6.16   0.315373  -0.00186646  156.738       2.2327e+09   \n",
       "3 2014-12-31          17.29   0.165681  4.60265e-07  194.658      2.25544e+09   \n",
       "4 2014-12-31          13.92   0.164436    0.0253468  161.393      2.39873e+09   \n",
       "\n",
       "   rain_intensity_mm_sec  \n",
       "0               0.000024  \n",
       "1               0.000024  \n",
       "2               0.000024  \n",
       "3               0.000024  \n",
       "4               0.000024  "
      ]
     },
     "execution_count": 19,
     "metadata": {},
     "output_type": "execute_result"
    }
   ],
   "source": [
    "result_with_rain_new.head()"
   ]
  },
  {
   "cell_type": "code",
   "execution_count": 21,
   "metadata": {},
   "outputs": [
    {
     "name": "stderr",
     "output_type": "stream",
     "text": [
      "/usr/lib/python3.6/site-packages/ipykernel_launcher.py:5: SettingWithCopyWarning: \n",
      "A value is trying to be set on a copy of a slice from a DataFrame.\n",
      "Try using .loc[row_indexer,col_indexer] = value instead\n",
      "\n",
      "See the caveats in the documentation: http://pandas.pydata.org/pandas-docs/stable/indexing.html#indexing-view-versus-copy\n",
      "  \"\"\"\n"
     ]
    }
   ],
   "source": [
    "# add the columns and rows corresponding to the pixels - the dataframe is in the same order so entries correspond\n",
    "# also add the datasource\n",
    "pred_result_with_rain_px_source = result_with_rain_complete\n",
    "pred_result_with_rain_px_source = pred_result_with_rain_px_source['2018':]\n",
    "pred_result_with_rain_px_source['pred_ground_motion'] = y_pred\n",
    "\n"
   ]
  },
  {
   "cell_type": "code",
   "execution_count": 22,
   "metadata": {},
   "outputs": [
    {
     "data": {
      "text/html": [
       "<div>\n",
       "<style scoped>\n",
       "    .dataframe tbody tr th:only-of-type {\n",
       "        vertical-align: middle;\n",
       "    }\n",
       "\n",
       "    .dataframe tbody tr th {\n",
       "        vertical-align: top;\n",
       "    }\n",
       "\n",
       "    .dataframe thead th {\n",
       "        text-align: right;\n",
       "    }\n",
       "</style>\n",
       "<table border=\"1\" class=\"dataframe\">\n",
       "  <thead>\n",
       "    <tr style=\"text-align: right;\">\n",
       "      <th></th>\n",
       "      <th>ground_motion</th>\n",
       "      <th>slope</th>\n",
       "      <th>curvature</th>\n",
       "      <th>aspect</th>\n",
       "      <th>rows</th>\n",
       "      <th>cols</th>\n",
       "      <th>datasource</th>\n",
       "      <th>distance_to_road</th>\n",
       "      <th>rain_intensity_mm_sec</th>\n",
       "      <th>pred_ground_motion</th>\n",
       "    </tr>\n",
       "    <tr>\n",
       "      <th>time</th>\n",
       "      <th></th>\n",
       "      <th></th>\n",
       "      <th></th>\n",
       "      <th></th>\n",
       "      <th></th>\n",
       "      <th></th>\n",
       "      <th></th>\n",
       "      <th></th>\n",
       "      <th></th>\n",
       "      <th></th>\n",
       "    </tr>\n",
       "  </thead>\n",
       "  <tbody>\n",
       "    <tr>\n",
       "      <th>2018-01-02</th>\n",
       "      <td>-92.65</td>\n",
       "      <td>0.200227</td>\n",
       "      <td>0.00101186</td>\n",
       "      <td>206.844</td>\n",
       "      <td>357</td>\n",
       "      <td>2971</td>\n",
       "      <td>0</td>\n",
       "      <td>2.50042e+09</td>\n",
       "      <td>5.243585e-07</td>\n",
       "      <td>-62.680</td>\n",
       "    </tr>\n",
       "    <tr>\n",
       "      <th>2018-01-02</th>\n",
       "      <td>19.02</td>\n",
       "      <td>0.373238</td>\n",
       "      <td>-0.00314</td>\n",
       "      <td>321.926</td>\n",
       "      <td>626</td>\n",
       "      <td>653</td>\n",
       "      <td>0</td>\n",
       "      <td>2.27253e+09</td>\n",
       "      <td>5.243585e-07</td>\n",
       "      <td>2.934</td>\n",
       "    </tr>\n",
       "    <tr>\n",
       "      <th>2018-01-02</th>\n",
       "      <td>5.01</td>\n",
       "      <td>0.116304</td>\n",
       "      <td>-1.13085e-05</td>\n",
       "      <td>51.2097</td>\n",
       "      <td>2197</td>\n",
       "      <td>1349</td>\n",
       "      <td>0</td>\n",
       "      <td>2.32744e+09</td>\n",
       "      <td>5.243585e-07</td>\n",
       "      <td>18.074</td>\n",
       "    </tr>\n",
       "    <tr>\n",
       "      <th>2018-01-02</th>\n",
       "      <td>20.63</td>\n",
       "      <td>0.115839</td>\n",
       "      <td>-0.000154432</td>\n",
       "      <td>173.87</td>\n",
       "      <td>1269</td>\n",
       "      <td>2798</td>\n",
       "      <td>0</td>\n",
       "      <td>2.47537e+09</td>\n",
       "      <td>5.243585e-07</td>\n",
       "      <td>19.192</td>\n",
       "    </tr>\n",
       "    <tr>\n",
       "      <th>2018-01-02</th>\n",
       "      <td>10.91</td>\n",
       "      <td>0.0101393</td>\n",
       "      <td>-3.4791e-06</td>\n",
       "      <td>317.856</td>\n",
       "      <td>1614</td>\n",
       "      <td>1382</td>\n",
       "      <td>0</td>\n",
       "      <td>2.33436e+09</td>\n",
       "      <td>5.243585e-07</td>\n",
       "      <td>7.938</td>\n",
       "    </tr>\n",
       "  </tbody>\n",
       "</table>\n",
       "</div>"
      ],
      "text/plain": [
       "            ground_motion      slope    curvature   aspect  rows  cols  \\\n",
       "time                                                                     \n",
       "2018-01-02         -92.65   0.200227   0.00101186  206.844   357  2971   \n",
       "2018-01-02          19.02   0.373238     -0.00314  321.926   626   653   \n",
       "2018-01-02           5.01   0.116304 -1.13085e-05  51.2097  2197  1349   \n",
       "2018-01-02          20.63   0.115839 -0.000154432   173.87  1269  2798   \n",
       "2018-01-02          10.91  0.0101393  -3.4791e-06  317.856  1614  1382   \n",
       "\n",
       "           datasource distance_to_road  rain_intensity_mm_sec  \\\n",
       "time                                                            \n",
       "2018-01-02          0      2.50042e+09           5.243585e-07   \n",
       "2018-01-02          0      2.27253e+09           5.243585e-07   \n",
       "2018-01-02          0      2.32744e+09           5.243585e-07   \n",
       "2018-01-02          0      2.47537e+09           5.243585e-07   \n",
       "2018-01-02          0      2.33436e+09           5.243585e-07   \n",
       "\n",
       "            pred_ground_motion  \n",
       "time                            \n",
       "2018-01-02             -62.680  \n",
       "2018-01-02               2.934  \n",
       "2018-01-02              18.074  \n",
       "2018-01-02              19.192  \n",
       "2018-01-02               7.938  "
      ]
     },
     "execution_count": 22,
     "metadata": {},
     "output_type": "execute_result"
    }
   ],
   "source": [
    "pred_result_with_rain_px_source.head()"
   ]
  },
  {
   "cell_type": "code",
   "execution_count": 24,
   "metadata": {
    "scrolled": true
   },
   "outputs": [
    {
     "data": {
      "image/png": "[encoded data removed]",
      "text/plain": [
       "<Figure size 432x288 with 1 Axes>"
      ]
     },
     "metadata": {
      "needs_background": "light"
     },
     "output_type": "display_data"
    }
   ],
   "source": [
    "plt.scatter(pred_result_with_rain_px_source['ground_motion'], pred_result_with_rain_px_source['pred_ground_motion'])\n",
    "plt.xlabel(\"Observed Ground Motion (mm/yr)\")\n",
    "plt.ylabel(\"Predicted Ground Motion (mm/yr)\")\n",
    "plt.savefig(\"10mDEM_predicted_obs_ground_motion_ml.png\")"
   ]
  },
  {
   "cell_type": "code",
   "execution_count": 59,
   "metadata": {},
   "outputs": [
    {
     "data": {
      "text/plain": [
       "4"
      ]
     },
     "execution_count": 59,
     "metadata": {},
     "output_type": "execute_result"
    }
   ],
   "source": [
    "int(pred_result_with_rain_px_source.min(axis=0)['rows'])"
   ]
  },
  {
   "cell_type": "code",
   "execution_count": 61,
   "metadata": {},
   "outputs": [
    {
     "name": "stdout",
     "output_type": "stream",
     "text": [
      "            ground_motion      slope rows cols datasource distance_to_road  \\\n",
      "time                                                                         \n",
      "2018-01-02          17.04  0.0505374    4  690          0           164089   \n",
      "2018-01-08          14.89  0.0505374    4  690          0           164089   \n",
      "2018-01-14          16.44  0.0505374    4  690          0           164089   \n",
      "2018-01-20          18.65  0.0505374    4  690          0           164089   \n",
      "2018-01-26          19.33  0.0505374    4  690          0           164089   \n",
      "2018-02-01          20.45  0.0505374    4  690          0           164089   \n",
      "2018-02-07          23.79  0.0505374    4  690          0           164089   \n",
      "2018-02-13          24.55  0.0505374    4  690          0           164089   \n",
      "2018-02-19          25.82  0.0505374    4  690          0           164089   \n",
      "2018-02-25          26.26  0.0505374    4  690          0           164089   \n",
      "2018-03-03          26.28  0.0505374    4  690          0           164089   \n",
      "2018-03-09          28.43  0.0505374    4  690          0           164089   \n",
      "2018-03-15          32.64  0.0505374    4  690          0           164089   \n",
      "2018-03-21          34.51  0.0505374    4  690          0           164089   \n",
      "2018-03-27          32.47  0.0505374    4  690          0           164089   \n",
      "2018-04-02          32.38  0.0505374    4  690          0           164089   \n",
      "2018-04-08          31.95  0.0505374    4  690          0           164089   \n",
      "2018-04-14          31.80  0.0505374    4  690          0           164089   \n",
      "2018-04-20          32.28  0.0505374    4  690          0           164089   \n",
      "2018-04-26          33.79  0.0505374    4  690          0           164089   \n",
      "2018-05-02          34.22  0.0505374    4  690          0           164089   \n",
      "2018-05-08          33.09  0.0505374    4  690          0           164089   \n",
      "2018-05-14          28.13  0.0505374    4  690          0           164089   \n",
      "2018-05-20          22.93  0.0505374    4  690          0           164089   \n",
      "2018-05-26          22.85  0.0505374    4  690          0           164089   \n",
      "2018-06-01          23.99  0.0505374    4  690          0           164089   \n",
      "2018-06-07          25.63  0.0505374    4  690          0           164089   \n",
      "2018-06-13          25.34  0.0505374    4  690          0           164089   \n",
      "2018-06-19          26.09  0.0505374    4  690          0           164089   \n",
      "2018-06-25          27.90  0.0505374    4  690          0           164089   \n",
      "2018-07-01          28.52  0.0505374    4  690          0           164089   \n",
      "2018-07-07          30.18  0.0505374    4  690          0           164089   \n",
      "2018-07-13          30.29  0.0505374    4  690          0           164089   \n",
      "2018-07-19          35.07  0.0505374    4  690          0           164089   \n",
      "2018-07-31          37.72  0.0505374    4  690          0           164089   \n",
      "2018-08-06          35.28  0.0505374    4  690          0           164089   \n",
      "2018-08-12          32.46  0.0505374    4  690          0           164089   \n",
      "2018-08-18          31.58  0.0505374    4  690          0           164089   \n",
      "2018-08-24          29.52  0.0505374    4  690          0           164089   \n",
      "2018-08-30          26.26  0.0505374    4  690          0           164089   \n",
      "2018-09-05          25.33  0.0505374    4  690          0           164089   \n",
      "2018-09-11          25.25  0.0505374    4  690          0           164089   \n",
      "2018-09-17          26.01  0.0505374    4  690          0           164089   \n",
      "2018-09-23          27.20  0.0505374    4  690          0           164089   \n",
      "2018-09-29          28.80  0.0505374    4  690          0           164089   \n",
      "2018-10-05          30.92  0.0505374    4  690          0           164089   \n",
      "2018-10-11          30.57  0.0505374    4  690          0           164089   \n",
      "2018-10-17          29.00  0.0505374    4  690          0           164089   \n",
      "2018-10-23          28.78  0.0505374    4  690          0           164089   \n",
      "2018-10-29          27.19  0.0505374    4  690          0           164089   \n",
      "2018-11-04          26.27  0.0505374    4  690          0           164089   \n",
      "2018-11-10          26.05  0.0505374    4  690          0           164089   \n",
      "2018-11-16          26.54  0.0505374    4  690          0           164089   \n",
      "2018-11-22          24.13  0.0505374    4  690          0           164089   \n",
      "2018-11-28          17.54  0.0505374    4  690          0           164089   \n",
      "2018-12-04          16.80  0.0505374    4  690          0           164089   \n",
      "2018-12-10          14.40  0.0505374    4  690          0           164089   \n",
      "2018-12-16          17.22  0.0505374    4  690          0           164089   \n",
      "2018-12-22          17.60  0.0505374    4  690          0           164089   \n",
      "2018-12-28          18.82  0.0505374    4  690          0           164089   \n",
      "\n",
      "            rain_intensity_mm_sec  pred_ground_motion  \n",
      "time                                                   \n",
      "2018-01-02           5.243585e-07              20.628  \n",
      "2018-01-08           4.604749e-05              24.378  \n",
      "2018-01-14           1.622810e-04              26.122  \n",
      "2018-01-20           7.328149e-06              30.766  \n",
      "2018-01-26           1.290512e-05              29.648  \n",
      "2018-02-01           2.946725e-05              18.754  \n",
      "2018-02-07           0.000000e+00              35.794  \n",
      "2018-02-13           5.331329e-08              34.678  \n",
      "2018-02-19           0.000000e+00              35.794  \n",
      "2018-02-25           1.088610e-06              26.084  \n",
      "2018-03-03           8.747213e-08              25.600  \n",
      "2018-03-09           1.604865e-07              36.944  \n",
      "2018-03-15           1.387521e-06              23.778  \n",
      "2018-03-21           5.933314e-07              20.380  \n",
      "2018-03-27           3.709843e-08              27.422  \n",
      "2018-04-02           7.141045e-06              30.766  \n",
      "2018-04-08           1.268384e-05              29.648  \n",
      "2018-04-14           7.168012e-05              20.626  \n",
      "2018-04-20           3.285172e-06              35.776  \n",
      "2018-04-26           4.234086e-06              35.810  \n",
      "2018-05-02           2.392837e-07              25.054  \n",
      "2018-05-08           4.957972e-06              33.756  \n",
      "2018-05-14           1.260419e-05              29.648  \n",
      "2018-05-20           8.819926e-05              17.658  \n",
      "2018-05-26           2.848213e-04              23.272  \n",
      "2018-06-01           3.558666e-05              27.710  \n",
      "2018-06-07           0.000000e+00              35.794  \n",
      "2018-06-13           0.000000e+00              35.794  \n",
      "2018-06-19           0.000000e+00              35.794  \n",
      "2018-06-25           0.000000e+00              35.794  \n",
      "2018-07-01           0.000000e+00              35.794  \n",
      "2018-07-07           3.370944e-06              35.776  \n",
      "2018-07-13           2.611045e-05              18.754  \n",
      "2018-07-19           1.800602e-05              27.926  \n",
      "2018-07-31           2.495476e-09              35.794  \n",
      "2018-08-06           0.000000e+00              35.794  \n",
      "2018-08-12           0.000000e+00              35.794  \n",
      "2018-08-18           0.000000e+00              35.794  \n",
      "2018-08-24           1.086089e-04              22.556  \n",
      "2018-08-30           3.656463e-05              27.812  \n",
      "2018-09-05           4.112187e-05              24.378  \n",
      "2018-09-11           0.000000e+00              35.794  \n",
      "2018-09-17           0.000000e+00              35.794  \n",
      "2018-09-23           2.458764e-04              23.272  \n",
      "2018-09-29           0.000000e+00              35.794  \n",
      "2018-10-05           1.643590e-07              29.424  \n",
      "2018-10-11           0.000000e+00              35.794  \n",
      "2018-10-17           0.000000e+00              35.794  \n",
      "2018-10-23           0.000000e+00              35.794  \n",
      "2018-10-29           0.000000e+00              35.794  \n",
      "2018-11-04           1.144370e-04              22.556  \n",
      "2018-11-10           3.291735e-05              27.710  \n",
      "2018-11-16           1.312185e-05              29.648  \n",
      "2018-11-22           2.846778e-06              31.796  \n",
      "2018-11-28           2.546752e-05              18.754  \n",
      "2018-12-04           3.969236e-08              27.422  \n",
      "2018-12-10           9.461043e-06              24.686  \n",
      "2018-12-16           2.248211e-08              29.940  \n",
      "2018-12-22           1.898163e-04              27.516  \n",
      "2018-12-28           6.402224e-07              20.160  \n",
      "            ground_motion     slope rows cols datasource distance_to_road  \\\n",
      "time                                                                        \n",
      "2018-01-02         -16.78  0.135086  525    7          0             7690   \n",
      "2018-01-08         -14.46  0.135086  525    7          0             7690   \n",
      "2018-01-14         -14.92  0.135086  525    7          0             7690   \n",
      "2018-01-20         -16.81  0.135086  525    7          0             7690   \n",
      "2018-01-26         -18.83  0.135086  525    7          0             7690   \n",
      "2018-02-01         -21.24  0.135086  525    7          0             7690   \n",
      "2018-02-07         -24.67  0.135086  525    7          0             7690   \n",
      "2018-02-13         -24.38  0.135086  525    7          0             7690   \n",
      "2018-02-19         -25.69  0.135086  525    7          0             7690   \n",
      "2018-02-25         -24.89  0.135086  525    7          0             7690   \n",
      "2018-03-03         -23.58  0.135086  525    7          0             7690   \n",
      "2018-03-09         -25.82  0.135086  525    7          0             7690   \n",
      "2018-03-15         -23.60  0.135086  525    7          0             7690   \n",
      "2018-03-21         -23.64  0.135086  525    7          0             7690   \n",
      "2018-03-27         -23.37  0.135086  525    7          0             7690   \n",
      "2018-04-02         -22.44  0.135086  525    7          0             7690   \n",
      "2018-04-08         -21.53  0.135086  525    7          0             7690   \n",
      "2018-04-14         -21.49  0.135086  525    7          0             7690   \n",
      "2018-04-20         -23.07  0.135086  525    7          0             7690   \n",
      "2018-04-26         -26.41  0.135086  525    7          0             7690   \n",
      "2018-05-02         -28.15  0.135086  525    7          0             7690   \n",
      "2018-05-08         -27.61  0.135086  525    7          0             7690   \n",
      "2018-05-14         -30.45  0.135086  525    7          0             7690   \n",
      "2018-05-20         -32.06  0.135086  525    7          0             7690   \n",
      "2018-05-26         -33.76  0.135086  525    7          0             7690   \n",
      "2018-06-01         -34.02  0.135086  525    7          0             7690   \n",
      "2018-06-07         -34.77  0.135086  525    7          0             7690   \n",
      "2018-06-13         -34.84  0.135086  525    7          0             7690   \n",
      "2018-06-19         -33.13  0.135086  525    7          0             7690   \n",
      "2018-06-25         -29.65  0.135086  525    7          0             7690   \n",
      "2018-07-01         -28.07  0.135086  525    7          0             7690   \n",
      "2018-07-07         -30.02  0.135086  525    7          0             7690   \n",
      "2018-07-13         -31.97  0.135086  525    7          0             7690   \n",
      "2018-07-19         -33.11  0.135086  525    7          0             7690   \n",
      "2018-07-31         -31.64  0.135086  525    7          0             7690   \n",
      "2018-08-06         -30.88  0.135086  525    7          0             7690   \n",
      "2018-08-12         -27.00  0.135086  525    7          0             7690   \n",
      "2018-08-18         -29.30  0.135086  525    7          0             7690   \n",
      "2018-08-24         -30.40  0.135086  525    7          0             7690   \n",
      "2018-08-30         -30.30  0.135086  525    7          0             7690   \n",
      "2018-09-05         -31.40  0.135086  525    7          0             7690   \n",
      "2018-09-11         -26.22  0.135086  525    7          0             7690   \n",
      "2018-09-17         -25.04  0.135086  525    7          0             7690   \n",
      "2018-09-23         -22.56  0.135086  525    7          0             7690   \n",
      "2018-09-29         -18.79  0.135086  525    7          0             7690   \n",
      "2018-10-05         -14.70  0.135086  525    7          0             7690   \n",
      "2018-10-11         -15.22  0.135086  525    7          0             7690   \n",
      "2018-10-17          -9.65  0.135086  525    7          0             7690   \n",
      "2018-10-23         -10.87  0.135086  525    7          0             7690   \n",
      "2018-10-29          -8.60  0.135086  525    7          0             7690   \n",
      "2018-11-04          -8.49  0.135086  525    7          0             7690   \n",
      "2018-11-10         -10.67  0.135086  525    7          0             7690   \n",
      "2018-11-16          -4.87  0.135086  525    7          0             7690   \n",
      "2018-11-22          -5.90  0.135086  525    7          0             7690   \n",
      "2018-11-28          -8.71  0.135086  525    7          0             7690   \n",
      "2018-12-04         -15.40  0.135086  525    7          0             7690   \n",
      "2018-12-10         -17.71  0.135086  525    7          0             7690   \n",
      "2018-12-16         -20.50  0.135086  525    7          0             7690   \n",
      "2018-12-22         -18.10  0.135086  525    7          0             7690   \n",
      "2018-12-28         -18.97  0.135086  525    7          0             7690   \n",
      "\n",
      "            rain_intensity_mm_sec  pred_ground_motion  \n",
      "time                                                   \n",
      "2018-01-02           5.243585e-07             -19.554  \n",
      "2018-01-08           4.604749e-05             -15.030  \n",
      "2018-01-14           1.622810e-04             -15.194  \n",
      "2018-01-20           7.328149e-06             -13.582  \n",
      "2018-01-26           1.290512e-05             -17.596  \n",
      "2018-02-01           2.946725e-05             -14.494  \n",
      "2018-02-07           0.000000e+00             -15.702  \n",
      "2018-02-13           5.331329e-08             -16.808  \n",
      "2018-02-19           0.000000e+00             -15.702  \n",
      "2018-02-25           1.088610e-06             -15.176  \n",
      "2018-03-03           8.747213e-08             -13.902  \n",
      "2018-03-09           1.604865e-07             -16.510  \n",
      "2018-03-15           1.387521e-06             -12.592  \n",
      "2018-03-21           5.933314e-07             -17.440  \n",
      "2018-03-27           3.709843e-08             -17.212  \n",
      "2018-04-02           7.141045e-06             -13.582  \n",
      "2018-04-08           1.268384e-05             -17.596  \n",
      "2018-04-14           7.168012e-05             -15.328  \n",
      "2018-04-20           3.285172e-06             -18.300  \n",
      "2018-04-26           4.234086e-06             -16.416  \n",
      "2018-05-02           2.392837e-07             -16.504  \n",
      "2018-05-08           4.957972e-06             -15.658  \n",
      "2018-05-14           1.260419e-05             -17.596  \n",
      "2018-05-20           8.819926e-05             -14.072  \n",
      "2018-05-26           2.848213e-04             -14.470  \n",
      "2018-06-01           3.558666e-05             -14.828  \n",
      "2018-06-07           0.000000e+00             -15.702  \n",
      "2018-06-13           0.000000e+00             -15.702  \n",
      "2018-06-19           0.000000e+00             -15.702  \n",
      "2018-06-25           0.000000e+00             -15.702  \n",
      "2018-07-01           0.000000e+00             -15.702  \n",
      "2018-07-07           3.370944e-06             -18.300  \n",
      "2018-07-13           2.611045e-05             -14.494  \n",
      "2018-07-19           1.800602e-05             -12.816  \n",
      "2018-07-31           2.495476e-09             -15.702  \n",
      "2018-08-06           0.000000e+00             -15.702  \n",
      "2018-08-12           0.000000e+00             -15.702  \n",
      "2018-08-18           0.000000e+00             -15.702  \n",
      "2018-08-24           1.086089e-04             -13.428  \n",
      "2018-08-30           3.656463e-05             -14.338  \n",
      "2018-09-05           4.112187e-05             -15.030  \n",
      "2018-09-11           0.000000e+00             -15.702  \n",
      "2018-09-17           0.000000e+00             -15.702  \n",
      "2018-09-23           2.458764e-04             -14.470  \n",
      "2018-09-29           0.000000e+00             -15.702  \n",
      "2018-10-05           1.643590e-07             -16.214  \n",
      "2018-10-11           0.000000e+00             -15.702  \n",
      "2018-10-17           0.000000e+00             -15.702  \n",
      "2018-10-23           0.000000e+00             -15.702  \n",
      "2018-10-29           0.000000e+00             -15.702  \n",
      "2018-11-04           1.144370e-04             -13.428  \n",
      "2018-11-10           3.291735e-05             -14.828  \n",
      "2018-11-16           1.312185e-05             -17.596  \n",
      "2018-11-22           2.846778e-06             -17.748  \n",
      "2018-11-28           2.546752e-05             -14.494  \n",
      "2018-12-04           3.969236e-08             -17.212  \n",
      "2018-12-10           9.461043e-06             -18.354  \n",
      "2018-12-16           2.248211e-08             -16.770  \n",
      "2018-12-22           1.898163e-04             -14.502  \n",
      "2018-12-28           6.402224e-07             -17.800  \n"
     ]
    },
    {
     "name": "stdout",
     "output_type": "stream",
     "text": [
      "Empty DataFrame\n",
      "Columns: [ground_motion, slope, rows, cols, datasource, distance_to_road, rain_intensity_mm_sec, pred_ground_motion]\n",
      "Index: []\n"
     ]
    },
    {
     "ename": "ValueError",
     "evalue": "setting an array element with a sequence.",
     "output_type": "error",
     "traceback": [
      "\u001b[0;31m---------------------------------------------------------------------------\u001b[0m",
      "\u001b[0;31mValueError\u001b[0m                                Traceback (most recent call last)",
      "\u001b[0;32m<ipython-input-61-53a84d42a336>\u001b[0m in \u001b[0;36m<module>\u001b[0;34m\u001b[0m\n\u001b[1;32m      8\u001b[0m         \u001b[0mpred_gm_value\u001b[0m \u001b[0;34m=\u001b[0m \u001b[0mpred_result_with_rain_px_source\u001b[0m\u001b[0;34m.\u001b[0m\u001b[0mloc\u001b[0m\u001b[0;34m[\u001b[0m\u001b[0;34m(\u001b[0m\u001b[0mpred_result_with_rain_px_source\u001b[0m\u001b[0;34m[\u001b[0m\u001b[0;34m'cols'\u001b[0m\u001b[0;34m]\u001b[0m \u001b[0;34m==\u001b[0m \u001b[0mj\u001b[0m\u001b[0;34m)\u001b[0m \u001b[0;34m&\u001b[0m \u001b[0;34m(\u001b[0m\u001b[0mpred_result_with_rain_px_source\u001b[0m\u001b[0;34m[\u001b[0m\u001b[0;34m'rows'\u001b[0m\u001b[0;34m]\u001b[0m \u001b[0;34m==\u001b[0m \u001b[0mi\u001b[0m\u001b[0;34m)\u001b[0m\u001b[0;34m]\u001b[0m\u001b[0;34m\u001b[0m\u001b[0;34m\u001b[0m\u001b[0m\n\u001b[1;32m      9\u001b[0m         \u001b[0mprint\u001b[0m\u001b[0;34m(\u001b[0m\u001b[0mpred_gm_value\u001b[0m\u001b[0;34m)\u001b[0m\u001b[0;34m\u001b[0m\u001b[0;34m\u001b[0m\u001b[0m\n\u001b[0;32m---> 10\u001b[0;31m         \u001b[0mpred_ground_motion_arr\u001b[0m\u001b[0;34m[\u001b[0m\u001b[0mi\u001b[0m\u001b[0;34m,\u001b[0m\u001b[0mj\u001b[0m\u001b[0;34m]\u001b[0m \u001b[0;34m=\u001b[0m \u001b[0mpred_gm_value\u001b[0m\u001b[0;34m\u001b[0m\u001b[0;34m\u001b[0m\u001b[0m\n\u001b[0m",
      "\u001b[0;31mValueError\u001b[0m: setting an array element with a sequence."
     ]
    }
   ],
   "source": [
    "pred_ground_motion_arr = np.zeros((pred_result_with_rain_px_source.shape[0], pred_result_with_rain_px_source.shape[1]))\n",
    "for i in range(int(pred_result_with_rain_px_source.min(axis=0)['rows']), int(pred_result_with_rain_px_source.max(axis=0)['rows']),1):\n",
    "    for j in range(int(pred_result_with_rain_px_source.min(axis=0)['cols']), int(pred_result_with_rain_px_source.max(axis=0)['cols']),1):\n",
    "        row_value = pred_result_with_rain_px_source.loc[pred_result_with_rain_px_source['rows'] == i]\n",
    "        print(row_value)\n",
    "        col_value = pred_result_with_rain_px_source.loc[pred_result_with_rain_px_source['cols'] == j]\n",
    "        print(col_value)\n",
    "        pred_gm_value = pred_result_with_rain_px_source.loc[(pred_result_with_rain_px_source['cols'] == j) & (pred_result_with_rain_px_source['rows'] == i)]\n",
    "        print(pred_gm_value)\n",
    "        pred_ground_motion_arr[i,j] = pred_gm_value\n"
   ]
  },
  {
   "cell_type": "code",
   "execution_count": 64,
   "metadata": {},
   "outputs": [],
   "source": [
    "# Group data first by year, then by month\n",
    "g = pred_result_with_rain_px_source.groupby([\"time\"])\n",
    "\n",
    "# For each group, calculate the average of only the snow_depth column\n",
    "monthly_averages = g.aggregate({\"pred_ground_motion\":np.mean})"
   ]
  },
  {
   "cell_type": "code",
   "execution_count": null,
   "metadata": {},
   "outputs": [],
   "source": [
    "monthly_averages"
   ]
  },
  {
   "cell_type": "code",
   "execution_count": null,
   "metadata": {},
   "outputs": [],
   "source": [
    "plt.imshow(pred_result_with_rain_px_source['pred_ground_motion'])"
   ]
  },
  {
   "cell_type": "code",
   "execution_count": null,
   "metadata": {},
   "outputs": [],
   "source": [
    "# get time passed dataframe\n",
    "df = pd.DataFrame(index=result_with_rain.index.values, columns=['time since'])\n",
    "\n",
    "basedate = pd.Timestamp('2014-12-31')\n",
    "df['time since'] = df.apply(lambda x: (x.name.to_pydatetime() - basedate).days, axis=1)\n",
    "result_with_rain['time_since'] = df['time since']"
   ]
  },
  {
   "cell_type": "code",
   "execution_count": null,
   "metadata": {},
   "outputs": [],
   "source": [
    "plt.scatter(df['time since'], result_with_rain['ground_motion'])"
   ]
  },
  {
   "cell_type": "code",
   "execution_count": 28,
   "metadata": {},
   "outputs": [],
   "source": [
    "df_threshold = result_with_rain[result_with_rain['ground_motion'] >= 80]\n"
   ]
  },
  {
   "cell_type": "code",
   "execution_count": 29,
   "metadata": {},
   "outputs": [
    {
     "data": {
      "text/plain": [
       "<matplotlib.collections.PathCollection at 0x7f45ab441dd8>"
      ]
     },
     "execution_count": 29,
     "metadata": {},
     "output_type": "execute_result"
    },
    {
     "data": {
      "image/png": "[encoded data removed]",
      "text/plain": [
       "<Figure size 432x288 with 1 Axes>"
      ]
     },
     "metadata": {
      "needs_background": "light"
     },
     "output_type": "display_data"
    }
   ],
   "source": [
    "plt.scatter(df_threshold['slope'], df_threshold['ground_motion'])"
   ]
  },
  {
   "cell_type": "code",
   "execution_count": null,
   "metadata": {},
   "outputs": [],
   "source": [
    "plt.hist(df_threshold['slope'])"
   ]
  },
  {
   "cell_type": "code",
   "execution_count": 91,
   "metadata": {},
   "outputs": [
    {
     "data": {
      "text/html": [
       "<div>\n",
       "<style scoped>\n",
       "    .dataframe tbody tr th:only-of-type {\n",
       "        vertical-align: middle;\n",
       "    }\n",
       "\n",
       "    .dataframe tbody tr th {\n",
       "        vertical-align: top;\n",
       "    }\n",
       "\n",
       "    .dataframe thead th {\n",
       "        text-align: right;\n",
       "    }\n",
       "</style>\n",
       "<table border=\"1\" class=\"dataframe\">\n",
       "  <thead>\n",
       "    <tr style=\"text-align: right;\">\n",
       "      <th></th>\n",
       "      <th>ground_motion</th>\n",
       "      <th>slope</th>\n",
       "      <th>distance_to_road</th>\n",
       "      <th>rain_intensity_mm_sec</th>\n",
       "      <th>time_since</th>\n",
       "    </tr>\n",
       "    <tr>\n",
       "      <th>time</th>\n",
       "      <th></th>\n",
       "      <th></th>\n",
       "      <th></th>\n",
       "      <th></th>\n",
       "      <th></th>\n",
       "    </tr>\n",
       "  </thead>\n",
       "  <tbody>\n",
       "    <tr>\n",
       "      <th>2015-03-25</th>\n",
       "      <td>82.24</td>\n",
       "      <td>0.124795</td>\n",
       "      <td>54965</td>\n",
       "      <td>1.413031e-04</td>\n",
       "      <td>84</td>\n",
       "    </tr>\n",
       "    <tr>\n",
       "      <th>2015-04-06</th>\n",
       "      <td>86.17</td>\n",
       "      <td>0.076304</td>\n",
       "      <td>38530</td>\n",
       "      <td>1.639528e-06</td>\n",
       "      <td>96</td>\n",
       "    </tr>\n",
       "    <tr>\n",
       "      <th>2015-04-06</th>\n",
       "      <td>91.49</td>\n",
       "      <td>0.124795</td>\n",
       "      <td>54965</td>\n",
       "      <td>1.639528e-06</td>\n",
       "      <td>96</td>\n",
       "    </tr>\n",
       "    <tr>\n",
       "      <th>2015-04-30</th>\n",
       "      <td>87.91</td>\n",
       "      <td>0.0600391</td>\n",
       "      <td>86193</td>\n",
       "      <td>9.664785e-08</td>\n",
       "      <td>120</td>\n",
       "    </tr>\n",
       "    <tr>\n",
       "      <th>2015-04-30</th>\n",
       "      <td>82.12</td>\n",
       "      <td>0.127192</td>\n",
       "      <td>135865</td>\n",
       "      <td>9.664785e-08</td>\n",
       "      <td>120</td>\n",
       "    </tr>\n",
       "  </tbody>\n",
       "</table>\n",
       "</div>"
      ],
      "text/plain": [
       "            ground_motion      slope distance_to_road  rain_intensity_mm_sec  \\\n",
       "time                                                                           \n",
       "2015-03-25          82.24   0.124795            54965           1.413031e-04   \n",
       "2015-04-06          86.17   0.076304            38530           1.639528e-06   \n",
       "2015-04-06          91.49   0.124795            54965           1.639528e-06   \n",
       "2015-04-30          87.91  0.0600391            86193           9.664785e-08   \n",
       "2015-04-30          82.12   0.127192           135865           9.664785e-08   \n",
       "\n",
       "            time_since  \n",
       "time                    \n",
       "2015-03-25          84  \n",
       "2015-04-06          96  \n",
       "2015-04-06          96  \n",
       "2015-04-30         120  \n",
       "2015-04-30         120  "
      ]
     },
     "execution_count": 91,
     "metadata": {},
     "output_type": "execute_result"
    }
   ],
   "source": [
    "df_threshold.head()"
   ]
  },
  {
   "cell_type": "code",
   "execution_count": null,
   "metadata": {},
   "outputs": [],
   "source": []
  }
 ],
 "metadata": {
  "kernelspec": {
   "display_name": "Python 3",
   "language": "python",
   "name": "python3"
  },
  "language_info": {
   "codemirror_mode": {
    "name": "ipython",
    "version": 3
   },
   "file_extension": ".py",
   "mimetype": "text/x-python",
   "name": "python",
   "nbconvert_exporter": "python",
   "pygments_lexer": "ipython3",
   "version": "3.6.8"
  }
 },
 "nbformat": 4,
 "nbformat_minor": 2
}
